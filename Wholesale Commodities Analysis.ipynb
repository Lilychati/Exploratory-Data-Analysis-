{
 "cells": [
  {
   "cell_type": "code",
   "execution_count": 26,
   "id": "6b105bcd",
   "metadata": {},
   "outputs": [],
   "source": [
    "# Import libraries\n",
    "import pandas as pd\n",
    "import numpy as np\n",
    "import matplotlib.pyplot as plt\n",
    "import seaborn as sns"
   ]
  },
  {
   "cell_type": "code",
   "execution_count": 27,
   "id": "48dc793b",
   "metadata": {},
   "outputs": [
    {
     "data": {
      "text/html": [
       "<div>\n",
       "<style scoped>\n",
       "    .dataframe tbody tr th:only-of-type {\n",
       "        vertical-align: middle;\n",
       "    }\n",
       "\n",
       "    .dataframe tbody tr th {\n",
       "        vertical-align: top;\n",
       "    }\n",
       "\n",
       "    .dataframe thead th {\n",
       "        text-align: right;\n",
       "    }\n",
       "</style>\n",
       "<table border=\"1\" class=\"dataframe\">\n",
       "  <thead>\n",
       "    <tr style=\"text-align: right;\">\n",
       "      <th></th>\n",
       "      <th>YEAR</th>\n",
       "      <th>MONTH</th>\n",
       "      <th>COMMODITY</th>\n",
       "      <th>WEIGHT, KG PER BAG</th>\n",
       "      <th>PRICE, ¢ GH</th>\n",
       "    </tr>\n",
       "  </thead>\n",
       "  <tbody>\n",
       "    <tr>\n",
       "      <th>0</th>\n",
       "      <td>2008</td>\n",
       "      <td>JANUARY</td>\n",
       "      <td>MAIZE</td>\n",
       "      <td>100</td>\n",
       "      <td>13.694</td>\n",
       "    </tr>\n",
       "    <tr>\n",
       "      <th>1</th>\n",
       "      <td>2008</td>\n",
       "      <td>FEBRUARY</td>\n",
       "      <td>MAIZE</td>\n",
       "      <td>100</td>\n",
       "      <td>13.066</td>\n",
       "    </tr>\n",
       "    <tr>\n",
       "      <th>2</th>\n",
       "      <td>2008</td>\n",
       "      <td>MARCH</td>\n",
       "      <td>MAIZE</td>\n",
       "      <td>100</td>\n",
       "      <td>14.043</td>\n",
       "    </tr>\n",
       "    <tr>\n",
       "      <th>3</th>\n",
       "      <td>2008</td>\n",
       "      <td>APRIL</td>\n",
       "      <td>MAIZE</td>\n",
       "      <td>100</td>\n",
       "      <td>14.947</td>\n",
       "    </tr>\n",
       "    <tr>\n",
       "      <th>4</th>\n",
       "      <td>2008</td>\n",
       "      <td>MAY</td>\n",
       "      <td>MAIZE</td>\n",
       "      <td>100</td>\n",
       "      <td>14.808</td>\n",
       "    </tr>\n",
       "  </tbody>\n",
       "</table>\n",
       "</div>"
      ],
      "text/plain": [
       "   YEAR     MONTH COMMODITY  WEIGHT, KG PER BAG   PRICE, ¢ GH\n",
       "0  2008   JANUARY     MAIZE                 100        13.694\n",
       "1  2008  FEBRUARY     MAIZE                 100        13.066\n",
       "2  2008     MARCH     MAIZE                 100        14.043\n",
       "3  2008     APRIL     MAIZE                 100        14.947\n",
       "4  2008       MAY     MAIZE                 100        14.808"
      ]
     },
     "execution_count": 27,
     "metadata": {},
     "output_type": "execute_result"
    }
   ],
   "source": [
    "#Importing datasets\n",
    "nat_ws_price = 'NATIONAL WHOLESALE PRICE OF SOME SELECTED COMMODITIES.csv'\n",
    "nat_ws_price_df = pd.read_csv(nat_ws_price,encoding='unicode_escape')\n",
    "nat_ws_price_df.head()\n"
   ]
  },
  {
   "cell_type": "code",
   "execution_count": 28,
   "id": "c9e66e9a",
   "metadata": {},
   "outputs": [
    {
     "data": {
      "text/html": [
       "<div>\n",
       "<style scoped>\n",
       "    .dataframe tbody tr th:only-of-type {\n",
       "        vertical-align: middle;\n",
       "    }\n",
       "\n",
       "    .dataframe tbody tr th {\n",
       "        vertical-align: top;\n",
       "    }\n",
       "\n",
       "    .dataframe thead th {\n",
       "        text-align: right;\n",
       "    }\n",
       "</style>\n",
       "<table border=\"1\" class=\"dataframe\">\n",
       "  <thead>\n",
       "    <tr style=\"text-align: right;\">\n",
       "      <th></th>\n",
       "      <th>YEAR</th>\n",
       "      <th>WEIGHT, KG PER BAG</th>\n",
       "      <th>PRICE, ¢ GH</th>\n",
       "    </tr>\n",
       "  </thead>\n",
       "  <tbody>\n",
       "    <tr>\n",
       "      <th>count</th>\n",
       "      <td>720.000000</td>\n",
       "      <td>720.000000</td>\n",
       "      <td>720.000000</td>\n",
       "    </tr>\n",
       "    <tr>\n",
       "      <th>mean</th>\n",
       "      <td>2012.491667</td>\n",
       "      <td>123.833333</td>\n",
       "      <td>113.982091</td>\n",
       "    </tr>\n",
       "    <tr>\n",
       "      <th>std</th>\n",
       "      <td>2.871361</td>\n",
       "      <td>56.759258</td>\n",
       "      <td>162.115749</td>\n",
       "    </tr>\n",
       "    <tr>\n",
       "      <th>min</th>\n",
       "      <td>2008.000000</td>\n",
       "      <td>91.000000</td>\n",
       "      <td>0.007000</td>\n",
       "    </tr>\n",
       "    <tr>\n",
       "      <th>25%</th>\n",
       "      <td>2010.000000</td>\n",
       "      <td>93.000000</td>\n",
       "      <td>15.141000</td>\n",
       "    </tr>\n",
       "    <tr>\n",
       "      <th>50%</th>\n",
       "      <td>2012.500000</td>\n",
       "      <td>100.000000</td>\n",
       "      <td>52.390000</td>\n",
       "    </tr>\n",
       "    <tr>\n",
       "      <th>75%</th>\n",
       "      <td>2015.000000</td>\n",
       "      <td>109.000000</td>\n",
       "      <td>140.122500</td>\n",
       "    </tr>\n",
       "    <tr>\n",
       "      <th>max</th>\n",
       "      <td>2017.000000</td>\n",
       "      <td>250.000000</td>\n",
       "      <td>920.550000</td>\n",
       "    </tr>\n",
       "  </tbody>\n",
       "</table>\n",
       "</div>"
      ],
      "text/plain": [
       "              YEAR  WEIGHT, KG PER BAG   PRICE, ¢ GH\n",
       "count   720.000000          720.000000    720.000000\n",
       "mean   2012.491667          123.833333    113.982091\n",
       "std       2.871361           56.759258    162.115749\n",
       "min    2008.000000           91.000000      0.007000\n",
       "25%    2010.000000           93.000000     15.141000\n",
       "50%    2012.500000          100.000000     52.390000\n",
       "75%    2015.000000          109.000000    140.122500\n",
       "max    2017.000000          250.000000    920.550000"
      ]
     },
     "execution_count": 28,
     "metadata": {},
     "output_type": "execute_result"
    }
   ],
   "source": [
    "#getting the descriptive statistics of the dataset \n",
    "nat_ws_price_df.describe()"
   ]
  },
  {
   "cell_type": "code",
   "execution_count": 29,
   "id": "1967b182",
   "metadata": {},
   "outputs": [
    {
     "name": "stdout",
     "output_type": "stream",
     "text": [
      "<class 'pandas.core.frame.DataFrame'>\n",
      "RangeIndex: 720 entries, 0 to 719\n",
      "Data columns (total 5 columns):\n",
      " #   Column              Non-Null Count  Dtype  \n",
      "---  ------              --------------  -----  \n",
      " 0   YEAR                720 non-null    int64  \n",
      " 1   MONTH               720 non-null    object \n",
      " 2   COMMODITY           720 non-null    object \n",
      " 3   WEIGHT, KG PER BAG  720 non-null    int64  \n",
      " 4    PRICE, ¢ GH        720 non-null    float64\n",
      "dtypes: float64(1), int64(2), object(2)\n",
      "memory usage: 28.2+ KB\n"
     ]
    }
   ],
   "source": [
    "#cleaning the dataset\n",
    "nat_ws_price_df.info()"
   ]
  },
  {
   "cell_type": "markdown",
   "id": "02ed84a8",
   "metadata": {},
   "source": [
    "There are no null values or missing values so we can go ahead and do an analysis of the dataset"
   ]
  },
  {
   "cell_type": "markdown",
   "id": "107af349",
   "metadata": {},
   "source": [
    "# Univariate Analysis"
   ]
  },
  {
   "cell_type": "markdown",
   "id": "3d761803",
   "metadata": {},
   "source": [
    "##  Nationwide Dataset Analysis "
   ]
  },
  {
   "cell_type": "code",
   "execution_count": 30,
   "id": "51b77b64",
   "metadata": {},
   "outputs": [
    {
     "data": {
      "text/plain": [
       "Index(['YEAR', 'MONTH', 'COMMODITY', 'WEIGHT, KG PER BAG', ' PRICE, ¢ GH'], dtype='object')"
      ]
     },
     "execution_count": 30,
     "metadata": {},
     "output_type": "execute_result"
    }
   ],
   "source": [
    "# calling the coulmns and finding out what categories they are.\n",
    "nat_ws_price_df.columns"
   ]
  },
  {
   "cell_type": "markdown",
   "id": "516f6b15",
   "metadata": {},
   "source": [
    "We have 5 columns in total. For the columns 'YEAR', 'MONTH', 'COMMODITY', and 'WEIGHT, KG PER BAG', we would perform a value_count on them as they do not contain numerical values. Though the **'YEAR'** and **'WEIGHT, KG PER BAG'** columns contains numbers these figures have a consistent trend(there are no differences in them to be able to carry out further analysis). For the ' PRICE, ¢ GH' column we would do a non graphical and graphical analysis on it."
   ]
  },
  {
   "cell_type": "markdown",
   "id": "d3197a29",
   "metadata": {},
   "source": [
    "## Year Analysis\n"
   ]
  },
  {
   "cell_type": "code",
   "execution_count": 31,
   "id": "756bcd97",
   "metadata": {},
   "outputs": [
    {
     "data": {
      "text/plain": [
       "2013    78\n",
       "2008    72\n",
       "2009    72\n",
       "2010    72\n",
       "2011    72\n",
       "2012    72\n",
       "2015    72\n",
       "2016    72\n",
       "2017    72\n",
       "2014    66\n",
       "Name: YEAR, dtype: int64"
      ]
     },
     "execution_count": 31,
     "metadata": {},
     "output_type": "execute_result"
    }
   ],
   "source": [
    "#getting the value count of year column\n",
    "nat_ws_price_df.YEAR.value_counts()"
   ]
  },
  {
   "cell_type": "markdown",
   "id": "ff0a4b21",
   "metadata": {},
   "source": [
    "The year **2013** is 78 and **2014** is also 66 but they both need to be 72\n"
   ]
  },
  {
   "cell_type": "code",
   "execution_count": 32,
   "id": "947b8a21",
   "metadata": {},
   "outputs": [
    {
     "data": {
      "text/html": [
       "<div>\n",
       "<style scoped>\n",
       "    .dataframe tbody tr th:only-of-type {\n",
       "        vertical-align: middle;\n",
       "    }\n",
       "\n",
       "    .dataframe tbody tr th {\n",
       "        vertical-align: top;\n",
       "    }\n",
       "\n",
       "    .dataframe thead th {\n",
       "        text-align: right;\n",
       "    }\n",
       "</style>\n",
       "<table border=\"1\" class=\"dataframe\">\n",
       "  <thead>\n",
       "    <tr style=\"text-align: right;\">\n",
       "      <th></th>\n",
       "      <th>YEAR</th>\n",
       "      <th>MONTH</th>\n",
       "      <th>COMMODITY</th>\n",
       "      <th>WEIGHT, KG PER BAG</th>\n",
       "      <th>PRICE, ¢ GH</th>\n",
       "    </tr>\n",
       "  </thead>\n",
       "  <tbody>\n",
       "    <tr>\n",
       "      <th>60</th>\n",
       "      <td>2013</td>\n",
       "      <td>JANUARY</td>\n",
       "      <td>MAIZE</td>\n",
       "      <td>100</td>\n",
       "      <td>33.436</td>\n",
       "    </tr>\n",
       "    <tr>\n",
       "      <th>61</th>\n",
       "      <td>2013</td>\n",
       "      <td>FEBRUARY</td>\n",
       "      <td>MAIZE</td>\n",
       "      <td>100</td>\n",
       "      <td>34.731</td>\n",
       "    </tr>\n",
       "    <tr>\n",
       "      <th>62</th>\n",
       "      <td>2013</td>\n",
       "      <td>MARCH</td>\n",
       "      <td>MAIZE</td>\n",
       "      <td>100</td>\n",
       "      <td>35.125</td>\n",
       "    </tr>\n",
       "    <tr>\n",
       "      <th>63</th>\n",
       "      <td>2013</td>\n",
       "      <td>APRIL</td>\n",
       "      <td>MAIZE</td>\n",
       "      <td>100</td>\n",
       "      <td>34.793</td>\n",
       "    </tr>\n",
       "    <tr>\n",
       "      <th>64</th>\n",
       "      <td>2013</td>\n",
       "      <td>MAY</td>\n",
       "      <td>MAIZE</td>\n",
       "      <td>100</td>\n",
       "      <td>36.110</td>\n",
       "    </tr>\n",
       "    <tr>\n",
       "      <th>65</th>\n",
       "      <td>2013</td>\n",
       "      <td>JUNE</td>\n",
       "      <td>MAIZE</td>\n",
       "      <td>100</td>\n",
       "      <td>42.802</td>\n",
       "    </tr>\n",
       "    <tr>\n",
       "      <th>66</th>\n",
       "      <td>2013</td>\n",
       "      <td>JULY</td>\n",
       "      <td>MAIZE</td>\n",
       "      <td>100</td>\n",
       "      <td>44.508</td>\n",
       "    </tr>\n",
       "    <tr>\n",
       "      <th>67</th>\n",
       "      <td>2013</td>\n",
       "      <td>AUGUST</td>\n",
       "      <td>MAIZE</td>\n",
       "      <td>100</td>\n",
       "      <td>47.169</td>\n",
       "    </tr>\n",
       "    <tr>\n",
       "      <th>68</th>\n",
       "      <td>2013</td>\n",
       "      <td>SEPTEMBER</td>\n",
       "      <td>MAIZE</td>\n",
       "      <td>100</td>\n",
       "      <td>46.624</td>\n",
       "    </tr>\n",
       "    <tr>\n",
       "      <th>69</th>\n",
       "      <td>2013</td>\n",
       "      <td>OCTOBER</td>\n",
       "      <td>MAIZE</td>\n",
       "      <td>100</td>\n",
       "      <td>50.594</td>\n",
       "    </tr>\n",
       "    <tr>\n",
       "      <th>70</th>\n",
       "      <td>2013</td>\n",
       "      <td>NOVEMBER</td>\n",
       "      <td>MAIZE</td>\n",
       "      <td>100</td>\n",
       "      <td>53.694</td>\n",
       "    </tr>\n",
       "    <tr>\n",
       "      <th>71</th>\n",
       "      <td>2013</td>\n",
       "      <td>DECEMBER</td>\n",
       "      <td>MAIZE</td>\n",
       "      <td>100</td>\n",
       "      <td>53.457</td>\n",
       "    </tr>\n",
       "    <tr>\n",
       "      <th>72</th>\n",
       "      <td>2013</td>\n",
       "      <td>JANUARY</td>\n",
       "      <td>MAIZE</td>\n",
       "      <td>100</td>\n",
       "      <td>58.915</td>\n",
       "    </tr>\n",
       "    <tr>\n",
       "      <th>180</th>\n",
       "      <td>2013</td>\n",
       "      <td>JANUARY</td>\n",
       "      <td>MILLET</td>\n",
       "      <td>93</td>\n",
       "      <td>9.075</td>\n",
       "    </tr>\n",
       "    <tr>\n",
       "      <th>181</th>\n",
       "      <td>2013</td>\n",
       "      <td>FEBRUARY</td>\n",
       "      <td>MILLET</td>\n",
       "      <td>93</td>\n",
       "      <td>9.173</td>\n",
       "    </tr>\n",
       "  </tbody>\n",
       "</table>\n",
       "</div>"
      ],
      "text/plain": [
       "     YEAR      MONTH COMMODITY  WEIGHT, KG PER BAG   PRICE, ¢ GH\n",
       "60   2013    JANUARY     MAIZE                 100        33.436\n",
       "61   2013   FEBRUARY     MAIZE                 100        34.731\n",
       "62   2013      MARCH     MAIZE                 100        35.125\n",
       "63   2013      APRIL     MAIZE                 100        34.793\n",
       "64   2013        MAY     MAIZE                 100        36.110\n",
       "65   2013       JUNE     MAIZE                 100        42.802\n",
       "66   2013       JULY     MAIZE                 100        44.508\n",
       "67   2013     AUGUST     MAIZE                 100        47.169\n",
       "68   2013  SEPTEMBER     MAIZE                 100        46.624\n",
       "69   2013    OCTOBER     MAIZE                 100        50.594\n",
       "70   2013   NOVEMBER     MAIZE                 100        53.694\n",
       "71   2013   DECEMBER     MAIZE                 100        53.457\n",
       "72   2013    JANUARY     MAIZE                 100        58.915\n",
       "180  2013    JANUARY    MILLET                  93         9.075\n",
       "181  2013   FEBRUARY    MILLET                  93         9.173"
      ]
     },
     "execution_count": 32,
     "metadata": {},
     "output_type": "execute_result"
    }
   ],
   "source": [
    "#checking to see where the error is\n",
    "nat_ws_price_df.loc[nat_ws_price_df['YEAR']==2013].head(15)"
   ]
  },
  {
   "cell_type": "markdown",
   "id": "0f449b67",
   "metadata": {},
   "source": [
    "2013 January is duplicated and 2014 has no January.\n",
    "To fix the error, we would take a template of one of the correct years(Year 2016) and replace it with the year '2013' and '2014'"
   ]
  },
  {
   "cell_type": "code",
   "execution_count": 33,
   "id": "3a867400",
   "metadata": {},
   "outputs": [],
   "source": [
    "#to drop the 2013 and 2014 rows , the drop function won't help in this case so we would use the loc function(which deletes by selecting the data we want t o keep)\n",
    "nat_ws_price_df = nat_ws_price_df.loc[(nat_ws_price_df['YEAR'] != 2013) & (nat_ws_price_df['YEAR'] != 2014)]\n",
    "\n",
    "#NB: do not use == for the code it will delete the data you want to keep. "
   ]
  },
  {
   "cell_type": "markdown",
   "id": "c7a22b9a",
   "metadata": {},
   "source": [
    "Let's check if the YEAR 2013 and 2014 have been dropped"
   ]
  },
  {
   "cell_type": "code",
   "execution_count": 34,
   "id": "9b3be0fd",
   "metadata": {},
   "outputs": [
    {
     "data": {
      "text/plain": [
       "2008    72\n",
       "2009    72\n",
       "2010    72\n",
       "2011    72\n",
       "2012    72\n",
       "2015    72\n",
       "2016    72\n",
       "2017    72\n",
       "Name: YEAR, dtype: int64"
      ]
     },
     "execution_count": 34,
     "metadata": {},
     "output_type": "execute_result"
    }
   ],
   "source": [
    "nat_ws_price_df.YEAR.value_counts()"
   ]
  },
  {
   "cell_type": "markdown",
   "id": "f24b7f59",
   "metadata": {},
   "source": [
    "We can se that 2013 and 2014 have been dropped now we have to replace them with the 2016 year template.\n",
    "To do that we would create two dataframes from the 2016 year and replace 2016 with 2013 an 2014 respectively"
   ]
  },
  {
   "cell_type": "code",
   "execution_count": 35,
   "id": "8aa50edd",
   "metadata": {},
   "outputs": [],
   "source": [
    "# creating year 2013 and 2014 data\n",
    "yr_2013_data = nat_ws_price_df.loc[nat_ws_price_df['YEAR'] == 2015].replace(2015, 2013)\n",
    "yr_2014_data = nat_ws_price_df.loc[nat_ws_price_df['YEAR'] == 2015].replace(2015, 2014)\n",
    "#NB: if the dataframe name is nat_ws_price_df, this will alter the dataframe to just 2013 year data."
   ]
  },
  {
   "cell_type": "markdown",
   "id": "275c54f1",
   "metadata": {},
   "source": [
    "Now that we have the newly created data for Year 2013 and 2014 we have to add it to the dataframe(nat_ws_price_df)"
   ]
  },
  {
   "cell_type": "code",
   "execution_count": 36,
   "id": "86ddef30",
   "metadata": {},
   "outputs": [],
   "source": [
    "#adding 2013 and 2014 data to nat_ws_price_df\n",
    "#NB: we concatenate not merge the data, IF THE CODE IS PASSED WITHOUT sorted it returns this error:AttributeError: 'DataFrame' object has no attribute 'concat'\n",
    "nat_ws_price_df = pd.concat([nat_ws_price_df, yr_2013_data, yr_2014_data]).sort_values('YEAR')"
   ]
  },
  {
   "cell_type": "code",
   "execution_count": 37,
   "id": "f138bd5a",
   "metadata": {},
   "outputs": [
    {
     "data": {
      "text/plain": [
       "2008    72\n",
       "2009    72\n",
       "2010    72\n",
       "2011    72\n",
       "2012    72\n",
       "2013    72\n",
       "2014    72\n",
       "2015    72\n",
       "2016    72\n",
       "2017    72\n",
       "Name: YEAR, dtype: int64"
      ]
     },
     "execution_count": 37,
     "metadata": {},
     "output_type": "execute_result"
    }
   ],
   "source": [
    "nat_ws_price_df.YEAR.value_counts()"
   ]
  },
  {
   "cell_type": "markdown",
   "id": "98670d50",
   "metadata": {},
   "source": [
    "## Month Analysis\n"
   ]
  },
  {
   "cell_type": "code",
   "execution_count": 38,
   "id": "6f727018",
   "metadata": {},
   "outputs": [
    {
     "data": {
      "text/plain": [
       "JANUARY      60\n",
       "MARCH        60\n",
       "APRIL        60\n",
       "MAY          60\n",
       "JUNE         60\n",
       "JULY         60\n",
       "AUGUST       60\n",
       "SEPTEMBER    60\n",
       "OCTOBER      60\n",
       "NOVEMBER     60\n",
       "FEBRUARY     60\n",
       "DECEMBER     60\n",
       "Name: MONTH, dtype: int64"
      ]
     },
     "execution_count": 38,
     "metadata": {},
     "output_type": "execute_result"
    }
   ],
   "source": [
    "nat_ws_price_df.MONTH.value_counts()"
   ]
  },
  {
   "cell_type": "markdown",
   "id": "4ebb12b0",
   "metadata": {},
   "source": [
    "## Commodity Analysis"
   ]
  },
  {
   "cell_type": "code",
   "execution_count": 39,
   "id": "a63377c1",
   "metadata": {},
   "outputs": [
    {
     "data": {
      "text/plain": [
       "MAIZE         120\n",
       "SORGHUM       120\n",
       "YAM           120\n",
       "LOCAL RICE    120\n",
       "MILLET        120\n",
       "COCOYAM       120\n",
       "Name: COMMODITY, dtype: int64"
      ]
     },
     "execution_count": 39,
     "metadata": {},
     "output_type": "execute_result"
    }
   ],
   "source": [
    "nat_ws_price_df.COMMODITY.value_counts()"
   ]
  },
  {
   "cell_type": "markdown",
   "id": "a0975dd0",
   "metadata": {},
   "source": [
    "There are 6 types of crops that we are analysing\n"
   ]
  },
  {
   "cell_type": "markdown",
   "id": "a153f03f",
   "metadata": {},
   "source": [
    "## Weight Analysis"
   ]
  },
  {
   "cell_type": "code",
   "execution_count": 41,
   "id": "546a82ae",
   "metadata": {},
   "outputs": [
    {
     "data": {
      "text/plain": [
       "100    240\n",
       "109    120\n",
       "250    120\n",
       "93     120\n",
       "91     120\n",
       "Name: WEIGHT, KG PER BAG, dtype: int64"
      ]
     },
     "execution_count": 41,
     "metadata": {},
     "output_type": "execute_result"
    }
   ],
   "source": [
    "nat_ws_price_df['WEIGHT, KG PER BAG'].value_counts()"
   ]
  },
  {
   "cell_type": "markdown",
   "id": "dca415ce",
   "metadata": {},
   "source": [
    "**We would later find out which commodity weighs what and to see if produce with high weigts resulted in higher prices if produce with lesser weights resulted in much prices then we should invest in producing more of that. Just to see the produce people consumed most.**"
   ]
  },
  {
   "cell_type": "markdown",
   "id": "c7f936f8",
   "metadata": {},
   "source": [
    "### Price"
   ]
  },
  {
   "cell_type": "code",
   "execution_count": 42,
   "id": "ceec8fce",
   "metadata": {},
   "outputs": [
    {
     "data": {
      "image/png": "[encoded data removed]",
      "text/plain": [
       "<Figure size 432x288 with 1 Axes>"
      ]
     },
     "metadata": {
      "needs_background": "light"
     },
     "output_type": "display_data"
    }
   ],
   "source": [
    "#Because this is a numerical column we woud do a a histogram and boxplot analysis of the price column \n",
    "plt.hist(nat_ws_price_df[' PRICE, ¢ GH'], bins = 15)\n",
    "plt.show()"
   ]
  },
  {
   "cell_type": "code",
   "execution_count": 43,
   "id": "343f000a",
   "metadata": {},
   "outputs": [
    {
     "data": {
      "image/png": "[encoded data removed]",
      "text/plain": [
       "<Figure size 432x288 with 1 Axes>"
      ]
     },
     "metadata": {
      "needs_background": "light"
     },
     "output_type": "display_data"
    }
   ],
   "source": [
    "plt.boxplot(nat_ws_price_df[' PRICE, ¢ GH'])\n",
    "plt.show()"
   ]
  },
  {
   "cell_type": "code",
   "execution_count": 44,
   "id": "a2291db6",
   "metadata": {},
   "outputs": [
    {
     "name": "stdout",
     "output_type": "stream",
     "text": [
      "327.59475\n"
     ]
    }
   ],
   "source": [
    "#There are a alot of outliers lets see the outlier range\n",
    "# Useful parameters\n",
    "price_first_quartile = 15.141000\n",
    "price_second_quartile = 52.390000\n",
    "price_third_quartile = 140.122500\n",
    "price_mean = 140.122500\n",
    "price_IQR = price_third_quartile - price_first_quartile\n",
    "price_outlier_range = price_third_quartile + (1.5 * price_IQR)\n",
    "print(price_outlier_range)"
   ]
  },
  {
   "cell_type": "code",
   "execution_count": 45,
   "id": "60cb6a70",
   "metadata": {},
   "outputs": [
    {
     "data": {
      "text/plain": [
       "368"
      ]
     },
     "execution_count": 45,
     "metadata": {},
     "output_type": "execute_result"
    }
   ],
   "source": [
    "len(nat_ws_price_df.loc[nat_ws_price_df[' PRICE, ¢ GH'] > price_second_quartile])"
   ]
  },
  {
   "cell_type": "markdown",
   "id": "94a51599",
   "metadata": {},
   "source": [
    "**368(51%)** of the commodities have their prices greater than the median(140.01). **This implies that more than half of all the commodities have high prices.**  "
   ]
  },
  {
   "cell_type": "markdown",
   "id": "776e5f22",
   "metadata": {},
   "source": [
    "## MULTIVARIATE ANALYSIS"
   ]
  },
  {
   "cell_type": "code",
   "execution_count": 46,
   "id": "e1aea971",
   "metadata": {},
   "outputs": [],
   "source": [
    "#multivariate analysis on the  year and price column to see if there was a decline on increase in price over the years"
   ]
  },
  {
   "cell_type": "code",
   "execution_count": 21,
   "id": "0656d167",
   "metadata": {},
   "outputs": [
    {
     "data": {
      "text/plain": [
       "YEAR\n",
       "2008     8510.1800\n",
       "2009    10346.7510\n",
       "2010    11188.0400\n",
       "2011     3419.0220\n",
       "2012     4734.8210\n",
       "2013     7870.1391\n",
       "2014     7870.1391\n",
       "2015     7870.1391\n",
       "2016    11001.6510\n",
       "2017    12653.3621\n",
       "Name:  PRICE, ¢ GH, dtype: float64"
      ]
     },
     "execution_count": 21,
     "metadata": {},
     "output_type": "execute_result"
    }
   ],
   "source": [
    "nat_ws_price_df.groupby(['YEAR'])[' PRICE, ¢ GH'].sum()"
   ]
  },
  {
   "cell_type": "markdown",
   "id": "9cc11fbb",
   "metadata": {},
   "source": [
    "**2011** had the **lowest sales** and **2017** had the **highest sales**. Sales from 2008 to 2010 had a steady growth but in 2011(which is the lowest sales recored) there was a decline but sales gradually increased over the subsequent years from 2012 till 2017(which is highest sales reecorded)"
   ]
  },
  {
   "cell_type": "code",
   "execution_count": 22,
   "id": "5bdfdb32",
   "metadata": {},
   "outputs": [
    {
     "name": "stderr",
     "output_type": "stream",
     "text": [
      "C:\\Users\\Lillian\\AppData\\Local\\Temp/ipykernel_17364/2671295210.py:3: FutureWarning: Indexing with multiple keys (implicitly converted to a tuple of keys) will be deprecated, use a list instead.\n",
      "  nat_ws_price_df.groupby(['YEAR'])['WEIGHT, KG PER BAG',' PRICE, ¢ GH'].agg([\"sum\", \"min\", \"max\", \"mean\"])\n"
     ]
    },
    {
     "data": {
      "text/html": [
       "<div>\n",
       "<style scoped>\n",
       "    .dataframe tbody tr th:only-of-type {\n",
       "        vertical-align: middle;\n",
       "    }\n",
       "\n",
       "    .dataframe tbody tr th {\n",
       "        vertical-align: top;\n",
       "    }\n",
       "\n",
       "    .dataframe thead tr th {\n",
       "        text-align: left;\n",
       "    }\n",
       "\n",
       "    .dataframe thead tr:last-of-type th {\n",
       "        text-align: right;\n",
       "    }\n",
       "</style>\n",
       "<table border=\"1\" class=\"dataframe\">\n",
       "  <thead>\n",
       "    <tr>\n",
       "      <th></th>\n",
       "      <th colspan=\"4\" halign=\"left\">WEIGHT, KG PER BAG</th>\n",
       "      <th colspan=\"4\" halign=\"left\">PRICE, ¢ GH</th>\n",
       "    </tr>\n",
       "    <tr>\n",
       "      <th></th>\n",
       "      <th>sum</th>\n",
       "      <th>min</th>\n",
       "      <th>max</th>\n",
       "      <th>mean</th>\n",
       "      <th>sum</th>\n",
       "      <th>min</th>\n",
       "      <th>max</th>\n",
       "      <th>mean</th>\n",
       "    </tr>\n",
       "    <tr>\n",
       "      <th>YEAR</th>\n",
       "      <th></th>\n",
       "      <th></th>\n",
       "      <th></th>\n",
       "      <th></th>\n",
       "      <th></th>\n",
       "      <th></th>\n",
       "      <th></th>\n",
       "      <th></th>\n",
       "    </tr>\n",
       "  </thead>\n",
       "  <tbody>\n",
       "    <tr>\n",
       "      <th>2008</th>\n",
       "      <td>8916</td>\n",
       "      <td>91</td>\n",
       "      <td>250</td>\n",
       "      <td>123.833333</td>\n",
       "      <td>8510.1800</td>\n",
       "      <td>0.131</td>\n",
       "      <td>689.87</td>\n",
       "      <td>118.196944</td>\n",
       "    </tr>\n",
       "    <tr>\n",
       "      <th>2009</th>\n",
       "      <td>8916</td>\n",
       "      <td>91</td>\n",
       "      <td>250</td>\n",
       "      <td>123.833333</td>\n",
       "      <td>10346.7510</td>\n",
       "      <td>3.317</td>\n",
       "      <td>920.55</td>\n",
       "      <td>143.704875</td>\n",
       "    </tr>\n",
       "    <tr>\n",
       "      <th>2010</th>\n",
       "      <td>8916</td>\n",
       "      <td>91</td>\n",
       "      <td>250</td>\n",
       "      <td>123.833333</td>\n",
       "      <td>11188.0400</td>\n",
       "      <td>4.382</td>\n",
       "      <td>884.20</td>\n",
       "      <td>155.389444</td>\n",
       "    </tr>\n",
       "    <tr>\n",
       "      <th>2011</th>\n",
       "      <td>8916</td>\n",
       "      <td>91</td>\n",
       "      <td>250</td>\n",
       "      <td>123.833333</td>\n",
       "      <td>3419.0220</td>\n",
       "      <td>0.007</td>\n",
       "      <td>202.10</td>\n",
       "      <td>47.486417</td>\n",
       "    </tr>\n",
       "    <tr>\n",
       "      <th>2012</th>\n",
       "      <td>8916</td>\n",
       "      <td>91</td>\n",
       "      <td>250</td>\n",
       "      <td>123.833333</td>\n",
       "      <td>4734.8210</td>\n",
       "      <td>0.010</td>\n",
       "      <td>280.46</td>\n",
       "      <td>65.761403</td>\n",
       "    </tr>\n",
       "    <tr>\n",
       "      <th>2013</th>\n",
       "      <td>8916</td>\n",
       "      <td>91</td>\n",
       "      <td>250</td>\n",
       "      <td>123.833333</td>\n",
       "      <td>7870.1391</td>\n",
       "      <td>0.010</td>\n",
       "      <td>378.35</td>\n",
       "      <td>109.307488</td>\n",
       "    </tr>\n",
       "    <tr>\n",
       "      <th>2014</th>\n",
       "      <td>8916</td>\n",
       "      <td>91</td>\n",
       "      <td>250</td>\n",
       "      <td>123.833333</td>\n",
       "      <td>7870.1391</td>\n",
       "      <td>0.010</td>\n",
       "      <td>378.35</td>\n",
       "      <td>109.307488</td>\n",
       "    </tr>\n",
       "    <tr>\n",
       "      <th>2015</th>\n",
       "      <td>8916</td>\n",
       "      <td>91</td>\n",
       "      <td>250</td>\n",
       "      <td>123.833333</td>\n",
       "      <td>7870.1391</td>\n",
       "      <td>0.010</td>\n",
       "      <td>378.35</td>\n",
       "      <td>109.307488</td>\n",
       "    </tr>\n",
       "    <tr>\n",
       "      <th>2016</th>\n",
       "      <td>8916</td>\n",
       "      <td>91</td>\n",
       "      <td>250</td>\n",
       "      <td>123.833333</td>\n",
       "      <td>11001.6510</td>\n",
       "      <td>0.010</td>\n",
       "      <td>524.89</td>\n",
       "      <td>152.800708</td>\n",
       "    </tr>\n",
       "    <tr>\n",
       "      <th>2017</th>\n",
       "      <td>8916</td>\n",
       "      <td>91</td>\n",
       "      <td>250</td>\n",
       "      <td>123.833333</td>\n",
       "      <td>12653.3621</td>\n",
       "      <td>0.020</td>\n",
       "      <td>637.65</td>\n",
       "      <td>175.741140</td>\n",
       "    </tr>\n",
       "  </tbody>\n",
       "</table>\n",
       "</div>"
      ],
      "text/plain": [
       "     WEIGHT, KG PER BAG                       PRICE, ¢ GH                 \\\n",
       "                    sum min  max        mean          sum    min     max   \n",
       "YEAR                                                                       \n",
       "2008               8916  91  250  123.833333    8510.1800  0.131  689.87   \n",
       "2009               8916  91  250  123.833333   10346.7510  3.317  920.55   \n",
       "2010               8916  91  250  123.833333   11188.0400  4.382  884.20   \n",
       "2011               8916  91  250  123.833333    3419.0220  0.007  202.10   \n",
       "2012               8916  91  250  123.833333    4734.8210  0.010  280.46   \n",
       "2013               8916  91  250  123.833333    7870.1391  0.010  378.35   \n",
       "2014               8916  91  250  123.833333    7870.1391  0.010  378.35   \n",
       "2015               8916  91  250  123.833333    7870.1391  0.010  378.35   \n",
       "2016               8916  91  250  123.833333   11001.6510  0.010  524.89   \n",
       "2017               8916  91  250  123.833333   12653.3621  0.020  637.65   \n",
       "\n",
       "                  \n",
       "            mean  \n",
       "YEAR              \n",
       "2008  118.196944  \n",
       "2009  143.704875  \n",
       "2010  155.389444  \n",
       "2011   47.486417  \n",
       "2012   65.761403  \n",
       "2013  109.307488  \n",
       "2014  109.307488  \n",
       "2015  109.307488  \n",
       "2016  152.800708  \n",
       "2017  175.741140  "
      ]
     },
     "execution_count": 22,
     "metadata": {},
     "output_type": "execute_result"
    }
   ],
   "source": [
    "#Finding out if the weight of produce made per YEAR, affects the sales in a year\n",
    "\n",
    "nat_ws_price_df.groupby(['YEAR'])['WEIGHT, KG PER BAG',' PRICE, ¢ GH'].agg([\"sum\", \"min\", \"max\", \"mean\"])"
   ]
  },
  {
   "cell_type": "markdown",
   "id": "5291347c",
   "metadata": {},
   "source": [
    "We can see that the weight across the various years is the same except for 2014 and 2013. The mean, maximum and minimum weight is the same across all Years. W\n",
    "\n",
    "THINGS TO INVESTIGATE:1. Why then was there a decline in 2011 though the same weight was produces in previous years\n",
    "    \n",
    "2. What resulted in  the increase from 2012 to 2017 considering the same weight was produced.\n",
    "    "
   ]
  },
  {
   "cell_type": "markdown",
   "id": "8341f7c4",
   "metadata": {},
   "source": [
    "Finding out if there price is affected by the type of commodity"
   ]
  },
  {
   "cell_type": "code",
   "execution_count": 47,
   "id": "fa0ebeb0",
   "metadata": {},
   "outputs": [
    {
     "name": "stderr",
     "output_type": "stream",
     "text": [
      "C:\\Users\\Lillian\\AppData\\Local\\Temp/ipykernel_17364/2894854534.py:2: FutureWarning: Indexing with multiple keys (implicitly converted to a tuple of keys) will be deprecated, use a list instead.\n",
      "  nat_ws_price_df.groupby(['COMMODITY'])['WEIGHT, KG PER BAG',' PRICE, ¢ GH'].sum()\n"
     ]
    },
    {
     "data": {
      "text/html": [
       "<div>\n",
       "<style scoped>\n",
       "    .dataframe tbody tr th:only-of-type {\n",
       "        vertical-align: middle;\n",
       "    }\n",
       "\n",
       "    .dataframe tbody tr th {\n",
       "        vertical-align: top;\n",
       "    }\n",
       "\n",
       "    .dataframe thead th {\n",
       "        text-align: right;\n",
       "    }\n",
       "</style>\n",
       "<table border=\"1\" class=\"dataframe\">\n",
       "  <thead>\n",
       "    <tr style=\"text-align: right;\">\n",
       "      <th></th>\n",
       "      <th>WEIGHT, KG PER BAG</th>\n",
       "      <th>PRICE, ¢ GH</th>\n",
       "    </tr>\n",
       "    <tr>\n",
       "      <th>COMMODITY</th>\n",
       "      <th></th>\n",
       "      <th></th>\n",
       "    </tr>\n",
       "  </thead>\n",
       "  <tbody>\n",
       "    <tr>\n",
       "      <th>COCOYAM</th>\n",
       "      <td>10920</td>\n",
       "      <td>12849.5300</td>\n",
       "    </tr>\n",
       "    <tr>\n",
       "      <th>LOCAL RICE</th>\n",
       "      <td>12000</td>\n",
       "      <td>10191.9633</td>\n",
       "    </tr>\n",
       "    <tr>\n",
       "      <th>MAIZE</th>\n",
       "      <td>12000</td>\n",
       "      <td>6401.0251</td>\n",
       "    </tr>\n",
       "    <tr>\n",
       "      <th>MILLET</th>\n",
       "      <td>11160</td>\n",
       "      <td>1485.9590</td>\n",
       "    </tr>\n",
       "    <tr>\n",
       "      <th>SORGHUM</th>\n",
       "      <td>13080</td>\n",
       "      <td>22703.7570</td>\n",
       "    </tr>\n",
       "    <tr>\n",
       "      <th>YAM</th>\n",
       "      <td>30000</td>\n",
       "      <td>31832.0100</td>\n",
       "    </tr>\n",
       "  </tbody>\n",
       "</table>\n",
       "</div>"
      ],
      "text/plain": [
       "            WEIGHT, KG PER BAG   PRICE, ¢ GH\n",
       "COMMODITY                                   \n",
       "COCOYAM                  10920    12849.5300\n",
       "LOCAL RICE               12000    10191.9633\n",
       "MAIZE                    12000     6401.0251\n",
       "MILLET                   11160     1485.9590\n",
       "SORGHUM                  13080    22703.7570\n",
       "YAM                      30000    31832.0100"
      ]
     },
     "execution_count": 47,
     "metadata": {},
     "output_type": "execute_result"
    }
   ],
   "source": [
    "#plotting Commodity against weight and Price\n",
    "nat_ws_price_df.groupby(['COMMODITY'])['WEIGHT, KG PER BAG',' PRICE, ¢ GH'].sum()"
   ]
  },
  {
   "cell_type": "code",
   "execution_count": 49,
   "id": "dd4875cc",
   "metadata": {
    "scrolled": true
   },
   "outputs": [
    {
     "name": "stderr",
     "output_type": "stream",
     "text": [
      "C:\\Users\\Lillian\\AppData\\Local\\Temp/ipykernel_17364/3626243613.py:1: FutureWarning: Indexing with multiple keys (implicitly converted to a tuple of keys) will be deprecated, use a list instead.\n",
      "  nat_ws_price_df.groupby(['COMMODITY'])['WEIGHT, KG PER BAG',' PRICE, ¢ GH'].sum().plot(kind='pie', subplots=True, shadow = True,startangle=90,figsize=(15,10),\n"
     ]
    },
    {
     "data": {
      "image/png": "[encoded data removed]",
      "text/plain": [
       "<Figure size 1080x720 with 2 Axes>"
      ]
     },
     "metadata": {},
     "output_type": "display_data"
    }
   ],
   "source": [
    "nat_ws_price_df.groupby(['COMMODITY'])['WEIGHT, KG PER BAG',' PRICE, ¢ GH'].sum().plot(kind='pie', subplots=True, shadow = True,startangle=90,figsize=(15,10), \n",
    "                                        autopct='%1.1f%%')\n",
    "plt.show()"
   ]
  },
  {
   "cell_type": "markdown",
   "id": "771daa09",
   "metadata": {},
   "source": [
    "Local Rice contributes to 13.5% of the weight but yields 11.9% in prices\n",
    "Yam contributes to 33.6% of the weight but yields 36.9% in prices\n",
    "Cocoyam contributes to 12.2% of the weight but yields 14.9% in prices\n",
    "Maize contributes to 13.5% of the weight but yields 6.9% in prices \n",
    "Millet contributes to 12.5% of the weight but yields 1.5% in prices \n",
    "Sorghum contributes to 14.7% of the weight but yields 27.7% in prices \n",
    "\n",
    "**We can see that Maize and Millet are nod yielding much prices as compared to weight produced . But though Sorghum contributes just a litlle above Maize and Millet in weight, it's the second highest in prices yield**. \n"
   ]
  },
  {
   "cell_type": "code",
   "execution_count": 50,
   "id": "110e668c",
   "metadata": {},
   "outputs": [
    {
     "data": {
      "text/html": [
       "<style type=\"text/css\">\n",
       "#T_5179a_row0_col0, #T_5179a_row1_col1, #T_5179a_row2_col2 {\n",
       "  background-color: #023858;\n",
       "  color: #f1f1f1;\n",
       "}\n",
       "#T_5179a_row0_col1, #T_5179a_row0_col2, #T_5179a_row1_col0 {\n",
       "  background-color: #fff7fb;\n",
       "  color: #000000;\n",
       "}\n",
       "#T_5179a_row1_col2 {\n",
       "  background-color: #a4bcda;\n",
       "  color: #000000;\n",
       "}\n",
       "#T_5179a_row2_col0 {\n",
       "  background-color: #f6eff7;\n",
       "  color: #000000;\n",
       "}\n",
       "#T_5179a_row2_col1 {\n",
       "  background-color: #94b6d7;\n",
       "  color: #000000;\n",
       "}\n",
       "</style>\n",
       "<table id=\"T_5179a_\">\n",
       "  <thead>\n",
       "    <tr>\n",
       "      <th class=\"blank level0\" >&nbsp;</th>\n",
       "      <th class=\"col_heading level0 col0\" >YEAR</th>\n",
       "      <th class=\"col_heading level0 col1\" >WEIGHT, KG PER BAG</th>\n",
       "      <th class=\"col_heading level0 col2\" > PRICE, ¢ GH</th>\n",
       "    </tr>\n",
       "  </thead>\n",
       "  <tbody>\n",
       "    <tr>\n",
       "      <th id=\"T_5179a_level0_row0\" class=\"row_heading level0 row0\" >YEAR</th>\n",
       "      <td id=\"T_5179a_row0_col0\" class=\"data row0 col0\" >1.000000</td>\n",
       "      <td id=\"T_5179a_row0_col1\" class=\"data row0 col1\" >-0.000000</td>\n",
       "      <td id=\"T_5179a_row0_col2\" class=\"data row0 col2\" >0.061601</td>\n",
       "    </tr>\n",
       "    <tr>\n",
       "      <th id=\"T_5179a_level0_row1\" class=\"row_heading level0 row1\" >WEIGHT, KG PER BAG</th>\n",
       "      <td id=\"T_5179a_row1_col0\" class=\"data row1 col0\" >-0.000000</td>\n",
       "      <td id=\"T_5179a_row1_col1\" class=\"data row1 col1\" >1.000000</td>\n",
       "      <td id=\"T_5179a_row1_col2\" class=\"data row1 col2\" >0.420618</td>\n",
       "    </tr>\n",
       "    <tr>\n",
       "      <th id=\"T_5179a_level0_row2\" class=\"row_heading level0 row2\" > PRICE, ¢ GH</th>\n",
       "      <td id=\"T_5179a_row2_col0\" class=\"data row2 col0\" >0.061601</td>\n",
       "      <td id=\"T_5179a_row2_col1\" class=\"data row2 col1\" >0.420618</td>\n",
       "      <td id=\"T_5179a_row2_col2\" class=\"data row2 col2\" >1.000000</td>\n",
       "    </tr>\n",
       "  </tbody>\n",
       "</table>\n"
      ],
      "text/plain": [
       "<pandas.io.formats.style.Styler at 0x1ae43df79a0>"
      ]
     },
     "execution_count": 50,
     "metadata": {},
     "output_type": "execute_result"
    }
   ],
   "source": [
    "corr = nat_ws_price_df.corr()\n",
    "corr.style.background_gradient()"
   ]
  },
  {
   "cell_type": "markdown",
   "id": "9c46ba0d",
   "metadata": {},
   "source": [
    "All columns have high correlation except the YEAR column"
   ]
  },
  {
   "cell_type": "code",
   "execution_count": null,
   "id": "60bd8da5",
   "metadata": {},
   "outputs": [],
   "source": []
  }
 ],
 "metadata": {
  "kernelspec": {
   "display_name": "Python 3 (ipykernel)",
   "language": "python",
   "name": "python3"
  },
  "language_info": {
   "codemirror_mode": {
    "name": "ipython",
    "version": 3
   },
   "file_extension": ".py",
   "mimetype": "text/x-python",
   "name": "python",
   "nbconvert_exporter": "python",
   "pygments_lexer": "ipython3",
   "version": "3.9.7"
  }
 },
 "nbformat": 4,
 "nbformat_minor": 5
}
