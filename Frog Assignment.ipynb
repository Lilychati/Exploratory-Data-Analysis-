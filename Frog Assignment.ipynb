{
 "cells": [
  {
   "cell_type": "markdown",
   "id": "fe0f0ef2",
   "metadata": {},
   "source": [
    "# Exploratory Data Analysis on Frog Dataset"
   ]
  },
  {
   "cell_type": "markdown",
   "id": "45dd8215",
   "metadata": {},
   "source": [
    "### Importing Libraries"
   ]
  },
  {
   "cell_type": "code",
   "execution_count": 1,
   "id": "8ee0897a",
   "metadata": {},
   "outputs": [],
   "source": [
    "#Importing libraries\n",
    "import pandas as pd\n",
    "import numpy as np\n",
    "from datetime import datetime\n",
    "import seaborn as sns\n",
    "import matplotlib.pyplot as plt\n",
    "import math\n",
    "from sklearn import preprocessing\n",
    "from sklearn.preprocessing import OneHotEncoder\n",
    "from sklearn.model_selection import train_test_split\n",
    "from sklearn.neighbors import KNeighborsClassifier\n",
    "from sklearn.preprocessing import StandardScaler\n",
    "from sklearn.metrics import accuracy_score, classification_report, confusion_matrix"
   ]
  },
  {
   "cell_type": "markdown",
   "id": "6a439ff1",
   "metadata": {},
   "source": [
    "### Importing datasets"
   ]
  },
  {
   "cell_type": "code",
   "execution_count": 2,
   "id": "942bde04",
   "metadata": {},
   "outputs": [
    {
     "data": {
      "text/html": [
       "<div>\n",
       "<style scoped>\n",
       "    .dataframe tbody tr th:only-of-type {\n",
       "        vertical-align: middle;\n",
       "    }\n",
       "\n",
       "    .dataframe tbody tr th {\n",
       "        vertical-align: top;\n",
       "    }\n",
       "\n",
       "    .dataframe thead th {\n",
       "        text-align: right;\n",
       "    }\n",
       "</style>\n",
       "<table border=\"1\" class=\"dataframe\">\n",
       "  <thead>\n",
       "    <tr style=\"text-align: right;\">\n",
       "      <th></th>\n",
       "      <th>Unnamed: 0</th>\n",
       "      <th>gbifID</th>\n",
       "      <th>eventDate</th>\n",
       "      <th>country</th>\n",
       "      <th>continent</th>\n",
       "      <th>stateProvince</th>\n",
       "      <th>decimalLatitude</th>\n",
       "      <th>decimalLongitude</th>\n",
       "      <th>species</th>\n",
       "    </tr>\n",
       "  </thead>\n",
       "  <tbody>\n",
       "    <tr>\n",
       "      <th>0</th>\n",
       "      <td>0</td>\n",
       "      <td>2574007008</td>\n",
       "      <td>2020-01-23 01:38:00</td>\n",
       "      <td>Australia</td>\n",
       "      <td>Australia</td>\n",
       "      <td>New South Wales</td>\n",
       "      <td>-32.719457</td>\n",
       "      <td>152.159267</td>\n",
       "      <td>Litoria Fallax</td>\n",
       "    </tr>\n",
       "    <tr>\n",
       "      <th>1</th>\n",
       "      <td>1</td>\n",
       "      <td>3457021422</td>\n",
       "      <td>2010-03-14 22:23:00</td>\n",
       "      <td>Costa Rica</td>\n",
       "      <td>Central America</td>\n",
       "      <td>Puntarenas</td>\n",
       "      <td>8.496999</td>\n",
       "      <td>-83.318613</td>\n",
       "      <td>Agalychnis Callidryas</td>\n",
       "    </tr>\n",
       "    <tr>\n",
       "      <th>2</th>\n",
       "      <td>2</td>\n",
       "      <td>1571195309</td>\n",
       "      <td>2014-04-11 19:51:57</td>\n",
       "      <td>Costa Rica</td>\n",
       "      <td>Central America</td>\n",
       "      <td>Heredia</td>\n",
       "      <td>10.450801</td>\n",
       "      <td>-84.068659</td>\n",
       "      <td>Agalychnis Callidryas</td>\n",
       "    </tr>\n",
       "    <tr>\n",
       "      <th>3</th>\n",
       "      <td>3</td>\n",
       "      <td>2265778539</td>\n",
       "      <td>2018-07-21 21:24:21</td>\n",
       "      <td>Costa Rica</td>\n",
       "      <td>Central America</td>\n",
       "      <td>Puntarenas</td>\n",
       "      <td>9.756705</td>\n",
       "      <td>-84.613363</td>\n",
       "      <td>Agalychnis Callidryas</td>\n",
       "    </tr>\n",
       "    <tr>\n",
       "      <th>4</th>\n",
       "      <td>4</td>\n",
       "      <td>3407962690</td>\n",
       "      <td>2021-10-29 13:57:00</td>\n",
       "      <td>Australia</td>\n",
       "      <td>Australia</td>\n",
       "      <td>Queensland</td>\n",
       "      <td>-26.714302</td>\n",
       "      <td>152.815096</td>\n",
       "      <td>Litoria Fallax</td>\n",
       "    </tr>\n",
       "    <tr>\n",
       "      <th>...</th>\n",
       "      <td>...</td>\n",
       "      <td>...</td>\n",
       "      <td>...</td>\n",
       "      <td>...</td>\n",
       "      <td>...</td>\n",
       "      <td>...</td>\n",
       "      <td>...</td>\n",
       "      <td>...</td>\n",
       "      <td>...</td>\n",
       "    </tr>\n",
       "    <tr>\n",
       "      <th>193786</th>\n",
       "      <td>193786</td>\n",
       "      <td>1322002619</td>\n",
       "      <td>NaT</td>\n",
       "      <td>Panama</td>\n",
       "      <td>Central America</td>\n",
       "      <td>Panamá</td>\n",
       "      <td>8.806900</td>\n",
       "      <td>-79.515300</td>\n",
       "      <td>Dendrobates Auratus</td>\n",
       "    </tr>\n",
       "    <tr>\n",
       "      <th>193787</th>\n",
       "      <td>193787</td>\n",
       "      <td>1319899134</td>\n",
       "      <td>1937-04-01 00:00:00</td>\n",
       "      <td>Panama</td>\n",
       "      <td>Central America</td>\n",
       "      <td>Panamá</td>\n",
       "      <td>8.806900</td>\n",
       "      <td>-79.515300</td>\n",
       "      <td>Dendrobates Auratus</td>\n",
       "    </tr>\n",
       "    <tr>\n",
       "      <th>193788</th>\n",
       "      <td>193788</td>\n",
       "      <td>1318901755</td>\n",
       "      <td>1937-04-05 00:00:00</td>\n",
       "      <td>Panama</td>\n",
       "      <td>Central America</td>\n",
       "      <td>Panamá</td>\n",
       "      <td>8.791700</td>\n",
       "      <td>-79.561100</td>\n",
       "      <td>Dendrobates Auratus</td>\n",
       "    </tr>\n",
       "    <tr>\n",
       "      <th>193789</th>\n",
       "      <td>193789</td>\n",
       "      <td>1322299951</td>\n",
       "      <td>2002-07-09 00:00:00</td>\n",
       "      <td>Honduras</td>\n",
       "      <td>Central America</td>\n",
       "      <td>Gracias a Dios</td>\n",
       "      <td>15.091100</td>\n",
       "      <td>-83.557800</td>\n",
       "      <td>Agalychnis Callidryas</td>\n",
       "    </tr>\n",
       "    <tr>\n",
       "      <th>193790</th>\n",
       "      <td>193790</td>\n",
       "      <td>1320529451</td>\n",
       "      <td>2001-10-11 00:00:00</td>\n",
       "      <td>Honduras</td>\n",
       "      <td>Central America</td>\n",
       "      <td>Gracias a Dios</td>\n",
       "      <td>14.927500</td>\n",
       "      <td>-84.533900</td>\n",
       "      <td>Agalychnis Callidryas</td>\n",
       "    </tr>\n",
       "  </tbody>\n",
       "</table>\n",
       "<p>193791 rows × 9 columns</p>\n",
       "</div>"
      ],
      "text/plain": [
       "        Unnamed: 0      gbifID           eventDate     country  \\\n",
       "0                0  2574007008 2020-01-23 01:38:00   Australia   \n",
       "1                1  3457021422 2010-03-14 22:23:00  Costa Rica   \n",
       "2                2  1571195309 2014-04-11 19:51:57  Costa Rica   \n",
       "3                3  2265778539 2018-07-21 21:24:21  Costa Rica   \n",
       "4                4  3407962690 2021-10-29 13:57:00   Australia   \n",
       "...            ...         ...                 ...         ...   \n",
       "193786      193786  1322002619                 NaT      Panama   \n",
       "193787      193787  1319899134 1937-04-01 00:00:00      Panama   \n",
       "193788      193788  1318901755 1937-04-05 00:00:00      Panama   \n",
       "193789      193789  1322299951 2002-07-09 00:00:00    Honduras   \n",
       "193790      193790  1320529451 2001-10-11 00:00:00    Honduras   \n",
       "\n",
       "              continent    stateProvince  decimalLatitude  decimalLongitude  \\\n",
       "0             Australia  New South Wales       -32.719457        152.159267   \n",
       "1       Central America       Puntarenas         8.496999        -83.318613   \n",
       "2       Central America          Heredia        10.450801        -84.068659   \n",
       "3       Central America       Puntarenas         9.756705        -84.613363   \n",
       "4             Australia       Queensland       -26.714302        152.815096   \n",
       "...                 ...              ...              ...               ...   \n",
       "193786  Central America           Panamá         8.806900        -79.515300   \n",
       "193787  Central America           Panamá         8.806900        -79.515300   \n",
       "193788  Central America           Panamá         8.791700        -79.561100   \n",
       "193789  Central America   Gracias a Dios        15.091100        -83.557800   \n",
       "193790  Central America   Gracias a Dios        14.927500        -84.533900   \n",
       "\n",
       "                      species  \n",
       "0              Litoria Fallax  \n",
       "1       Agalychnis Callidryas  \n",
       "2       Agalychnis Callidryas  \n",
       "3       Agalychnis Callidryas  \n",
       "4              Litoria Fallax  \n",
       "...                       ...  \n",
       "193786    Dendrobates Auratus  \n",
       "193787    Dendrobates Auratus  \n",
       "193788    Dendrobates Auratus  \n",
       "193789  Agalychnis Callidryas  \n",
       "193790  Agalychnis Callidryas  \n",
       "\n",
       "[193791 rows x 9 columns]"
      ]
     },
     "execution_count": 2,
     "metadata": {},
     "output_type": "execute_result"
    }
   ],
   "source": [
    "#importing dataset 1\n",
    "all_frog_data = 'C:/Users/Lillian/OneDrive/Desktop/DataSciencebootcamp'\n",
    "data1 = pd.read_excel('all_frog_data.xlsx', parse_dates=['eventDate'])\n",
    "data1"
   ]
  },
  {
   "cell_type": "code",
   "execution_count": 3,
   "id": "97b203d5",
   "metadata": {},
   "outputs": [
    {
     "data": {
      "text/html": [
       "<div>\n",
       "<style scoped>\n",
       "    .dataframe tbody tr th:only-of-type {\n",
       "        vertical-align: middle;\n",
       "    }\n",
       "\n",
       "    .dataframe tbody tr th {\n",
       "        vertical-align: top;\n",
       "    }\n",
       "\n",
       "    .dataframe thead th {\n",
       "        text-align: right;\n",
       "    }\n",
       "</style>\n",
       "<table border=\"1\" class=\"dataframe\">\n",
       "  <thead>\n",
       "    <tr style=\"text-align: right;\">\n",
       "      <th></th>\n",
       "      <th>Unnamed: 0</th>\n",
       "      <th>gbifID</th>\n",
       "      <th>country</th>\n",
       "      <th>continent</th>\n",
       "      <th>decimalLatitude</th>\n",
       "      <th>decimalLongitude</th>\n",
       "      <th>species</th>\n",
       "      <th>occurrenceStatus</th>\n",
       "      <th>key</th>\n",
       "      <th>ppt_mean</th>\n",
       "      <th>soil_mean</th>\n",
       "      <th>tmax_mean</th>\n",
       "      <th>tmin_mean</th>\n",
       "    </tr>\n",
       "  </thead>\n",
       "  <tbody>\n",
       "    <tr>\n",
       "      <th>0</th>\n",
       "      <td>0</td>\n",
       "      <td>2574007008</td>\n",
       "      <td>Australia</td>\n",
       "      <td>Australia</td>\n",
       "      <td>-32.719457</td>\n",
       "      <td>152.159267</td>\n",
       "      <td>Litoria Fallax</td>\n",
       "      <td>1</td>\n",
       "      <td>0</td>\n",
       "      <td>96.00000</td>\n",
       "      <td>118.71667</td>\n",
       "      <td>23.830004</td>\n",
       "      <td>13.908336</td>\n",
       "    </tr>\n",
       "    <tr>\n",
       "      <th>1</th>\n",
       "      <td>1</td>\n",
       "      <td>3457021422</td>\n",
       "      <td>Costa Rica</td>\n",
       "      <td>Central America</td>\n",
       "      <td>8.496999</td>\n",
       "      <td>-83.318613</td>\n",
       "      <td>Agalychnis Callidryas</td>\n",
       "      <td>0</td>\n",
       "      <td>1</td>\n",
       "      <td>231.51666</td>\n",
       "      <td>131.88333</td>\n",
       "      <td>31.841667</td>\n",
       "      <td>21.111668</td>\n",
       "    </tr>\n",
       "    <tr>\n",
       "      <th>2</th>\n",
       "      <td>2</td>\n",
       "      <td>1571195309</td>\n",
       "      <td>Costa Rica</td>\n",
       "      <td>Central America</td>\n",
       "      <td>10.450801</td>\n",
       "      <td>-84.068659</td>\n",
       "      <td>Agalychnis Callidryas</td>\n",
       "      <td>0</td>\n",
       "      <td>2</td>\n",
       "      <td>279.20000</td>\n",
       "      <td>51.70000</td>\n",
       "      <td>31.341671</td>\n",
       "      <td>22.455004</td>\n",
       "    </tr>\n",
       "    <tr>\n",
       "      <th>3</th>\n",
       "      <td>3</td>\n",
       "      <td>2265778539</td>\n",
       "      <td>Costa Rica</td>\n",
       "      <td>Central America</td>\n",
       "      <td>9.756705</td>\n",
       "      <td>-84.613363</td>\n",
       "      <td>Agalychnis Callidryas</td>\n",
       "      <td>0</td>\n",
       "      <td>3</td>\n",
       "      <td>192.10000</td>\n",
       "      <td>171.81667</td>\n",
       "      <td>31.043331</td>\n",
       "      <td>20.061670</td>\n",
       "    </tr>\n",
       "    <tr>\n",
       "      <th>4</th>\n",
       "      <td>4</td>\n",
       "      <td>3407962690</td>\n",
       "      <td>Australia</td>\n",
       "      <td>Australia</td>\n",
       "      <td>-26.714302</td>\n",
       "      <td>152.815096</td>\n",
       "      <td>Litoria Fallax</td>\n",
       "      <td>1</td>\n",
       "      <td>4</td>\n",
       "      <td>84.80000</td>\n",
       "      <td>111.61667</td>\n",
       "      <td>25.933338</td>\n",
       "      <td>13.801668</td>\n",
       "    </tr>\n",
       "    <tr>\n",
       "      <th>...</th>\n",
       "      <td>...</td>\n",
       "      <td>...</td>\n",
       "      <td>...</td>\n",
       "      <td>...</td>\n",
       "      <td>...</td>\n",
       "      <td>...</td>\n",
       "      <td>...</td>\n",
       "      <td>...</td>\n",
       "      <td>...</td>\n",
       "      <td>...</td>\n",
       "      <td>...</td>\n",
       "      <td>...</td>\n",
       "      <td>...</td>\n",
       "    </tr>\n",
       "    <tr>\n",
       "      <th>193786</th>\n",
       "      <td>193786</td>\n",
       "      <td>1322002619</td>\n",
       "      <td>Panama</td>\n",
       "      <td>Central America</td>\n",
       "      <td>8.806900</td>\n",
       "      <td>-79.515300</td>\n",
       "      <td>Dendrobates Auratus</td>\n",
       "      <td>0</td>\n",
       "      <td>193786</td>\n",
       "      <td>158.16667</td>\n",
       "      <td>214.81667</td>\n",
       "      <td>31.203335</td>\n",
       "      <td>24.071667</td>\n",
       "    </tr>\n",
       "    <tr>\n",
       "      <th>193787</th>\n",
       "      <td>193787</td>\n",
       "      <td>1319899134</td>\n",
       "      <td>Panama</td>\n",
       "      <td>Central America</td>\n",
       "      <td>8.806900</td>\n",
       "      <td>-79.515300</td>\n",
       "      <td>Dendrobates Auratus</td>\n",
       "      <td>0</td>\n",
       "      <td>193787</td>\n",
       "      <td>158.16667</td>\n",
       "      <td>214.81667</td>\n",
       "      <td>31.203335</td>\n",
       "      <td>24.071667</td>\n",
       "    </tr>\n",
       "    <tr>\n",
       "      <th>193788</th>\n",
       "      <td>193788</td>\n",
       "      <td>1318901755</td>\n",
       "      <td>Panama</td>\n",
       "      <td>Central America</td>\n",
       "      <td>8.791700</td>\n",
       "      <td>-79.561100</td>\n",
       "      <td>Dendrobates Auratus</td>\n",
       "      <td>0</td>\n",
       "      <td>193788</td>\n",
       "      <td>158.16667</td>\n",
       "      <td>214.81667</td>\n",
       "      <td>31.203335</td>\n",
       "      <td>24.071667</td>\n",
       "    </tr>\n",
       "    <tr>\n",
       "      <th>193789</th>\n",
       "      <td>193789</td>\n",
       "      <td>1322299951</td>\n",
       "      <td>Honduras</td>\n",
       "      <td>Central America</td>\n",
       "      <td>15.091100</td>\n",
       "      <td>-83.557800</td>\n",
       "      <td>Agalychnis Callidryas</td>\n",
       "      <td>0</td>\n",
       "      <td>193789</td>\n",
       "      <td>190.06667</td>\n",
       "      <td>141.43333</td>\n",
       "      <td>29.326668</td>\n",
       "      <td>23.588335</td>\n",
       "    </tr>\n",
       "    <tr>\n",
       "      <th>193790</th>\n",
       "      <td>193790</td>\n",
       "      <td>1320529451</td>\n",
       "      <td>Honduras</td>\n",
       "      <td>Central America</td>\n",
       "      <td>14.927500</td>\n",
       "      <td>-84.533900</td>\n",
       "      <td>Agalychnis Callidryas</td>\n",
       "      <td>0</td>\n",
       "      <td>193790</td>\n",
       "      <td>206.53334</td>\n",
       "      <td>142.61667</td>\n",
       "      <td>30.230005</td>\n",
       "      <td>22.480005</td>\n",
       "    </tr>\n",
       "  </tbody>\n",
       "</table>\n",
       "<p>193791 rows × 13 columns</p>\n",
       "</div>"
      ],
      "text/plain": [
       "        Unnamed: 0      gbifID     country        continent  decimalLatitude  \\\n",
       "0                0  2574007008   Australia        Australia       -32.719457   \n",
       "1                1  3457021422  Costa Rica  Central America         8.496999   \n",
       "2                2  1571195309  Costa Rica  Central America        10.450801   \n",
       "3                3  2265778539  Costa Rica  Central America         9.756705   \n",
       "4                4  3407962690   Australia        Australia       -26.714302   \n",
       "...            ...         ...         ...              ...              ...   \n",
       "193786      193786  1322002619      Panama  Central America         8.806900   \n",
       "193787      193787  1319899134      Panama  Central America         8.806900   \n",
       "193788      193788  1318901755      Panama  Central America         8.791700   \n",
       "193789      193789  1322299951    Honduras  Central America        15.091100   \n",
       "193790      193790  1320529451    Honduras  Central America        14.927500   \n",
       "\n",
       "        decimalLongitude                species  occurrenceStatus     key  \\\n",
       "0             152.159267         Litoria Fallax                 1       0   \n",
       "1             -83.318613  Agalychnis Callidryas                 0       1   \n",
       "2             -84.068659  Agalychnis Callidryas                 0       2   \n",
       "3             -84.613363  Agalychnis Callidryas                 0       3   \n",
       "4             152.815096         Litoria Fallax                 1       4   \n",
       "...                  ...                    ...               ...     ...   \n",
       "193786        -79.515300    Dendrobates Auratus                 0  193786   \n",
       "193787        -79.515300    Dendrobates Auratus                 0  193787   \n",
       "193788        -79.561100    Dendrobates Auratus                 0  193788   \n",
       "193789        -83.557800  Agalychnis Callidryas                 0  193789   \n",
       "193790        -84.533900  Agalychnis Callidryas                 0  193790   \n",
       "\n",
       "         ppt_mean  soil_mean  tmax_mean  tmin_mean  \n",
       "0        96.00000  118.71667  23.830004  13.908336  \n",
       "1       231.51666  131.88333  31.841667  21.111668  \n",
       "2       279.20000   51.70000  31.341671  22.455004  \n",
       "3       192.10000  171.81667  31.043331  20.061670  \n",
       "4        84.80000  111.61667  25.933338  13.801668  \n",
       "...           ...        ...        ...        ...  \n",
       "193786  158.16667  214.81667  31.203335  24.071667  \n",
       "193787  158.16667  214.81667  31.203335  24.071667  \n",
       "193788  158.16667  214.81667  31.203335  24.071667  \n",
       "193789  190.06667  141.43333  29.326668  23.588335  \n",
       "193790  206.53334  142.61667  30.230005  22.480005  \n",
       "\n",
       "[193791 rows x 13 columns]"
      ]
     },
     "execution_count": 3,
     "metadata": {},
     "output_type": "execute_result"
    }
   ],
   "source": [
    "#importing dataset 2\n",
    "data2 = pd.read_excel(\"All_MLOut_new.xlsx\")\n",
    "pd.read_excel(\"All_MLOut_new.xlsx\")\n",
    "data2"
   ]
  },
  {
   "cell_type": "markdown",
   "id": "32bd2e49",
   "metadata": {},
   "source": [
    "### Merging Datsets"
   ]
  },
  {
   "cell_type": "markdown",
   "id": "97cc8508",
   "metadata": {},
   "source": [
    "Since both data sets have some columns in common to get rid of duplicates we will drop the duplicate columns of data2 before we merge"
   ]
  },
  {
   "cell_type": "code",
   "execution_count": 4,
   "id": "ebcf8597",
   "metadata": {},
   "outputs": [
    {
     "data": {
      "text/html": [
       "<div>\n",
       "<style scoped>\n",
       "    .dataframe tbody tr th:only-of-type {\n",
       "        vertical-align: middle;\n",
       "    }\n",
       "\n",
       "    .dataframe tbody tr th {\n",
       "        vertical-align: top;\n",
       "    }\n",
       "\n",
       "    .dataframe thead th {\n",
       "        text-align: right;\n",
       "    }\n",
       "</style>\n",
       "<table border=\"1\" class=\"dataframe\">\n",
       "  <thead>\n",
       "    <tr style=\"text-align: right;\">\n",
       "      <th></th>\n",
       "      <th>gbifID</th>\n",
       "      <th>eventDate</th>\n",
       "      <th>stateProvince</th>\n",
       "    </tr>\n",
       "  </thead>\n",
       "  <tbody>\n",
       "    <tr>\n",
       "      <th>0</th>\n",
       "      <td>2574007008</td>\n",
       "      <td>2020-01-23 01:38:00</td>\n",
       "      <td>New South Wales</td>\n",
       "    </tr>\n",
       "    <tr>\n",
       "      <th>1</th>\n",
       "      <td>3457021422</td>\n",
       "      <td>2010-03-14 22:23:00</td>\n",
       "      <td>Puntarenas</td>\n",
       "    </tr>\n",
       "    <tr>\n",
       "      <th>2</th>\n",
       "      <td>1571195309</td>\n",
       "      <td>2014-04-11 19:51:57</td>\n",
       "      <td>Heredia</td>\n",
       "    </tr>\n",
       "    <tr>\n",
       "      <th>3</th>\n",
       "      <td>2265778539</td>\n",
       "      <td>2018-07-21 21:24:21</td>\n",
       "      <td>Puntarenas</td>\n",
       "    </tr>\n",
       "    <tr>\n",
       "      <th>4</th>\n",
       "      <td>3407962690</td>\n",
       "      <td>2021-10-29 13:57:00</td>\n",
       "      <td>Queensland</td>\n",
       "    </tr>\n",
       "    <tr>\n",
       "      <th>...</th>\n",
       "      <td>...</td>\n",
       "      <td>...</td>\n",
       "      <td>...</td>\n",
       "    </tr>\n",
       "    <tr>\n",
       "      <th>193786</th>\n",
       "      <td>1322002619</td>\n",
       "      <td>NaT</td>\n",
       "      <td>Panamá</td>\n",
       "    </tr>\n",
       "    <tr>\n",
       "      <th>193787</th>\n",
       "      <td>1319899134</td>\n",
       "      <td>1937-04-01 00:00:00</td>\n",
       "      <td>Panamá</td>\n",
       "    </tr>\n",
       "    <tr>\n",
       "      <th>193788</th>\n",
       "      <td>1318901755</td>\n",
       "      <td>1937-04-05 00:00:00</td>\n",
       "      <td>Panamá</td>\n",
       "    </tr>\n",
       "    <tr>\n",
       "      <th>193789</th>\n",
       "      <td>1322299951</td>\n",
       "      <td>2002-07-09 00:00:00</td>\n",
       "      <td>Gracias a Dios</td>\n",
       "    </tr>\n",
       "    <tr>\n",
       "      <th>193790</th>\n",
       "      <td>1320529451</td>\n",
       "      <td>2001-10-11 00:00:00</td>\n",
       "      <td>Gracias a Dios</td>\n",
       "    </tr>\n",
       "  </tbody>\n",
       "</table>\n",
       "<p>193791 rows × 3 columns</p>\n",
       "</div>"
      ],
      "text/plain": [
       "            gbifID           eventDate    stateProvince\n",
       "0       2574007008 2020-01-23 01:38:00  New South Wales\n",
       "1       3457021422 2010-03-14 22:23:00       Puntarenas\n",
       "2       1571195309 2014-04-11 19:51:57          Heredia\n",
       "3       2265778539 2018-07-21 21:24:21       Puntarenas\n",
       "4       3407962690 2021-10-29 13:57:00       Queensland\n",
       "...            ...                 ...              ...\n",
       "193786  1322002619                 NaT           Panamá\n",
       "193787  1319899134 1937-04-01 00:00:00           Panamá\n",
       "193788  1318901755 1937-04-05 00:00:00           Panamá\n",
       "193789  1322299951 2002-07-09 00:00:00   Gracias a Dios\n",
       "193790  1320529451 2001-10-11 00:00:00   Gracias a Dios\n",
       "\n",
       "[193791 rows x 3 columns]"
      ]
     },
     "execution_count": 4,
     "metadata": {},
     "output_type": "execute_result"
    }
   ],
   "source": [
    "#dropping duplicate columns in data2 \n",
    "data1.drop(data1.columns.difference(['gbifID', 'eventDate', 'stateProvince']), axis = 1, inplace = True)\n",
    "data1"
   ]
  },
  {
   "cell_type": "code",
   "execution_count": 5,
   "id": "4573ad90",
   "metadata": {},
   "outputs": [
    {
     "data": {
      "text/html": [
       "<div>\n",
       "<style scoped>\n",
       "    .dataframe tbody tr th:only-of-type {\n",
       "        vertical-align: middle;\n",
       "    }\n",
       "\n",
       "    .dataframe tbody tr th {\n",
       "        vertical-align: top;\n",
       "    }\n",
       "\n",
       "    .dataframe thead th {\n",
       "        text-align: right;\n",
       "    }\n",
       "</style>\n",
       "<table border=\"1\" class=\"dataframe\">\n",
       "  <thead>\n",
       "    <tr style=\"text-align: right;\">\n",
       "      <th></th>\n",
       "      <th>Unnamed: 0</th>\n",
       "      <th>gbifID</th>\n",
       "      <th>country</th>\n",
       "      <th>continent</th>\n",
       "      <th>decimalLatitude</th>\n",
       "      <th>decimalLongitude</th>\n",
       "      <th>species</th>\n",
       "      <th>occurrenceStatus</th>\n",
       "      <th>key</th>\n",
       "      <th>ppt_mean</th>\n",
       "      <th>soil_mean</th>\n",
       "      <th>tmax_mean</th>\n",
       "      <th>tmin_mean</th>\n",
       "      <th>eventDate</th>\n",
       "      <th>stateProvince</th>\n",
       "    </tr>\n",
       "  </thead>\n",
       "  <tbody>\n",
       "    <tr>\n",
       "      <th>0</th>\n",
       "      <td>0</td>\n",
       "      <td>2574007008</td>\n",
       "      <td>Australia</td>\n",
       "      <td>Australia</td>\n",
       "      <td>-32.719457</td>\n",
       "      <td>152.159267</td>\n",
       "      <td>Litoria Fallax</td>\n",
       "      <td>1</td>\n",
       "      <td>0</td>\n",
       "      <td>96.00000</td>\n",
       "      <td>118.71667</td>\n",
       "      <td>23.830004</td>\n",
       "      <td>13.908336</td>\n",
       "      <td>2020-01-23 01:38:00</td>\n",
       "      <td>New South Wales</td>\n",
       "    </tr>\n",
       "    <tr>\n",
       "      <th>1</th>\n",
       "      <td>1</td>\n",
       "      <td>3457021422</td>\n",
       "      <td>Costa Rica</td>\n",
       "      <td>Central America</td>\n",
       "      <td>8.496999</td>\n",
       "      <td>-83.318613</td>\n",
       "      <td>Agalychnis Callidryas</td>\n",
       "      <td>0</td>\n",
       "      <td>1</td>\n",
       "      <td>231.51666</td>\n",
       "      <td>131.88333</td>\n",
       "      <td>31.841667</td>\n",
       "      <td>21.111668</td>\n",
       "      <td>2010-03-14 22:23:00</td>\n",
       "      <td>Puntarenas</td>\n",
       "    </tr>\n",
       "    <tr>\n",
       "      <th>2</th>\n",
       "      <td>2</td>\n",
       "      <td>1571195309</td>\n",
       "      <td>Costa Rica</td>\n",
       "      <td>Central America</td>\n",
       "      <td>10.450801</td>\n",
       "      <td>-84.068659</td>\n",
       "      <td>Agalychnis Callidryas</td>\n",
       "      <td>0</td>\n",
       "      <td>2</td>\n",
       "      <td>279.20000</td>\n",
       "      <td>51.70000</td>\n",
       "      <td>31.341671</td>\n",
       "      <td>22.455004</td>\n",
       "      <td>2014-04-11 19:51:57</td>\n",
       "      <td>Heredia</td>\n",
       "    </tr>\n",
       "    <tr>\n",
       "      <th>3</th>\n",
       "      <td>3</td>\n",
       "      <td>2265778539</td>\n",
       "      <td>Costa Rica</td>\n",
       "      <td>Central America</td>\n",
       "      <td>9.756705</td>\n",
       "      <td>-84.613363</td>\n",
       "      <td>Agalychnis Callidryas</td>\n",
       "      <td>0</td>\n",
       "      <td>3</td>\n",
       "      <td>192.10000</td>\n",
       "      <td>171.81667</td>\n",
       "      <td>31.043331</td>\n",
       "      <td>20.061670</td>\n",
       "      <td>2018-07-21 21:24:21</td>\n",
       "      <td>Puntarenas</td>\n",
       "    </tr>\n",
       "    <tr>\n",
       "      <th>4</th>\n",
       "      <td>4</td>\n",
       "      <td>3407962690</td>\n",
       "      <td>Australia</td>\n",
       "      <td>Australia</td>\n",
       "      <td>-26.714302</td>\n",
       "      <td>152.815096</td>\n",
       "      <td>Litoria Fallax</td>\n",
       "      <td>1</td>\n",
       "      <td>4</td>\n",
       "      <td>84.80000</td>\n",
       "      <td>111.61667</td>\n",
       "      <td>25.933338</td>\n",
       "      <td>13.801668</td>\n",
       "      <td>2021-10-29 13:57:00</td>\n",
       "      <td>Queensland</td>\n",
       "    </tr>\n",
       "  </tbody>\n",
       "</table>\n",
       "</div>"
      ],
      "text/plain": [
       "   Unnamed: 0      gbifID     country        continent  decimalLatitude  \\\n",
       "0           0  2574007008   Australia        Australia       -32.719457   \n",
       "1           1  3457021422  Costa Rica  Central America         8.496999   \n",
       "2           2  1571195309  Costa Rica  Central America        10.450801   \n",
       "3           3  2265778539  Costa Rica  Central America         9.756705   \n",
       "4           4  3407962690   Australia        Australia       -26.714302   \n",
       "\n",
       "   decimalLongitude                species  occurrenceStatus  key   ppt_mean  \\\n",
       "0        152.159267         Litoria Fallax                 1    0   96.00000   \n",
       "1        -83.318613  Agalychnis Callidryas                 0    1  231.51666   \n",
       "2        -84.068659  Agalychnis Callidryas                 0    2  279.20000   \n",
       "3        -84.613363  Agalychnis Callidryas                 0    3  192.10000   \n",
       "4        152.815096         Litoria Fallax                 1    4   84.80000   \n",
       "\n",
       "   soil_mean  tmax_mean  tmin_mean           eventDate    stateProvince  \n",
       "0  118.71667  23.830004  13.908336 2020-01-23 01:38:00  New South Wales  \n",
       "1  131.88333  31.841667  21.111668 2010-03-14 22:23:00       Puntarenas  \n",
       "2   51.70000  31.341671  22.455004 2014-04-11 19:51:57          Heredia  \n",
       "3  171.81667  31.043331  20.061670 2018-07-21 21:24:21       Puntarenas  \n",
       "4  111.61667  25.933338  13.801668 2021-10-29 13:57:00       Queensland  "
      ]
     },
     "execution_count": 5,
     "metadata": {},
     "output_type": "execute_result"
    }
   ],
   "source": [
    "#merged data\n",
    "data = pd.merge(data2,\n",
    "                data1[['gbifID','eventDate','stateProvince']],\n",
    "                on ='gbifID', how='outer')\n",
    "data.head(5)"
   ]
  },
  {
   "cell_type": "markdown",
   "id": "c3aa5723",
   "metadata": {},
   "source": [
    "### Dropping unwanted columns"
   ]
  },
  {
   "cell_type": "code",
   "execution_count": 6,
   "id": "37550352",
   "metadata": {},
   "outputs": [
    {
     "data": {
      "text/html": [
       "<div>\n",
       "<style scoped>\n",
       "    .dataframe tbody tr th:only-of-type {\n",
       "        vertical-align: middle;\n",
       "    }\n",
       "\n",
       "    .dataframe tbody tr th {\n",
       "        vertical-align: top;\n",
       "    }\n",
       "\n",
       "    .dataframe thead th {\n",
       "        text-align: right;\n",
       "    }\n",
       "</style>\n",
       "<table border=\"1\" class=\"dataframe\">\n",
       "  <thead>\n",
       "    <tr style=\"text-align: right;\">\n",
       "      <th></th>\n",
       "      <th>country</th>\n",
       "      <th>continent</th>\n",
       "      <th>decimalLatitude</th>\n",
       "      <th>decimalLongitude</th>\n",
       "      <th>species</th>\n",
       "      <th>ppt_mean</th>\n",
       "      <th>soil_mean</th>\n",
       "      <th>tmax_mean</th>\n",
       "      <th>tmin_mean</th>\n",
       "      <th>eventDate</th>\n",
       "      <th>stateProvince</th>\n",
       "    </tr>\n",
       "  </thead>\n",
       "  <tbody>\n",
       "    <tr>\n",
       "      <th>0</th>\n",
       "      <td>Australia</td>\n",
       "      <td>Australia</td>\n",
       "      <td>-32.719457</td>\n",
       "      <td>152.159267</td>\n",
       "      <td>Litoria Fallax</td>\n",
       "      <td>96.00000</td>\n",
       "      <td>118.71667</td>\n",
       "      <td>23.830004</td>\n",
       "      <td>13.908336</td>\n",
       "      <td>2020-01-23 01:38:00</td>\n",
       "      <td>New South Wales</td>\n",
       "    </tr>\n",
       "    <tr>\n",
       "      <th>1</th>\n",
       "      <td>Costa Rica</td>\n",
       "      <td>Central America</td>\n",
       "      <td>8.496999</td>\n",
       "      <td>-83.318613</td>\n",
       "      <td>Agalychnis Callidryas</td>\n",
       "      <td>231.51666</td>\n",
       "      <td>131.88333</td>\n",
       "      <td>31.841667</td>\n",
       "      <td>21.111668</td>\n",
       "      <td>2010-03-14 22:23:00</td>\n",
       "      <td>Puntarenas</td>\n",
       "    </tr>\n",
       "    <tr>\n",
       "      <th>2</th>\n",
       "      <td>Costa Rica</td>\n",
       "      <td>Central America</td>\n",
       "      <td>10.450801</td>\n",
       "      <td>-84.068659</td>\n",
       "      <td>Agalychnis Callidryas</td>\n",
       "      <td>279.20000</td>\n",
       "      <td>51.70000</td>\n",
       "      <td>31.341671</td>\n",
       "      <td>22.455004</td>\n",
       "      <td>2014-04-11 19:51:57</td>\n",
       "      <td>Heredia</td>\n",
       "    </tr>\n",
       "    <tr>\n",
       "      <th>3</th>\n",
       "      <td>Costa Rica</td>\n",
       "      <td>Central America</td>\n",
       "      <td>9.756705</td>\n",
       "      <td>-84.613363</td>\n",
       "      <td>Agalychnis Callidryas</td>\n",
       "      <td>192.10000</td>\n",
       "      <td>171.81667</td>\n",
       "      <td>31.043331</td>\n",
       "      <td>20.061670</td>\n",
       "      <td>2018-07-21 21:24:21</td>\n",
       "      <td>Puntarenas</td>\n",
       "    </tr>\n",
       "    <tr>\n",
       "      <th>4</th>\n",
       "      <td>Australia</td>\n",
       "      <td>Australia</td>\n",
       "      <td>-26.714302</td>\n",
       "      <td>152.815096</td>\n",
       "      <td>Litoria Fallax</td>\n",
       "      <td>84.80000</td>\n",
       "      <td>111.61667</td>\n",
       "      <td>25.933338</td>\n",
       "      <td>13.801668</td>\n",
       "      <td>2021-10-29 13:57:00</td>\n",
       "      <td>Queensland</td>\n",
       "    </tr>\n",
       "  </tbody>\n",
       "</table>\n",
       "</div>"
      ],
      "text/plain": [
       "      country        continent  decimalLatitude  decimalLongitude  \\\n",
       "0   Australia        Australia       -32.719457        152.159267   \n",
       "1  Costa Rica  Central America         8.496999        -83.318613   \n",
       "2  Costa Rica  Central America        10.450801        -84.068659   \n",
       "3  Costa Rica  Central America         9.756705        -84.613363   \n",
       "4   Australia        Australia       -26.714302        152.815096   \n",
       "\n",
       "                 species   ppt_mean  soil_mean  tmax_mean  tmin_mean  \\\n",
       "0         Litoria Fallax   96.00000  118.71667  23.830004  13.908336   \n",
       "1  Agalychnis Callidryas  231.51666  131.88333  31.841667  21.111668   \n",
       "2  Agalychnis Callidryas  279.20000   51.70000  31.341671  22.455004   \n",
       "3  Agalychnis Callidryas  192.10000  171.81667  31.043331  20.061670   \n",
       "4         Litoria Fallax   84.80000  111.61667  25.933338  13.801668   \n",
       "\n",
       "            eventDate    stateProvince  \n",
       "0 2020-01-23 01:38:00  New South Wales  \n",
       "1 2010-03-14 22:23:00       Puntarenas  \n",
       "2 2014-04-11 19:51:57          Heredia  \n",
       "3 2018-07-21 21:24:21       Puntarenas  \n",
       "4 2021-10-29 13:57:00       Queensland  "
      ]
     },
     "execution_count": 6,
     "metadata": {},
     "output_type": "execute_result"
    }
   ],
   "source": [
    "# dropping columns unmamed and key\n",
    "Frogdata = data.drop(['Unnamed: 0', 'key', 'gbifID', 'occurrenceStatus' ] ,axis=1)\n",
    "Frogdata.head(5)"
   ]
  },
  {
   "cell_type": "code",
   "execution_count": 7,
   "id": "036570f8",
   "metadata": {},
   "outputs": [
    {
     "name": "stdout",
     "output_type": "stream",
     "text": [
      "<class 'pandas.core.frame.DataFrame'>\n",
      "Int64Index: 193791 entries, 0 to 193790\n",
      "Data columns (total 11 columns):\n",
      " #   Column            Non-Null Count   Dtype         \n",
      "---  ------            --------------   -----         \n",
      " 0   country           193791 non-null  object        \n",
      " 1   continent         193791 non-null  object        \n",
      " 2   decimalLatitude   193791 non-null  float64       \n",
      " 3   decimalLongitude  193791 non-null  float64       \n",
      " 4   species           193791 non-null  object        \n",
      " 5   ppt_mean          161812 non-null  float64       \n",
      " 6   soil_mean         161812 non-null  float64       \n",
      " 7   tmax_mean         161812 non-null  float64       \n",
      " 8   tmin_mean         161812 non-null  float64       \n",
      " 9   eventDate         185026 non-null  datetime64[ns]\n",
      " 10  stateProvince     193790 non-null  object        \n",
      "dtypes: datetime64[ns](1), float64(6), object(4)\n",
      "memory usage: 17.7+ MB\n"
     ]
    }
   ],
   "source": [
    "#getting data info\n",
    "Frogdata.info()"
   ]
  },
  {
   "cell_type": "markdown",
   "id": "e8c378ab",
   "metadata": {},
   "source": [
    "The columns soil_mean, ppt_mean, tmax_mean,tmin_mean, eventDate, and stateProvince have missing values we will replace them during the Univariate analysis"
   ]
  },
  {
   "cell_type": "markdown",
   "id": "2c95850d",
   "metadata": {},
   "source": [
    "## Univariate Analysis "
   ]
  },
  {
   "cell_type": "markdown",
   "id": "67fe9cee",
   "metadata": {},
   "source": [
    "### Univariate Analysis on Continent"
   ]
  },
  {
   "cell_type": "code",
   "execution_count": 8,
   "id": "c029b186",
   "metadata": {},
   "outputs": [
    {
     "data": {
      "text/plain": [
       "Australia             188020\n",
       "Central America         3931\n",
       "Africa                  1737\n",
       "unknown or invalid       103\n",
       "Name: continent, dtype: int64"
      ]
     },
     "execution_count": 8,
     "metadata": {},
     "output_type": "execute_result"
    }
   ],
   "source": [
    "#Getting the value_counts\n",
    "Frogdata['continent'].value_counts()"
   ]
  },
  {
   "cell_type": "markdown",
   "id": "69b10259",
   "metadata": {},
   "source": [
    "There are 3 continents, Australia has the highest and Africa has the least. There are status' with unknown or invalid and when we look at the state province of these values they are in Namibia hence we replace invalid or unknown with Africa we will do same for the country column"
   ]
  },
  {
   "cell_type": "code",
   "execution_count": 9,
   "id": "f9050ea2",
   "metadata": {},
   "outputs": [],
   "source": [
    "#replacing unknown or invalid with Africa\n",
    "Frogdata1 = Frogdata.replace({'continent':{'unknown or invalid':'Africa'}})"
   ]
  },
  {
   "cell_type": "code",
   "execution_count": 10,
   "id": "6b9190c6",
   "metadata": {},
   "outputs": [
    {
     "data": {
      "text/plain": [
       "Australia          188020\n",
       "Central America      3931\n",
       "Africa               1840\n",
       "Name: continent, dtype: int64"
      ]
     },
     "execution_count": 10,
     "metadata": {},
     "output_type": "execute_result"
    }
   ],
   "source": [
    "Frogdata1['continent'].value_counts()"
   ]
  },
  {
   "cell_type": "markdown",
   "id": "804c5e44",
   "metadata": {},
   "source": [
    "### Univariate Analysis on Country"
   ]
  },
  {
   "cell_type": "code",
   "execution_count": 11,
   "id": "ccd5a260",
   "metadata": {},
   "outputs": [
    {
     "data": {
      "text/plain": [
       "Australia             188020\n",
       "Costa Rica              2258\n",
       "South Africa            1348\n",
       "Panama                   755\n",
       "Mexico                   455\n",
       "Honduras                 144\n",
       "Colombia                 135\n",
       "Nicaragua                133\n",
       "Zimbabwe                 110\n",
       "Mozambique               107\n",
       "unknown or invalid       103\n",
       "Eswatini                  62\n",
       "Botswana                  41\n",
       "Zambia                    32\n",
       "Guatemala                 30\n",
       "Belize                    21\n",
       "Malawi                    18\n",
       "Lesotho                   17\n",
       "Angola                     2\n",
       "Name: country, dtype: int64"
      ]
     },
     "execution_count": 11,
     "metadata": {},
     "output_type": "execute_result"
    }
   ],
   "source": [
    "#Getting the value_counts\n",
    "Frogdata1['country'].value_counts()"
   ]
  },
  {
   "cell_type": "markdown",
   "id": "6cf3e5cd",
   "metadata": {},
   "source": [
    "As we did for the continent column we will replace the invalid or unknown values with Namibia as per data from their state province"
   ]
  },
  {
   "cell_type": "code",
   "execution_count": 12,
   "id": "a52600e5",
   "metadata": {},
   "outputs": [],
   "source": [
    "#replacing unknown or invalid with Namibia\n",
    "Frog_data = Frogdata1.replace({'country':{'unknown or invalid':'Namibia'}})"
   ]
  },
  {
   "cell_type": "code",
   "execution_count": 13,
   "id": "b4d11997",
   "metadata": {},
   "outputs": [
    {
     "data": {
      "text/plain": [
       "Australia       188020\n",
       "Costa Rica        2258\n",
       "South Africa      1348\n",
       "Panama             755\n",
       "Mexico             455\n",
       "Honduras           144\n",
       "Colombia           135\n",
       "Nicaragua          133\n",
       "Zimbabwe           110\n",
       "Mozambique         107\n",
       "Namibia            103\n",
       "Eswatini            62\n",
       "Botswana            41\n",
       "Zambia              32\n",
       "Guatemala           30\n",
       "Belize              21\n",
       "Malawi              18\n",
       "Lesotho             17\n",
       "Angola               2\n",
       "Name: country, dtype: int64"
      ]
     },
     "execution_count": 13,
     "metadata": {},
     "output_type": "execute_result"
    }
   ],
   "source": [
    "Frog_data['country'].value_counts()"
   ]
  },
  {
   "cell_type": "markdown",
   "id": "811a953a",
   "metadata": {},
   "source": [
    "There are 19 counties, Australia has the highest as indicated in the continent analysis and Angola has the least which is in Africa"
   ]
  },
  {
   "cell_type": "markdown",
   "id": "4e28d8d9",
   "metadata": {},
   "source": [
    "### Univariate analysis on species"
   ]
  },
  {
   "cell_type": "code",
   "execution_count": 14,
   "id": "2a9f5ffe",
   "metadata": {},
   "outputs": [
    {
     "data": {
      "text/plain": [
       "Crinia Signifera             126657\n",
       "Litoria Fallax                47332\n",
       "Crinia Glauerti                9393\n",
       "Ranoidea Australis             4097\n",
       "Agalychnis Callidryas          2212\n",
       "Dendrobates Auratus            1718\n",
       "Xenopus Laevis                 1139\n",
       "Chiromantis Xerampelina         702\n",
       "Austrochaperina Pluvialis       541\n",
       "Name: species, dtype: int64"
      ]
     },
     "execution_count": 14,
     "metadata": {},
     "output_type": "execute_result"
    }
   ],
   "source": [
    "#Getting value_counts of species column\n",
    "Frog_data['species'].value_counts()"
   ]
  },
  {
   "cell_type": "markdown",
   "id": "2c7af1fe",
   "metadata": {},
   "source": [
    "In total there are 9 species of frog.\n",
    "\n",
    "The specie with the highest number is Crinia Signifera  and the lowest is Austrochaperina Pluvialis. "
   ]
  },
  {
   "cell_type": "markdown",
   "id": "054c29d0",
   "metadata": {},
   "source": [
    "### Univariate analysis on stateProvince"
   ]
  },
  {
   "cell_type": "code",
   "execution_count": 15,
   "id": "caabd962",
   "metadata": {},
   "outputs": [
    {
     "data": {
      "text/plain": [
       "New South Wales      99480\n",
       "Victoria             37093\n",
       "South Australia      16786\n",
       "Queensland           13397\n",
       "Western Australia    10242\n",
       "                     ...  \n",
       "Zambezi                  1\n",
       "Midlands                 1\n",
       "Ghanzi                   1\n",
       "Karas                    1\n",
       "Qacha's Nek              1\n",
       "Name: stateProvince, Length: 141, dtype: int64"
      ]
     },
     "execution_count": 15,
     "metadata": {},
     "output_type": "execute_result"
    }
   ],
   "source": [
    "#Getting value_count for staeProvince column\n",
    "Frog_data['stateProvince'].value_counts()"
   ]
  },
  {
   "cell_type": "code",
   "execution_count": 16,
   "id": "ff534243",
   "metadata": {},
   "outputs": [],
   "source": [
    "#dropping the null value\n",
    "Frog_Data3 = Frog_data.dropna( how = 'any',\n",
    "                              subset=['stateProvince'])"
   ]
  },
  {
   "cell_type": "code",
   "execution_count": 17,
   "id": "a7c8a674",
   "metadata": {},
   "outputs": [
    {
     "data": {
      "text/plain": [
       "0"
      ]
     },
     "execution_count": 17,
     "metadata": {},
     "output_type": "execute_result"
    }
   ],
   "source": [
    "Frog_Data3['stateProvince'].isnull().sum()"
   ]
  },
  {
   "cell_type": "markdown",
   "id": "38e7f677",
   "metadata": {},
   "source": [
    "### Univariate analysis on pppt_mean"
   ]
  },
  {
   "cell_type": "code",
   "execution_count": 18,
   "id": "db2abcd9",
   "metadata": {},
   "outputs": [
    {
     "data": {
      "text/plain": [
       "31979"
      ]
     },
     "execution_count": 18,
     "metadata": {},
     "output_type": "execute_result"
    }
   ],
   "source": [
    "#getting the sum of null values\n",
    "Frog_Data3['ppt_mean'].isnull().sum()"
   ]
  },
  {
   "cell_type": "markdown",
   "id": "885f997a",
   "metadata": {},
   "source": [
    "Lets plot a histogram of the ppt_mean column to find the best method to replace the null values"
   ]
  },
  {
   "cell_type": "code",
   "execution_count": 19,
   "id": "d929b46f",
   "metadata": {},
   "outputs": [
    {
     "data": {
      "image/png": "[encoded data removed]",
      "text/plain": [
       "<Figure size 432x288 with 1 Axes>"
      ]
     },
     "metadata": {
      "needs_background": "light"
     },
     "output_type": "display_data"
    }
   ],
   "source": [
    "#plotting histogram to see the distribution of the data\n",
    "plt.hist(Frog_Data3['ppt_mean'], bins = 15)\n",
    "plt.show()"
   ]
  },
  {
   "cell_type": "markdown",
   "id": "67d0f74a",
   "metadata": {},
   "source": [
    "Most of the frogs have a ppt_mean in the ranges of 60"
   ]
  },
  {
   "cell_type": "markdown",
   "id": "57db1c4f",
   "metadata": {},
   "source": [
    "### Univariate analysis on soil_mean"
   ]
  },
  {
   "cell_type": "code",
   "execution_count": 20,
   "id": "1a56817f",
   "metadata": {},
   "outputs": [
    {
     "data": {
      "text/plain": [
       "47.416668     16484\n",
       "43.233334      6095\n",
       "55.350000      5154\n",
       "16.983334      3340\n",
       "12.233334      2901\n",
       "              ...  \n",
       "132.883330        1\n",
       "11.350000         1\n",
       "4.066667          1\n",
       "18.316668         1\n",
       "24.650000         1\n",
       "Name: soil_mean, Length: 1629, dtype: int64"
      ]
     },
     "execution_count": 20,
     "metadata": {},
     "output_type": "execute_result"
    }
   ],
   "source": [
    "#getting the value count of soil_mean column\n",
    "Frog_Data3['soil_mean'].value_counts()"
   ]
  },
  {
   "cell_type": "code",
   "execution_count": 21,
   "id": "4e622f17",
   "metadata": {},
   "outputs": [
    {
     "data": {
      "text/plain": [
       "31979"
      ]
     },
     "execution_count": 21,
     "metadata": {},
     "output_type": "execute_result"
    }
   ],
   "source": [
    "#getting sum of null values of soil_mean column\n",
    "Frog_Data3['soil_mean'].isnull().sum()"
   ]
  },
  {
   "cell_type": "code",
   "execution_count": 22,
   "id": "e533459c",
   "metadata": {},
   "outputs": [
    {
     "data": {
      "image/png": "[encoded data removed]",
      "text/plain": [
       "<Figure size 432x288 with 1 Axes>"
      ]
     },
     "metadata": {
      "needs_background": "light"
     },
     "output_type": "display_data"
    }
   ],
   "source": [
    "#plotting histogram to see the distribution of the data\n",
    "plt.hist(Frog_Data3['soil_mean'], bins = 15)\n",
    "plt.show()"
   ]
  },
  {
   "cell_type": "markdown",
   "id": "66070446",
   "metadata": {},
   "source": [
    "The soil_mean with the most species is 35.316"
   ]
  },
  {
   "cell_type": "markdown",
   "id": "02158bbd",
   "metadata": {},
   "source": [
    "### Univariate analysis on tmax_mean"
   ]
  },
  {
   "cell_type": "code",
   "execution_count": 23,
   "id": "7e779b86",
   "metadata": {},
   "outputs": [
    {
     "data": {
      "text/plain": [
       "24.218334    16484\n",
       "24.130001     6095\n",
       "24.736670     5154\n",
       "20.701666     3340\n",
       "20.821669     2838\n",
       "             ...  \n",
       "33.328335        1\n",
       "35.143330        1\n",
       "27.205004        1\n",
       "33.326668        1\n",
       "29.818333        1\n",
       "Name: tmax_mean, Length: 1998, dtype: int64"
      ]
     },
     "execution_count": 23,
     "metadata": {},
     "output_type": "execute_result"
    }
   ],
   "source": [
    "# getting value_counts of tmax_mean column\n",
    "Frog_Data3['tmax_mean'].value_counts()"
   ]
  },
  {
   "cell_type": "code",
   "execution_count": 24,
   "id": "729f4494",
   "metadata": {},
   "outputs": [
    {
     "data": {
      "text/plain": [
       "31979"
      ]
     },
     "execution_count": 24,
     "metadata": {},
     "output_type": "execute_result"
    }
   ],
   "source": [
    "#getting the sum of null values\n",
    "Frog_Data3['tmax_mean'].isnull().sum()"
   ]
  },
  {
   "cell_type": "code",
   "execution_count": 25,
   "id": "f0964d97",
   "metadata": {},
   "outputs": [
    {
     "data": {
      "image/png": "[encoded data removed]",
      "text/plain": [
       "<Figure size 432x288 with 1 Axes>"
      ]
     },
     "metadata": {
      "needs_background": "light"
     },
     "output_type": "display_data"
    }
   ],
   "source": [
    "#plotting histogram to see the distribution of the data\n",
    "plt.hist(Frog_Data3['tmax_mean'], bins = 15)\n",
    "plt.show()"
   ]
  },
  {
   "cell_type": "markdown",
   "id": "afd59216",
   "metadata": {},
   "source": [
    "### Univariate analysis on tmin_mean"
   ]
  },
  {
   "cell_type": "code",
   "execution_count": 26,
   "id": "e5ea3208",
   "metadata": {},
   "outputs": [
    {
     "data": {
      "text/plain": [
       "12.721667    16484\n",
       "12.366668     6095\n",
       "13.008334     5154\n",
       "10.106669     3340\n",
       "10.681668     2838\n",
       "             ...  \n",
       "19.221668        1\n",
       "18.168335        1\n",
       "20.785002        1\n",
       "19.363337        1\n",
       "14.356669        1\n",
       "Name: tmin_mean, Length: 1968, dtype: int64"
      ]
     },
     "execution_count": 26,
     "metadata": {},
     "output_type": "execute_result"
    }
   ],
   "source": [
    "# getting value_counts of tmin_mean column\n",
    "Frog_Data3['tmin_mean'].value_counts()"
   ]
  },
  {
   "cell_type": "code",
   "execution_count": 27,
   "id": "043c7a9e",
   "metadata": {},
   "outputs": [
    {
     "data": {
      "text/plain": [
       "31979"
      ]
     },
     "execution_count": 27,
     "metadata": {},
     "output_type": "execute_result"
    }
   ],
   "source": [
    "#getting the sum of null values\n",
    "Frog_Data3['tmin_mean'].isnull().sum()"
   ]
  },
  {
   "cell_type": "code",
   "execution_count": 28,
   "id": "3946db73",
   "metadata": {},
   "outputs": [
    {
     "data": {
      "image/png": "[encoded data removed]",
      "text/plain": [
       "<Figure size 432x288 with 1 Axes>"
      ]
     },
     "metadata": {
      "needs_background": "light"
     },
     "output_type": "display_data"
    }
   ],
   "source": [
    "#plotting histogram to see the distribution of the data\n",
    "plt.hist(Frog_Data3['tmin_mean'], bins =15)\n",
    "plt.show()"
   ]
  },
  {
   "cell_type": "markdown",
   "id": "aa5a0408",
   "metadata": {},
   "source": [
    "From the univariate analysis of the column we can see that the columns ppt_mean and soil_mean have a right skewed distribution hence we will replce their missing values with the median and replace that of tmax_mean and tmin_mean with the mean as their diustribution is normal"
   ]
  },
  {
   "cell_type": "code",
   "execution_count": 29,
   "id": "42c9fa65",
   "metadata": {},
   "outputs": [
    {
     "name": "stderr",
     "output_type": "stream",
     "text": [
      "C:\\Users\\Lillian\\anaconda3\\lib\\site-packages\\pandas\\core\\frame.py:3641: SettingWithCopyWarning: \n",
      "A value is trying to be set on a copy of a slice from a DataFrame.\n",
      "Try using .loc[row_indexer,col_indexer] = value instead\n",
      "\n",
      "See the caveats in the documentation: https://pandas.pydata.org/pandas-docs/stable/user_guide/indexing.html#returning-a-view-versus-a-copy\n",
      "  self[k1] = value[k2]\n"
     ]
    }
   ],
   "source": [
    "#replacing mising values \n",
    "medians = Frog_Data3.groupby(['species', 'country'])[['ppt_mean', 'soil_mean']].transform('median')\n",
    "Frog_Data3[['ppt_mean', 'soil_mean']] = Frog_Data3[['ppt_mean', 'soil_mean']].fillna(medians)"
   ]
  },
  {
   "cell_type": "code",
   "execution_count": 30,
   "id": "4de45ea6",
   "metadata": {},
   "outputs": [],
   "source": [
    "#replacing mising values\n",
    "means = Frog_Data3.groupby(['species', 'country'])[['tmax_mean', 'tmin_mean']].transform('mean')\n",
    "Frog_Data3[['tmax_mean', 'tmin_mean']] = Frog_Data3[['tmax_mean', 'tmin_mean']].fillna(means)"
   ]
  },
  {
   "cell_type": "code",
   "execution_count": 31,
   "id": "ca4666e5",
   "metadata": {},
   "outputs": [
    {
     "data": {
      "text/plain": [
       "country                0\n",
       "continent              0\n",
       "decimalLatitude        0\n",
       "decimalLongitude       0\n",
       "species                0\n",
       "ppt_mean               0\n",
       "soil_mean              0\n",
       "tmax_mean              0\n",
       "tmin_mean              0\n",
       "eventDate           8765\n",
       "stateProvince          0\n",
       "dtype: int64"
      ]
     },
     "execution_count": 31,
     "metadata": {},
     "output_type": "execute_result"
    }
   ],
   "source": [
    "Frog_Data3.isnull().sum()"
   ]
  },
  {
   "cell_type": "markdown",
   "id": "631f8579",
   "metadata": {},
   "source": [
    "The missing values have been replaced in the columns 'ppt_mean', 'soil_mean', 'tmax_mean', 'tmin_mean'"
   ]
  },
  {
   "cell_type": "markdown",
   "id": "7781a5ca",
   "metadata": {},
   "source": [
    "### Univariate analysis on eventDate"
   ]
  },
  {
   "cell_type": "code",
   "execution_count": 32,
   "id": "c2cf1e27",
   "metadata": {},
   "outputs": [
    {
     "data": {
      "text/plain": [
       "2010-12-17 00:00:00    1712\n",
       "2010-11-01 00:00:00     894\n",
       "2010-12-18 00:00:00     800\n",
       "2010-12-01 00:00:00     756\n",
       "2010-11-05 00:00:00     669\n",
       "                       ... \n",
       "2021-04-09 20:36:52       1\n",
       "2017-01-13 11:25:00       1\n",
       "2020-01-17 10:46:30       1\n",
       "2018-02-11 03:31:00       1\n",
       "1924-03-28 00:00:00       1\n",
       "Name: eventDate, Length: 18147, dtype: int64"
      ]
     },
     "execution_count": 32,
     "metadata": {},
     "output_type": "execute_result"
    }
   ],
   "source": [
    "#getting the value_count of eventDate column\n",
    "Frog_Data3['eventDate'].value_counts()"
   ]
  },
  {
   "cell_type": "code",
   "execution_count": 33,
   "id": "2bacd19c",
   "metadata": {},
   "outputs": [
    {
     "data": {
      "text/plain": [
       "8765"
      ]
     },
     "execution_count": 33,
     "metadata": {},
     "output_type": "execute_result"
    }
   ],
   "source": [
    "#getting the sum of null values \n",
    "Frog_Data3['eventDate'].isnull().sum()"
   ]
  },
  {
   "cell_type": "markdown",
   "id": "881f6e0c",
   "metadata": {},
   "source": [
    "# Multivariate analysis"
   ]
  },
  {
   "cell_type": "markdown",
   "id": "d0bbbb2d",
   "metadata": {},
   "source": [
    "1. Finding the population of species per countries"
   ]
  },
  {
   "cell_type": "code",
   "execution_count": 34,
   "id": "739f14f3",
   "metadata": {},
   "outputs": [
    {
     "data": {
      "text/plain": [
       "species                    country     \n",
       "Agalychnis Callidryas      Costa Rica        1234\n",
       "                           Mexico             454\n",
       "                           Panama             221\n",
       "                           Honduras           144\n",
       "                           Nicaragua          108\n",
       "                           Guatemala           30\n",
       "                           Belize              21\n",
       "Austrochaperina Pluvialis  Australia          541\n",
       "Chiromantis Xerampelina    South Africa       397\n",
       "                           Zimbabwe            85\n",
       "                           Mozambique          79\n",
       "                           Eswatini            38\n",
       "                           Botswana            37\n",
       "                           Zambia              29\n",
       "                           Namibia             23\n",
       "                           Malawi              14\n",
       "Crinia Glauerti            Australia         9393\n",
       "Crinia Signifera           Australia       126657\n",
       "Dendrobates Auratus        Costa Rica        1023\n",
       "                           Panama             534\n",
       "                           Colombia           135\n",
       "                           Nicaragua           25\n",
       "Litoria Fallax             Australia        47332\n",
       "Ranoidea Australis         Australia         4097\n",
       "Xenopus Laevis             South Africa       951\n",
       "                           Namibia             80\n",
       "                           Mozambique          28\n",
       "                           Zimbabwe            25\n",
       "                           Eswatini            24\n",
       "                           Lesotho             17\n",
       "                           Botswana             4\n",
       "                           Malawi               4\n",
       "                           Zambia               3\n",
       "                           Angola               2\n",
       "                           Mexico               1\n",
       "Name: country, dtype: int64"
      ]
     },
     "execution_count": 34,
     "metadata": {},
     "output_type": "execute_result"
    }
   ],
   "source": [
    "Frog_Data3.groupby(['species'])['country'].value_counts(ascending=False)"
   ]
  },
  {
   "cell_type": "code",
   "execution_count": 35,
   "id": "6b3b657c",
   "metadata": {},
   "outputs": [
    {
     "data": {
      "text/plain": [
       "species                    continent      \n",
       "Agalychnis Callidryas      Central America      2212\n",
       "Austrochaperina Pluvialis  Australia             541\n",
       "Chiromantis Xerampelina    Africa                702\n",
       "Crinia Glauerti            Australia            9393\n",
       "Crinia Signifera           Australia          126657\n",
       "Dendrobates Auratus        Central America      1717\n",
       "Litoria Fallax             Australia           47332\n",
       "Ranoidea Australis         Australia            4097\n",
       "Xenopus Laevis             Africa               1138\n",
       "                           Central America         1\n",
       "Name: continent, dtype: int64"
      ]
     },
     "execution_count": 35,
     "metadata": {},
     "output_type": "execute_result"
    }
   ],
   "source": [
    "Frog_Data3.groupby(['species'])['continent'].value_counts(ascending=False)"
   ]
  },
  {
   "cell_type": "markdown",
   "id": "1bd1f767",
   "metadata": {},
   "source": [
    "1. The species are specific for each continent\n",
    "2. In africa the species opresent are Xenopus Laevis, Chiromantis Xerampelina . with **Xenopus Laevis** being the highest\n",
    "3. Species present in Australia are Austrochaperina Pluvialis, Crinia Glauerti, Crinia Signifera, Litoria Fallax, Ranoidea Australis with **Litoria Fallax** being the highest\n",
    "4. Species present in Central America are Agalychnis Callidryas, Dendrobates Auratus, with the highest being **Agalychnis Callidryas**"
   ]
  },
  {
   "cell_type": "markdown",
   "id": "5377cc18",
   "metadata": {},
   "source": [
    "2. Finding distribution of species across the years"
   ]
  },
  {
   "cell_type": "code",
   "execution_count": 36,
   "id": "ba1ccab5",
   "metadata": {},
   "outputs": [
    {
     "data": {
      "image/png": "[encoded data removed]",
      "text/plain": [
       "<Figure size 432x288 with 1 Axes>"
      ]
     },
     "metadata": {
      "needs_background": "light"
     },
     "output_type": "display_data"
    }
   ],
   "source": [
    "#plotting a scatter plot of eventdate per specie\n",
    "Frog_Data3.plot.scatter(x = 'eventDate', y = 'species',  c = 'orange');"
   ]
  },
  {
   "cell_type": "markdown",
   "id": "44854978",
   "metadata": {},
   "source": [
    "Most of the species occur in the years 1960 to the 2000's"
   ]
  },
  {
   "cell_type": "markdown",
   "id": "d1cd1c86",
   "metadata": {},
   "source": [
    "3. Finding out the distribution of ppt_mean per speacie"
   ]
  },
  {
   "cell_type": "code",
   "execution_count": 37,
   "id": "06690960",
   "metadata": {},
   "outputs": [
    {
     "data": {
      "image/png": "[encoded data removed]",
      "text/plain": [
       "<Figure size 432x288 with 1 Axes>"
      ]
     },
     "metadata": {
      "needs_background": "light"
     },
     "output_type": "display_data"
    }
   ],
   "source": [
    "Frog_Data3.plot.scatter(x = 'species', y = 'ppt_mean',  c = 'green');\n",
    "plt.xticks(rotation=45)\n",
    "plt.show()"
   ]
  },
  {
   "cell_type": "markdown",
   "id": "8a9522dd",
   "metadata": {},
   "source": [
    "3. Finding out the distribution of soil_mean per specie"
   ]
  },
  {
   "cell_type": "code",
   "execution_count": 38,
   "id": "926e400e",
   "metadata": {},
   "outputs": [
    {
     "data": {
      "image/png": "[encoded data removed]",
      "text/plain": [
       "<Figure size 432x288 with 1 Axes>"
      ]
     },
     "metadata": {
      "needs_background": "light"
     },
     "output_type": "display_data"
    }
   ],
   "source": [
    "Frog_Data3.plot.scatter(x = 'soil_mean', y = 'species',  c = 'purple');"
   ]
  },
  {
   "cell_type": "markdown",
   "id": "cad51958",
   "metadata": {},
   "source": [
    "Almost all speies have a soil mean in the arange of 0 and 200 except for Austrochaperina Plauvialis which has soil mean quite dispersed"
   ]
  },
  {
   "cell_type": "markdown",
   "id": "62cb0b5c",
   "metadata": {},
   "source": [
    "4. Finding out the distribution of tmax_mean per specie"
   ]
  },
  {
   "cell_type": "code",
   "execution_count": 39,
   "id": "1e2816a4",
   "metadata": {},
   "outputs": [
    {
     "data": {
      "image/png": "[encoded data removed]",
      "text/plain": [
       "<Figure size 432x288 with 1 Axes>"
      ]
     },
     "metadata": {
      "needs_background": "light"
     },
     "output_type": "display_data"
    }
   ],
   "source": [
    "Frog_Data3.plot.scatter(x = 'tmax_mean', y = 'species', c = 'red');"
   ]
  },
  {
   "cell_type": "markdown",
   "id": "a42199e7",
   "metadata": {},
   "source": [
    "Crinia Signifera which has the highest number of recorded species has a tmax_mean ranging from 10 to 35 while the others have a tmax_mean just within a small range"
   ]
  },
  {
   "cell_type": "markdown",
   "id": "ae0eb46f",
   "metadata": {},
   "source": [
    "5. Finding out the distribution of tmin_mean per specie"
   ]
  },
  {
   "cell_type": "code",
   "execution_count": 40,
   "id": "ce2c1114",
   "metadata": {},
   "outputs": [
    {
     "data": {
      "image/png": "[encoded data removed]",
      "text/plain": [
       "<Figure size 432x288 with 1 Axes>"
      ]
     },
     "metadata": {
      "needs_background": "light"
     },
     "output_type": "display_data"
    }
   ],
   "source": [
    "Frog_Data3.plot.scatter(x = 'tmin_mean', y = 'species', c = 'blue');"
   ]
  },
  {
   "cell_type": "markdown",
   "id": "4bd08755",
   "metadata": {},
   "source": [
    "6. Findig the realtion between soil_mean and ppt_mean"
   ]
  },
  {
   "cell_type": "code",
   "execution_count": 41,
   "id": "abc386b8",
   "metadata": {},
   "outputs": [
    {
     "data": {
      "image/png": "[encoded data removed]",
      "text/plain": [
       "<Figure size 432x288 with 1 Axes>"
      ]
     },
     "metadata": {
      "needs_background": "light"
     },
     "output_type": "display_data"
    }
   ],
   "source": [
    "Frog_Data3.plot.scatter(x = 'soil_mean', y = 'ppt_mean',  c = 'red');"
   ]
  },
  {
   "cell_type": "markdown",
   "id": "9dd0f899",
   "metadata": {},
   "source": [
    "6. Findig the realtion between tmax_mean and tmin_mean"
   ]
  },
  {
   "cell_type": "code",
   "execution_count": 42,
   "id": "f7776c85",
   "metadata": {},
   "outputs": [
    {
     "data": {
      "image/png": "[encoded data removed]",
      "text/plain": [
       "<Figure size 432x288 with 1 Axes>"
      ]
     },
     "metadata": {
      "needs_background": "light"
     },
     "output_type": "display_data"
    }
   ],
   "source": [
    "Frog_Data3.plot.scatter(x = 'tmax_mean', y = 'tmin_mean',  c = 'red');"
   ]
  },
  {
   "cell_type": "markdown",
   "id": "669e8f4b",
   "metadata": {},
   "source": [
    "there is a linear reltionship between tmax_mean and tmin_mean"
   ]
  },
  {
   "cell_type": "markdown",
   "id": "f94e3bfc",
   "metadata": {},
   "source": [
    "6. Findig the realtion between tmax_mean and soil_mean"
   ]
  },
  {
   "cell_type": "code",
   "execution_count": 43,
   "id": "c7c4c3cd",
   "metadata": {},
   "outputs": [
    {
     "data": {
      "image/png": "[encoded data removed]",
      "text/plain": [
       "<Figure size 432x288 with 1 Axes>"
      ]
     },
     "metadata": {
      "needs_background": "light"
     },
     "output_type": "display_data"
    }
   ],
   "source": [
    "Frog_Data3.plot.scatter(x = 'soil_mean', y = 'tmax_mean',  c = 'red');"
   ]
  },
  {
   "cell_type": "markdown",
   "id": "9ff2b684",
   "metadata": {},
   "source": [
    "Most species in a high soil_mean have a high tmax_ mean . also species with low soil_mean can have a high or low tmax_mean"
   ]
  },
  {
   "cell_type": "markdown",
   "id": "ff0df9f4",
   "metadata": {},
   "source": [
    "7. Findig the realtion between tmax_mean and ppt_mean"
   ]
  },
  {
   "cell_type": "code",
   "execution_count": 44,
   "id": "a99ad25f",
   "metadata": {},
   "outputs": [
    {
     "data": {
      "image/png": "[encoded data removed]",
      "text/plain": [
       "<Figure size 432x288 with 1 Axes>"
      ]
     },
     "metadata": {
      "needs_background": "light"
     },
     "output_type": "display_data"
    }
   ],
   "source": [
    "Frog_Data3.plot.scatter(x = 'ppt_mean', y = 'tmax_mean',  c = 'red');"
   ]
  },
  {
   "cell_type": "markdown",
   "id": "1287c947",
   "metadata": {},
   "source": [
    "We can see that for most of the species have 0 and 150 and some outliers  with higher ppt_mean"
   ]
  },
  {
   "cell_type": "markdown",
   "id": "c3d5f5e3",
   "metadata": {},
   "source": [
    "Groupby the features and plotting by species"
   ]
  },
  {
   "cell_type": "code",
   "execution_count": 45,
   "id": "1d1cf2cd",
   "metadata": {},
   "outputs": [
    {
     "data": {
      "text/html": [
       "<div>\n",
       "<style scoped>\n",
       "    .dataframe tbody tr th:only-of-type {\n",
       "        vertical-align: middle;\n",
       "    }\n",
       "\n",
       "    .dataframe tbody tr th {\n",
       "        vertical-align: top;\n",
       "    }\n",
       "\n",
       "    .dataframe thead th {\n",
       "        text-align: right;\n",
       "    }\n",
       "</style>\n",
       "<table border=\"1\" class=\"dataframe\">\n",
       "  <thead>\n",
       "    <tr style=\"text-align: right;\">\n",
       "      <th></th>\n",
       "      <th>ppt_mean</th>\n",
       "      <th>soil_mean</th>\n",
       "    </tr>\n",
       "    <tr>\n",
       "      <th>species</th>\n",
       "      <th></th>\n",
       "      <th></th>\n",
       "    </tr>\n",
       "  </thead>\n",
       "  <tbody>\n",
       "    <tr>\n",
       "      <th>Agalychnis Callidryas</th>\n",
       "      <td>4.434278e+05</td>\n",
       "      <td>2.758776e+05</td>\n",
       "    </tr>\n",
       "    <tr>\n",
       "      <th>Austrochaperina Pluvialis</th>\n",
       "      <td>9.033123e+04</td>\n",
       "      <td>1.673042e+05</td>\n",
       "    </tr>\n",
       "    <tr>\n",
       "      <th>Chiromantis Xerampelina</th>\n",
       "      <td>3.628890e+04</td>\n",
       "      <td>1.379532e+04</td>\n",
       "    </tr>\n",
       "    <tr>\n",
       "      <th>Crinia Glauerti</th>\n",
       "      <td>5.114931e+05</td>\n",
       "      <td>5.671159e+05</td>\n",
       "    </tr>\n",
       "    <tr>\n",
       "      <th>Crinia Signifera</th>\n",
       "      <td>7.700863e+06</td>\n",
       "      <td>5.245758e+06</td>\n",
       "    </tr>\n",
       "    <tr>\n",
       "      <th>Dendrobates Auratus</th>\n",
       "      <td>3.708973e+05</td>\n",
       "      <td>2.432293e+05</td>\n",
       "    </tr>\n",
       "    <tr>\n",
       "      <th>Litoria Fallax</th>\n",
       "      <td>3.619518e+06</td>\n",
       "      <td>3.366192e+06</td>\n",
       "    </tr>\n",
       "    <tr>\n",
       "      <th>Ranoidea Australis</th>\n",
       "      <td>3.510619e+05</td>\n",
       "      <td>4.964126e+05</td>\n",
       "    </tr>\n",
       "    <tr>\n",
       "      <th>Xenopus Laevis</th>\n",
       "      <td>4.501405e+04</td>\n",
       "      <td>1.108302e+04</td>\n",
       "    </tr>\n",
       "  </tbody>\n",
       "</table>\n",
       "</div>"
      ],
      "text/plain": [
       "                               ppt_mean     soil_mean\n",
       "species                                              \n",
       "Agalychnis Callidryas      4.434278e+05  2.758776e+05\n",
       "Austrochaperina Pluvialis  9.033123e+04  1.673042e+05\n",
       "Chiromantis Xerampelina    3.628890e+04  1.379532e+04\n",
       "Crinia Glauerti            5.114931e+05  5.671159e+05\n",
       "Crinia Signifera           7.700863e+06  5.245758e+06\n",
       "Dendrobates Auratus        3.708973e+05  2.432293e+05\n",
       "Litoria Fallax             3.619518e+06  3.366192e+06\n",
       "Ranoidea Australis         3.510619e+05  4.964126e+05\n",
       "Xenopus Laevis             4.501405e+04  1.108302e+04"
      ]
     },
     "execution_count": 45,
     "metadata": {},
     "output_type": "execute_result"
    }
   ],
   "source": [
    "Frog_Data3.groupby(['species'])[['ppt_mean', 'soil_mean']].sum()"
   ]
  },
  {
   "cell_type": "code",
   "execution_count": 46,
   "id": "57524ff6",
   "metadata": {},
   "outputs": [
    {
     "data": {
      "image/png": "[encoded data removed]",
      "text/plain": [
       "<Figure size 432x288 with 2 Axes>"
      ]
     },
     "metadata": {
      "needs_background": "light"
     },
     "output_type": "display_data"
    }
   ],
   "source": [
    "Frog_Data3.groupby(['species'])[['ppt_mean', 'soil_mean']].min().plot(kind='line', subplots=True)\n",
    "plt.title('Species per min of ppt and soil', fontsize=10)\n",
    "plt.xticks(rotation=45)\n",
    "plt.show()"
   ]
  },
  {
   "cell_type": "code",
   "execution_count": 47,
   "id": "0fb84a5f",
   "metadata": {},
   "outputs": [
    {
     "data": {
      "image/png": "[encoded data removed]",
      "text/plain": [
       "<Figure size 432x288 with 2 Axes>"
      ]
     },
     "metadata": {
      "needs_background": "light"
     },
     "output_type": "display_data"
    }
   ],
   "source": [
    "Frog_Data3.groupby(['species'])[['ppt_mean', 'soil_mean']].max().plot(kind='line', subplots=True)\n",
    "plt.title('Species per max of ppt and soil', fontsize=10)\n",
    "plt.xticks(rotation=45)\n",
    "plt.show()"
   ]
  },
  {
   "cell_type": "code",
   "execution_count": 48,
   "id": "c343d15b",
   "metadata": {},
   "outputs": [
    {
     "data": {
      "image/png": "[encoded data removed]",
      "text/plain": [
       "<Figure size 432x288 with 2 Axes>"
      ]
     },
     "metadata": {
      "needs_background": "light"
     },
     "output_type": "display_data"
    }
   ],
   "source": [
    "Frog_Data3.groupby(['species'])[['ppt_mean', 'soil_mean']].median().plot(kind='line', subplots=True)\n",
    "plt.title('Species per min of ppt and soil', fontsize=10)\n",
    "plt.xticks(rotation=45)\n",
    "plt.show()"
   ]
  },
  {
   "cell_type": "code",
   "execution_count": 49,
   "id": "61189f03",
   "metadata": {},
   "outputs": [
    {
     "data": {
      "text/html": [
       "<style type=\"text/css\">\n",
       "#T_9c245_row0_col0, #T_9c245_row1_col1, #T_9c245_row2_col2, #T_9c245_row3_col3, #T_9c245_row4_col4, #T_9c245_row5_col5 {\n",
       "  background-color: #023858;\n",
       "  color: #f1f1f1;\n",
       "}\n",
       "#T_9c245_row0_col1, #T_9c245_row1_col0, #T_9c245_row1_col2, #T_9c245_row1_col3, #T_9c245_row1_col4, #T_9c245_row1_col5 {\n",
       "  background-color: #fff7fb;\n",
       "  color: #000000;\n",
       "}\n",
       "#T_9c245_row0_col2 {\n",
       "  background-color: #04649e;\n",
       "  color: #f1f1f1;\n",
       "}\n",
       "#T_9c245_row0_col3 {\n",
       "  background-color: #509ac6;\n",
       "  color: #f1f1f1;\n",
       "}\n",
       "#T_9c245_row0_col4 {\n",
       "  background-color: #0566a0;\n",
       "  color: #f1f1f1;\n",
       "}\n",
       "#T_9c245_row0_col5 {\n",
       "  background-color: #046299;\n",
       "  color: #f1f1f1;\n",
       "}\n",
       "#T_9c245_row2_col0 {\n",
       "  background-color: #046097;\n",
       "  color: #f1f1f1;\n",
       "}\n",
       "#T_9c245_row2_col1 {\n",
       "  background-color: #ebe6f2;\n",
       "  color: #000000;\n",
       "}\n",
       "#T_9c245_row2_col3 {\n",
       "  background-color: #056ba9;\n",
       "  color: #f1f1f1;\n",
       "}\n",
       "#T_9c245_row2_col4 {\n",
       "  background-color: #60a1ca;\n",
       "  color: #f1f1f1;\n",
       "}\n",
       "#T_9c245_row2_col5 {\n",
       "  background-color: #2484ba;\n",
       "  color: #f1f1f1;\n",
       "}\n",
       "#T_9c245_row3_col0 {\n",
       "  background-color: #1379b5;\n",
       "  color: #f1f1f1;\n",
       "}\n",
       "#T_9c245_row3_col1 {\n",
       "  background-color: #b7c5df;\n",
       "  color: #000000;\n",
       "}\n",
       "#T_9c245_row3_col2 {\n",
       "  background-color: #04629a;\n",
       "  color: #f1f1f1;\n",
       "}\n",
       "#T_9c245_row3_col4 {\n",
       "  background-color: #65a3cb;\n",
       "  color: #f1f1f1;\n",
       "}\n",
       "#T_9c245_row3_col5 {\n",
       "  background-color: #308cbe;\n",
       "  color: #f1f1f1;\n",
       "}\n",
       "#T_9c245_row4_col0 {\n",
       "  background-color: #045e94;\n",
       "  color: #f1f1f1;\n",
       "}\n",
       "#T_9c245_row4_col1 {\n",
       "  background-color: #d7d6e9;\n",
       "  color: #000000;\n",
       "}\n",
       "#T_9c245_row4_col2 {\n",
       "  background-color: #4897c4;\n",
       "  color: #f1f1f1;\n",
       "}\n",
       "#T_9c245_row4_col3 {\n",
       "  background-color: #86b0d3;\n",
       "  color: #000000;\n",
       "}\n",
       "#T_9c245_row4_col5, #T_9c245_row5_col4 {\n",
       "  background-color: #034871;\n",
       "  color: #f1f1f1;\n",
       "}\n",
       "#T_9c245_row5_col0 {\n",
       "  background-color: #045d92;\n",
       "  color: #f1f1f1;\n",
       "}\n",
       "#T_9c245_row5_col1 {\n",
       "  background-color: #e0dded;\n",
       "  color: #000000;\n",
       "}\n",
       "#T_9c245_row5_col2 {\n",
       "  background-color: #1c7fb8;\n",
       "  color: #f1f1f1;\n",
       "}\n",
       "#T_9c245_row5_col3 {\n",
       "  background-color: #569dc8;\n",
       "  color: #f1f1f1;\n",
       "}\n",
       "</style>\n",
       "<table id=\"T_9c245_\">\n",
       "  <thead>\n",
       "    <tr>\n",
       "      <th class=\"blank level0\" >&nbsp;</th>\n",
       "      <th class=\"col_heading level0 col0\" >decimalLatitude</th>\n",
       "      <th class=\"col_heading level0 col1\" >decimalLongitude</th>\n",
       "      <th class=\"col_heading level0 col2\" >ppt_mean</th>\n",
       "      <th class=\"col_heading level0 col3\" >soil_mean</th>\n",
       "      <th class=\"col_heading level0 col4\" >tmax_mean</th>\n",
       "      <th class=\"col_heading level0 col5\" >tmin_mean</th>\n",
       "    </tr>\n",
       "  </thead>\n",
       "  <tbody>\n",
       "    <tr>\n",
       "      <th id=\"T_9c245_level0_row0\" class=\"row_heading level0 row0\" >decimalLatitude</th>\n",
       "      <td id=\"T_9c245_row0_col0\" class=\"data row0 col0\" >1.000000</td>\n",
       "      <td id=\"T_9c245_row0_col1\" class=\"data row0 col1\" >-0.769027</td>\n",
       "      <td id=\"T_9c245_row0_col2\" class=\"data row0 col2\" >0.711744</td>\n",
       "      <td id=\"T_9c245_row0_col3\" class=\"data row0 col3\" >0.492328</td>\n",
       "      <td id=\"T_9c245_row0_col4\" class=\"data row0 col4\" >0.733420</td>\n",
       "      <td id=\"T_9c245_row0_col5\" class=\"data row0 col5\" >0.750964</td>\n",
       "    </tr>\n",
       "    <tr>\n",
       "      <th id=\"T_9c245_level0_row1\" class=\"row_heading level0 row1\" >decimalLongitude</th>\n",
       "      <td id=\"T_9c245_row1_col0\" class=\"data row1 col0\" >-0.769027</td>\n",
       "      <td id=\"T_9c245_row1_col1\" class=\"data row1 col1\" >1.000000</td>\n",
       "      <td id=\"T_9c245_row1_col2\" class=\"data row1 col2\" >-0.539566</td>\n",
       "      <td id=\"T_9c245_row1_col3\" class=\"data row1 col3\" >-0.191008</td>\n",
       "      <td id=\"T_9c245_row1_col4\" class=\"data row1 col4\" >-0.380660</td>\n",
       "      <td id=\"T_9c245_row1_col5\" class=\"data row1 col5\" >-0.450078</td>\n",
       "    </tr>\n",
       "    <tr>\n",
       "      <th id=\"T_9c245_level0_row2\" class=\"row_heading level0 row2\" >ppt_mean</th>\n",
       "      <td id=\"T_9c245_row2_col0\" class=\"data row2 col0\" >0.711744</td>\n",
       "      <td id=\"T_9c245_row2_col1\" class=\"data row2 col1\" >-0.539566</td>\n",
       "      <td id=\"T_9c245_row2_col2\" class=\"data row2 col2\" >1.000000</td>\n",
       "      <td id=\"T_9c245_row2_col3\" class=\"data row2 col3\" >0.732101</td>\n",
       "      <td id=\"T_9c245_row2_col4\" class=\"data row2 col4\" >0.365060</td>\n",
       "      <td id=\"T_9c245_row2_col5\" class=\"data row2 col5\" >0.521463</td>\n",
       "    </tr>\n",
       "    <tr>\n",
       "      <th id=\"T_9c245_level0_row3\" class=\"row_heading level0 row3\" >soil_mean</th>\n",
       "      <td id=\"T_9c245_row3_col0\" class=\"data row3 col0\" >0.492328</td>\n",
       "      <td id=\"T_9c245_row3_col1\" class=\"data row3 col1\" >-0.191008</td>\n",
       "      <td id=\"T_9c245_row3_col2\" class=\"data row3 col2\" >0.732101</td>\n",
       "      <td id=\"T_9c245_row3_col3\" class=\"data row3 col3\" >1.000000</td>\n",
       "      <td id=\"T_9c245_row3_col4\" class=\"data row3 col4\" >0.351172</td>\n",
       "      <td id=\"T_9c245_row3_col5\" class=\"data row3 col5\" >0.477221</td>\n",
       "    </tr>\n",
       "    <tr>\n",
       "      <th id=\"T_9c245_level0_row4\" class=\"row_heading level0 row4\" >tmax_mean</th>\n",
       "      <td id=\"T_9c245_row4_col0\" class=\"data row4 col0\" >0.733420</td>\n",
       "      <td id=\"T_9c245_row4_col1\" class=\"data row4 col1\" >-0.380660</td>\n",
       "      <td id=\"T_9c245_row4_col2\" class=\"data row4 col2\" >0.365060</td>\n",
       "      <td id=\"T_9c245_row4_col3\" class=\"data row4 col3\" >0.351172</td>\n",
       "      <td id=\"T_9c245_row4_col4\" class=\"data row4 col4\" >1.000000</td>\n",
       "      <td id=\"T_9c245_row4_col5\" class=\"data row4 col5\" >0.914388</td>\n",
       "    </tr>\n",
       "    <tr>\n",
       "      <th id=\"T_9c245_level0_row5\" class=\"row_heading level0 row5\" >tmin_mean</th>\n",
       "      <td id=\"T_9c245_row5_col0\" class=\"data row5 col0\" >0.750964</td>\n",
       "      <td id=\"T_9c245_row5_col1\" class=\"data row5 col1\" >-0.450078</td>\n",
       "      <td id=\"T_9c245_row5_col2\" class=\"data row5 col2\" >0.521463</td>\n",
       "      <td id=\"T_9c245_row5_col3\" class=\"data row5 col3\" >0.477221</td>\n",
       "      <td id=\"T_9c245_row5_col4\" class=\"data row5 col4\" >0.914388</td>\n",
       "      <td id=\"T_9c245_row5_col5\" class=\"data row5 col5\" >1.000000</td>\n",
       "    </tr>\n",
       "  </tbody>\n",
       "</table>\n"
      ],
      "text/plain": [
       "<pandas.io.formats.style.Styler at 0x1b920d0ffa0>"
      ]
     },
     "execution_count": 49,
     "metadata": {},
     "output_type": "execute_result"
    }
   ],
   "source": [
    "corr = Frog_Data3.corr()\n",
    "corr.style.background_gradient()"
   ]
  },
  {
   "cell_type": "markdown",
   "id": "59ee31cc",
   "metadata": {},
   "source": [
    "From the correlation matrix we can see that not all the columns are related . We will dropping the following columns [decimalLatitude, decimalLongitude, 'stateProvince', 'country'"
   ]
  },
  {
   "cell_type": "code",
   "execution_count": 50,
   "id": "23f3bb54",
   "metadata": {
    "scrolled": true
   },
   "outputs": [
    {
     "data": {
      "text/html": [
       "<div>\n",
       "<style scoped>\n",
       "    .dataframe tbody tr th:only-of-type {\n",
       "        vertical-align: middle;\n",
       "    }\n",
       "\n",
       "    .dataframe tbody tr th {\n",
       "        vertical-align: top;\n",
       "    }\n",
       "\n",
       "    .dataframe thead th {\n",
       "        text-align: right;\n",
       "    }\n",
       "</style>\n",
       "<table border=\"1\" class=\"dataframe\">\n",
       "  <thead>\n",
       "    <tr style=\"text-align: right;\">\n",
       "      <th></th>\n",
       "      <th>continent</th>\n",
       "      <th>species</th>\n",
       "      <th>ppt_mean</th>\n",
       "      <th>soil_mean</th>\n",
       "      <th>tmax_mean</th>\n",
       "      <th>tmin_mean</th>\n",
       "    </tr>\n",
       "  </thead>\n",
       "  <tbody>\n",
       "    <tr>\n",
       "      <th>0</th>\n",
       "      <td>Australia</td>\n",
       "      <td>Litoria Fallax</td>\n",
       "      <td>96.00000</td>\n",
       "      <td>118.71667</td>\n",
       "      <td>23.830004</td>\n",
       "      <td>13.908336</td>\n",
       "    </tr>\n",
       "    <tr>\n",
       "      <th>1</th>\n",
       "      <td>Central America</td>\n",
       "      <td>Agalychnis Callidryas</td>\n",
       "      <td>231.51666</td>\n",
       "      <td>131.88333</td>\n",
       "      <td>31.841667</td>\n",
       "      <td>21.111668</td>\n",
       "    </tr>\n",
       "    <tr>\n",
       "      <th>2</th>\n",
       "      <td>Central America</td>\n",
       "      <td>Agalychnis Callidryas</td>\n",
       "      <td>279.20000</td>\n",
       "      <td>51.70000</td>\n",
       "      <td>31.341671</td>\n",
       "      <td>22.455004</td>\n",
       "    </tr>\n",
       "    <tr>\n",
       "      <th>3</th>\n",
       "      <td>Central America</td>\n",
       "      <td>Agalychnis Callidryas</td>\n",
       "      <td>192.10000</td>\n",
       "      <td>171.81667</td>\n",
       "      <td>31.043331</td>\n",
       "      <td>20.061670</td>\n",
       "    </tr>\n",
       "    <tr>\n",
       "      <th>4</th>\n",
       "      <td>Australia</td>\n",
       "      <td>Litoria Fallax</td>\n",
       "      <td>84.80000</td>\n",
       "      <td>111.61667</td>\n",
       "      <td>25.933338</td>\n",
       "      <td>13.801668</td>\n",
       "    </tr>\n",
       "  </tbody>\n",
       "</table>\n",
       "</div>"
      ],
      "text/plain": [
       "         continent                species   ppt_mean  soil_mean  tmax_mean  \\\n",
       "0        Australia         Litoria Fallax   96.00000  118.71667  23.830004   \n",
       "1  Central America  Agalychnis Callidryas  231.51666  131.88333  31.841667   \n",
       "2  Central America  Agalychnis Callidryas  279.20000   51.70000  31.341671   \n",
       "3  Central America  Agalychnis Callidryas  192.10000  171.81667  31.043331   \n",
       "4        Australia         Litoria Fallax   84.80000  111.61667  25.933338   \n",
       "\n",
       "   tmin_mean  \n",
       "0  13.908336  \n",
       "1  21.111668  \n",
       "2  22.455004  \n",
       "3  20.061670  \n",
       "4  13.801668  "
      ]
     },
     "execution_count": 50,
     "metadata": {},
     "output_type": "execute_result"
    }
   ],
   "source": [
    "#Dropping unwanted columns for Machine learning model\n",
    "Frog_Data4 = Frog_Data3.drop(['stateProvince', 'country', 'decimalLatitude', 'decimalLongitude','eventDate'] ,axis=1)\n",
    "Frog_Data4.head(5)"
   ]
  },
  {
   "cell_type": "markdown",
   "id": "2643cbea",
   "metadata": {},
   "source": [
    "Encoding categorical columns for Machine learning model"
   ]
  },
  {
   "cell_type": "code",
   "execution_count": 51,
   "id": "c47bf8a2",
   "metadata": {},
   "outputs": [
    {
     "name": "stderr",
     "output_type": "stream",
     "text": [
      "C:\\Users\\Lillian\\AppData\\Local\\Temp/ipykernel_7636/1310264801.py:4: SettingWithCopyWarning: \n",
      "A value is trying to be set on a copy of a slice from a DataFrame.\n",
      "Try using .loc[row_indexer,col_indexer] = value instead\n",
      "\n",
      "See the caveats in the documentation: https://pandas.pydata.org/pandas-docs/stable/user_guide/indexing.html#returning-a-view-versus-a-copy\n",
      "  Frog_Species_Data['species']= label_encoder.fit_transform(Frog_Species_Data['species'])\n"
     ]
    },
    {
     "data": {
      "text/plain": [
       "array([6, 0, 2, 5, 4, 8, 7, 1, 3])"
      ]
     },
     "execution_count": 51,
     "metadata": {},
     "output_type": "execute_result"
    }
   ],
   "source": [
    "# Encoding Species column\n",
    "Frog_Species_Data = Frog_Data3\n",
    "label_encoder = preprocessing.LabelEncoder()\n",
    "Frog_Species_Data['species']= label_encoder.fit_transform(Frog_Species_Data['species'])  \n",
    "Frog_Species_Data['species'].unique()"
   ]
  },
  {
   "cell_type": "code",
   "execution_count": 52,
   "id": "cdb218ac",
   "metadata": {},
   "outputs": [],
   "source": [
    "# Encoding continent column\n",
    "one_hot = OneHotEncoder()"
   ]
  },
  {
   "cell_type": "code",
   "execution_count": 53,
   "id": "a85f6b02",
   "metadata": {},
   "outputs": [],
   "source": [
    "encoded = one_hot.fit_transform(Frog_Species_Data[['continent']])"
   ]
  },
  {
   "cell_type": "code",
   "execution_count": 54,
   "id": "e5d5efa1",
   "metadata": {},
   "outputs": [
    {
     "name": "stderr",
     "output_type": "stream",
     "text": [
      "C:\\Users\\Lillian\\anaconda3\\lib\\site-packages\\pandas\\core\\frame.py:3678: SettingWithCopyWarning: \n",
      "A value is trying to be set on a copy of a slice from a DataFrame.\n",
      "Try using .loc[row_indexer,col_indexer] = value instead\n",
      "\n",
      "See the caveats in the documentation: https://pandas.pydata.org/pandas-docs/stable/user_guide/indexing.html#returning-a-view-versus-a-copy\n",
      "  self[col] = igetitem(value, i)\n"
     ]
    }
   ],
   "source": [
    "Frog_Species_Data[one_hot.categories_[0]] = encoded.toarray()"
   ]
  },
  {
   "cell_type": "code",
   "execution_count": 55,
   "id": "9fafce0d",
   "metadata": {
    "scrolled": true
   },
   "outputs": [
    {
     "data": {
      "text/html": [
       "<div>\n",
       "<style scoped>\n",
       "    .dataframe tbody tr th:only-of-type {\n",
       "        vertical-align: middle;\n",
       "    }\n",
       "\n",
       "    .dataframe tbody tr th {\n",
       "        vertical-align: top;\n",
       "    }\n",
       "\n",
       "    .dataframe thead th {\n",
       "        text-align: right;\n",
       "    }\n",
       "</style>\n",
       "<table border=\"1\" class=\"dataframe\">\n",
       "  <thead>\n",
       "    <tr style=\"text-align: right;\">\n",
       "      <th></th>\n",
       "      <th>country</th>\n",
       "      <th>continent</th>\n",
       "      <th>decimalLatitude</th>\n",
       "      <th>decimalLongitude</th>\n",
       "      <th>species</th>\n",
       "      <th>ppt_mean</th>\n",
       "      <th>soil_mean</th>\n",
       "      <th>tmax_mean</th>\n",
       "      <th>tmin_mean</th>\n",
       "      <th>eventDate</th>\n",
       "      <th>stateProvince</th>\n",
       "      <th>Africa</th>\n",
       "      <th>Australia</th>\n",
       "      <th>Central America</th>\n",
       "    </tr>\n",
       "  </thead>\n",
       "  <tbody>\n",
       "    <tr>\n",
       "      <th>0</th>\n",
       "      <td>Australia</td>\n",
       "      <td>Australia</td>\n",
       "      <td>-32.719457</td>\n",
       "      <td>152.159267</td>\n",
       "      <td>6</td>\n",
       "      <td>96.00000</td>\n",
       "      <td>118.71667</td>\n",
       "      <td>23.830004</td>\n",
       "      <td>13.908336</td>\n",
       "      <td>2020-01-23 01:38:00</td>\n",
       "      <td>New South Wales</td>\n",
       "      <td>0.0</td>\n",
       "      <td>1.0</td>\n",
       "      <td>0.0</td>\n",
       "    </tr>\n",
       "    <tr>\n",
       "      <th>1</th>\n",
       "      <td>Costa Rica</td>\n",
       "      <td>Central America</td>\n",
       "      <td>8.496999</td>\n",
       "      <td>-83.318613</td>\n",
       "      <td>0</td>\n",
       "      <td>231.51666</td>\n",
       "      <td>131.88333</td>\n",
       "      <td>31.841667</td>\n",
       "      <td>21.111668</td>\n",
       "      <td>2010-03-14 22:23:00</td>\n",
       "      <td>Puntarenas</td>\n",
       "      <td>0.0</td>\n",
       "      <td>0.0</td>\n",
       "      <td>1.0</td>\n",
       "    </tr>\n",
       "    <tr>\n",
       "      <th>2</th>\n",
       "      <td>Costa Rica</td>\n",
       "      <td>Central America</td>\n",
       "      <td>10.450801</td>\n",
       "      <td>-84.068659</td>\n",
       "      <td>0</td>\n",
       "      <td>279.20000</td>\n",
       "      <td>51.70000</td>\n",
       "      <td>31.341671</td>\n",
       "      <td>22.455004</td>\n",
       "      <td>2014-04-11 19:51:57</td>\n",
       "      <td>Heredia</td>\n",
       "      <td>0.0</td>\n",
       "      <td>0.0</td>\n",
       "      <td>1.0</td>\n",
       "    </tr>\n",
       "    <tr>\n",
       "      <th>3</th>\n",
       "      <td>Costa Rica</td>\n",
       "      <td>Central America</td>\n",
       "      <td>9.756705</td>\n",
       "      <td>-84.613363</td>\n",
       "      <td>0</td>\n",
       "      <td>192.10000</td>\n",
       "      <td>171.81667</td>\n",
       "      <td>31.043331</td>\n",
       "      <td>20.061670</td>\n",
       "      <td>2018-07-21 21:24:21</td>\n",
       "      <td>Puntarenas</td>\n",
       "      <td>0.0</td>\n",
       "      <td>0.0</td>\n",
       "      <td>1.0</td>\n",
       "    </tr>\n",
       "    <tr>\n",
       "      <th>4</th>\n",
       "      <td>Australia</td>\n",
       "      <td>Australia</td>\n",
       "      <td>-26.714302</td>\n",
       "      <td>152.815096</td>\n",
       "      <td>6</td>\n",
       "      <td>84.80000</td>\n",
       "      <td>111.61667</td>\n",
       "      <td>25.933338</td>\n",
       "      <td>13.801668</td>\n",
       "      <td>2021-10-29 13:57:00</td>\n",
       "      <td>Queensland</td>\n",
       "      <td>0.0</td>\n",
       "      <td>1.0</td>\n",
       "      <td>0.0</td>\n",
       "    </tr>\n",
       "  </tbody>\n",
       "</table>\n",
       "</div>"
      ],
      "text/plain": [
       "      country        continent  decimalLatitude  decimalLongitude  species  \\\n",
       "0   Australia        Australia       -32.719457        152.159267        6   \n",
       "1  Costa Rica  Central America         8.496999        -83.318613        0   \n",
       "2  Costa Rica  Central America        10.450801        -84.068659        0   \n",
       "3  Costa Rica  Central America         9.756705        -84.613363        0   \n",
       "4   Australia        Australia       -26.714302        152.815096        6   \n",
       "\n",
       "    ppt_mean  soil_mean  tmax_mean  tmin_mean           eventDate  \\\n",
       "0   96.00000  118.71667  23.830004  13.908336 2020-01-23 01:38:00   \n",
       "1  231.51666  131.88333  31.841667  21.111668 2010-03-14 22:23:00   \n",
       "2  279.20000   51.70000  31.341671  22.455004 2014-04-11 19:51:57   \n",
       "3  192.10000  171.81667  31.043331  20.061670 2018-07-21 21:24:21   \n",
       "4   84.80000  111.61667  25.933338  13.801668 2021-10-29 13:57:00   \n",
       "\n",
       "     stateProvince  Africa  Australia  Central America  \n",
       "0  New South Wales     0.0        1.0              0.0  \n",
       "1       Puntarenas     0.0        0.0              1.0  \n",
       "2          Heredia     0.0        0.0              1.0  \n",
       "3       Puntarenas     0.0        0.0              1.0  \n",
       "4       Queensland     0.0        1.0              0.0  "
      ]
     },
     "execution_count": 55,
     "metadata": {},
     "output_type": "execute_result"
    }
   ],
   "source": [
    "Frog_Species_Data.head(5)"
   ]
  },
  {
   "cell_type": "code",
   "execution_count": 56,
   "id": "3bfecf60",
   "metadata": {},
   "outputs": [
    {
     "data": {
      "text/html": [
       "<div>\n",
       "<style scoped>\n",
       "    .dataframe tbody tr th:only-of-type {\n",
       "        vertical-align: middle;\n",
       "    }\n",
       "\n",
       "    .dataframe tbody tr th {\n",
       "        vertical-align: top;\n",
       "    }\n",
       "\n",
       "    .dataframe thead th {\n",
       "        text-align: right;\n",
       "    }\n",
       "</style>\n",
       "<table border=\"1\" class=\"dataframe\">\n",
       "  <thead>\n",
       "    <tr style=\"text-align: right;\">\n",
       "      <th></th>\n",
       "      <th>decimalLatitude</th>\n",
       "      <th>decimalLongitude</th>\n",
       "      <th>species</th>\n",
       "      <th>ppt_mean</th>\n",
       "      <th>soil_mean</th>\n",
       "      <th>tmax_mean</th>\n",
       "      <th>tmin_mean</th>\n",
       "      <th>Africa</th>\n",
       "      <th>Australia</th>\n",
       "      <th>Central America</th>\n",
       "    </tr>\n",
       "  </thead>\n",
       "  <tbody>\n",
       "    <tr>\n",
       "      <th>0</th>\n",
       "      <td>-32.719457</td>\n",
       "      <td>152.159267</td>\n",
       "      <td>6</td>\n",
       "      <td>96.00000</td>\n",
       "      <td>118.71667</td>\n",
       "      <td>23.830004</td>\n",
       "      <td>13.908336</td>\n",
       "      <td>0.0</td>\n",
       "      <td>1.0</td>\n",
       "      <td>0.0</td>\n",
       "    </tr>\n",
       "    <tr>\n",
       "      <th>1</th>\n",
       "      <td>8.496999</td>\n",
       "      <td>-83.318613</td>\n",
       "      <td>0</td>\n",
       "      <td>231.51666</td>\n",
       "      <td>131.88333</td>\n",
       "      <td>31.841667</td>\n",
       "      <td>21.111668</td>\n",
       "      <td>0.0</td>\n",
       "      <td>0.0</td>\n",
       "      <td>1.0</td>\n",
       "    </tr>\n",
       "    <tr>\n",
       "      <th>2</th>\n",
       "      <td>10.450801</td>\n",
       "      <td>-84.068659</td>\n",
       "      <td>0</td>\n",
       "      <td>279.20000</td>\n",
       "      <td>51.70000</td>\n",
       "      <td>31.341671</td>\n",
       "      <td>22.455004</td>\n",
       "      <td>0.0</td>\n",
       "      <td>0.0</td>\n",
       "      <td>1.0</td>\n",
       "    </tr>\n",
       "    <tr>\n",
       "      <th>3</th>\n",
       "      <td>9.756705</td>\n",
       "      <td>-84.613363</td>\n",
       "      <td>0</td>\n",
       "      <td>192.10000</td>\n",
       "      <td>171.81667</td>\n",
       "      <td>31.043331</td>\n",
       "      <td>20.061670</td>\n",
       "      <td>0.0</td>\n",
       "      <td>0.0</td>\n",
       "      <td>1.0</td>\n",
       "    </tr>\n",
       "    <tr>\n",
       "      <th>4</th>\n",
       "      <td>-26.714302</td>\n",
       "      <td>152.815096</td>\n",
       "      <td>6</td>\n",
       "      <td>84.80000</td>\n",
       "      <td>111.61667</td>\n",
       "      <td>25.933338</td>\n",
       "      <td>13.801668</td>\n",
       "      <td>0.0</td>\n",
       "      <td>1.0</td>\n",
       "      <td>0.0</td>\n",
       "    </tr>\n",
       "  </tbody>\n",
       "</table>\n",
       "</div>"
      ],
      "text/plain": [
       "   decimalLatitude  decimalLongitude  species   ppt_mean  soil_mean  \\\n",
       "0       -32.719457        152.159267        6   96.00000  118.71667   \n",
       "1         8.496999        -83.318613        0  231.51666  131.88333   \n",
       "2        10.450801        -84.068659        0  279.20000   51.70000   \n",
       "3         9.756705        -84.613363        0  192.10000  171.81667   \n",
       "4       -26.714302        152.815096        6   84.80000  111.61667   \n",
       "\n",
       "   tmax_mean  tmin_mean  Africa  Australia  Central America  \n",
       "0  23.830004  13.908336     0.0        1.0              0.0  \n",
       "1  31.841667  21.111668     0.0        0.0              1.0  \n",
       "2  31.341671  22.455004     0.0        0.0              1.0  \n",
       "3  31.043331  20.061670     0.0        0.0              1.0  \n",
       "4  25.933338  13.801668     0.0        1.0              0.0  "
      ]
     },
     "execution_count": 56,
     "metadata": {},
     "output_type": "execute_result"
    }
   ],
   "source": [
    "Final_Data = Frog_Species_Data.drop(['continent','country', 'stateProvince', 'eventDate' ], axis=1)\n",
    "Final_Data.head(5)"
   ]
  },
  {
   "cell_type": "code",
   "execution_count": 57,
   "id": "4825d16b",
   "metadata": {},
   "outputs": [
    {
     "data": {
      "text/plain": [
       "85692"
      ]
     },
     "execution_count": 57,
     "metadata": {},
     "output_type": "execute_result"
    }
   ],
   "source": [
    "sum(Final_Data.duplicated())"
   ]
  },
  {
   "cell_type": "code",
   "execution_count": 58,
   "id": "5e2cdb18",
   "metadata": {},
   "outputs": [],
   "source": [
    "X = Final_Data.iloc[:,Final_Data.columns != 'species']\n",
    "y = Final_Data.species"
   ]
  },
  {
   "cell_type": "code",
   "execution_count": 59,
   "id": "5d0871f1",
   "metadata": {},
   "outputs": [],
   "source": [
    "X_train, X_test, y_train, y_test = train_test_split(\n",
    "X, y, test_size=0.20, random_state=5, stratify=y)"
   ]
  },
  {
   "cell_type": "code",
   "execution_count": 60,
   "id": "d383d3c9",
   "metadata": {},
   "outputs": [
    {
     "data": {
      "text/plain": [
       "StandardScaler(with_mean=False, with_std=False)"
      ]
     },
     "execution_count": 60,
     "metadata": {},
     "output_type": "execute_result"
    }
   ],
   "source": [
    "scaler = StandardScaler(with_mean=False, with_std=False)\n",
    "scaler.fit(X)"
   ]
  },
  {
   "cell_type": "code",
   "execution_count": 61,
   "id": "146e8020",
   "metadata": {},
   "outputs": [],
   "source": [
    "X_train = scaler.transform(X_train)\n",
    "X_test = scaler.transform(X_test) "
   ]
  },
  {
   "cell_type": "code",
   "execution_count": 91,
   "id": "3e099b75",
   "metadata": {},
   "outputs": [
    {
     "data": {
      "text/plain": [
       "KNeighborsClassifier()"
      ]
     },
     "execution_count": 91,
     "metadata": {},
     "output_type": "execute_result"
    }
   ],
   "source": [
    "classifier = KNeighborsClassifier(n_neighbors=5)\n",
    "classifier.fit(X_train, y_train)"
   ]
  },
  {
   "cell_type": "code",
   "execution_count": 92,
   "id": "fae17806",
   "metadata": {},
   "outputs": [],
   "source": [
    "y_predict = classifier.predict(X_test)"
   ]
  },
  {
   "cell_type": "code",
   "execution_count": 96,
   "id": "72fd2d7a",
   "metadata": {},
   "outputs": [
    {
     "name": "stdout",
     "output_type": "stream",
     "text": [
      "[4 4 4 ... 6 4 4]\n"
     ]
    }
   ],
   "source": [
    "print(y_predict)"
   ]
  },
  {
   "cell_type": "code",
   "execution_count": 94,
   "id": "9f5afa9f",
   "metadata": {},
   "outputs": [
    {
     "name": "stdout",
     "output_type": "stream",
     "text": [
      "[[  403     0     0     0     0    39     0     0     0]\n",
      " [    0    97     0     0     0     0    10     1     0]\n",
      " [    0     0   126     0     0     0     0     0    14]\n",
      " [    0     0     0  1878     0     0     1     0     0]\n",
      " [    0     0     0     2 23960     0  1369     0     0]\n",
      " [   59     0     0     0     0   284     0     0     0]\n",
      " [    0     9     0     0  1353     0  8102     3     0]\n",
      " [    0     0     0     0     1     0     5   814     0]\n",
      " [    1     0     9     0     0     0     0     0   218]]\n",
      "              precision    recall  f1-score   support\n",
      "\n",
      "           0       0.87      0.91      0.89       442\n",
      "           1       0.92      0.90      0.91       108\n",
      "           2       0.93      0.90      0.92       140\n",
      "           3       1.00      1.00      1.00      1879\n",
      "           4       0.95      0.95      0.95     25331\n",
      "           5       0.88      0.83      0.85       343\n",
      "           6       0.85      0.86      0.85      9467\n",
      "           7       1.00      0.99      0.99       820\n",
      "           8       0.94      0.96      0.95       228\n",
      "\n",
      "    accuracy                           0.93     38758\n",
      "   macro avg       0.93      0.92      0.92     38758\n",
      "weighted avg       0.93      0.93      0.93     38758\n",
      "\n"
     ]
    }
   ],
   "source": [
    "print(confusion_matrix(y_test, y_predict))\n",
    "print(classification_report(y_test, y_predict))"
   ]
  },
  {
   "cell_type": "code",
   "execution_count": null,
   "id": "2017d13d",
   "metadata": {},
   "outputs": [],
   "source": []
  }
 ],
 "metadata": {
  "kernelspec": {
   "display_name": "Python 3 (ipykernel)",
   "language": "python",
   "name": "python3"
  },
  "language_info": {
   "codemirror_mode": {
    "name": "ipython",
    "version": 3
   },
   "file_extension": ".py",
   "mimetype": "text/x-python",
   "name": "python",
   "nbconvert_exporter": "python",
   "pygments_lexer": "ipython3",
   "version": "3.9.7"
  }
 },
 "nbformat": 4,
 "nbformat_minor": 5
}
