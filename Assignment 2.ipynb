{
 "cells": [
  {
   "cell_type": "code",
   "execution_count": 1,
   "id": "f38cb21d",
   "metadata": {},
   "outputs": [],
   "source": [
    "#importing libraries\n",
    "import pandas as pd\n",
    "import numpy as np\n",
    "import matplotlib.pyplot as plt\n"
   ]
  },
  {
   "cell_type": "code",
   "execution_count": 2,
   "id": "88550337",
   "metadata": {},
   "outputs": [
    {
     "data": {
      "text/html": [
       "<div>\n",
       "<style scoped>\n",
       "    .dataframe tbody tr th:only-of-type {\n",
       "        vertical-align: middle;\n",
       "    }\n",
       "\n",
       "    .dataframe tbody tr th {\n",
       "        vertical-align: top;\n",
       "    }\n",
       "\n",
       "    .dataframe thead th {\n",
       "        text-align: right;\n",
       "    }\n",
       "</style>\n",
       "<table border=\"1\" class=\"dataframe\">\n",
       "  <thead>\n",
       "    <tr style=\"text-align: right;\">\n",
       "      <th></th>\n",
       "      <th>Order ID</th>\n",
       "      <th>Order Date</th>\n",
       "      <th>Ship Mode</th>\n",
       "      <th>Region</th>\n",
       "      <th>Product ID</th>\n",
       "      <th>Category</th>\n",
       "      <th>Sub-Category</th>\n",
       "      <th>Product Name</th>\n",
       "      <th>Sales</th>\n",
       "      <th>Quantity</th>\n",
       "      <th>Discount</th>\n",
       "      <th>Profit</th>\n",
       "    </tr>\n",
       "  </thead>\n",
       "  <tbody>\n",
       "    <tr>\n",
       "      <th>0</th>\n",
       "      <td>CA-2015-110870</td>\n",
       "      <td>2015-12-12</td>\n",
       "      <td>First Class</td>\n",
       "      <td>West</td>\n",
       "      <td>TEC-AC-10002926</td>\n",
       "      <td>Technology</td>\n",
       "      <td>Accessories</td>\n",
       "      <td>Logitech Wireless Marathon Mouse M705</td>\n",
       "      <td>299.94</td>\n",
       "      <td>6</td>\n",
       "      <td>0.0</td>\n",
       "      <td>NaN</td>\n",
       "    </tr>\n",
       "    <tr>\n",
       "      <th>1</th>\n",
       "      <td>CA-2015-110870</td>\n",
       "      <td>2015-12-12</td>\n",
       "      <td>First Class</td>\n",
       "      <td>West</td>\n",
       "      <td>OFF-SU-10001225</td>\n",
       "      <td>Office Supplies</td>\n",
       "      <td>Supplies</td>\n",
       "      <td>Staple remover</td>\n",
       "      <td>25.76</td>\n",
       "      <td>7</td>\n",
       "      <td>0.0</td>\n",
       "      <td>NaN</td>\n",
       "    </tr>\n",
       "    <tr>\n",
       "      <th>2</th>\n",
       "      <td>CA-2014-143210</td>\n",
       "      <td>2014-12-01</td>\n",
       "      <td>First Class</td>\n",
       "      <td>East</td>\n",
       "      <td>TEC-PH-10004434</td>\n",
       "      <td>Technology</td>\n",
       "      <td>Phones</td>\n",
       "      <td>Cisco IP Phone 7961G VoIP phone - Dark gray</td>\n",
       "      <td>271.90</td>\n",
       "      <td>2</td>\n",
       "      <td>0.0</td>\n",
       "      <td>NaN</td>\n",
       "    </tr>\n",
       "    <tr>\n",
       "      <th>3</th>\n",
       "      <td>CA-2014-143210</td>\n",
       "      <td>2014-12-01</td>\n",
       "      <td>First Class</td>\n",
       "      <td>East</td>\n",
       "      <td>FUR-FU-10003878</td>\n",
       "      <td>Furniture</td>\n",
       "      <td>Furnishings</td>\n",
       "      <td>Linden 10\" Round Wall Clock, Black</td>\n",
       "      <td>45.84</td>\n",
       "      <td>3</td>\n",
       "      <td>0.0</td>\n",
       "      <td>NaN</td>\n",
       "    </tr>\n",
       "    <tr>\n",
       "      <th>4</th>\n",
       "      <td>CA-2014-143210</td>\n",
       "      <td>2014-12-01</td>\n",
       "      <td>First Class</td>\n",
       "      <td>East</td>\n",
       "      <td>FUR-FU-10002268</td>\n",
       "      <td>Furniture</td>\n",
       "      <td>Furnishings</td>\n",
       "      <td>Ultra Door Push Plate</td>\n",
       "      <td>9.82</td>\n",
       "      <td>2</td>\n",
       "      <td>0.0</td>\n",
       "      <td>NaN</td>\n",
       "    </tr>\n",
       "  </tbody>\n",
       "</table>\n",
       "</div>"
      ],
      "text/plain": [
       "         Order ID  Order Date    Ship Mode Region       Product ID  \\\n",
       "0  CA-2015-110870  2015-12-12  First Class   West  TEC-AC-10002926   \n",
       "1  CA-2015-110870  2015-12-12  First Class   West  OFF-SU-10001225   \n",
       "2  CA-2014-143210  2014-12-01  First Class   East  TEC-PH-10004434   \n",
       "3  CA-2014-143210  2014-12-01  First Class   East  FUR-FU-10003878   \n",
       "4  CA-2014-143210  2014-12-01  First Class   East  FUR-FU-10002268   \n",
       "\n",
       "          Category Sub-Category                                 Product Name  \\\n",
       "0       Technology  Accessories        Logitech Wireless Marathon Mouse M705   \n",
       "1  Office Supplies     Supplies                               Staple remover   \n",
       "2       Technology       Phones  Cisco IP Phone 7961G VoIP phone - Dark gray   \n",
       "3        Furniture  Furnishings           Linden 10\" Round Wall Clock, Black   \n",
       "4        Furniture  Furnishings                        Ultra Door Push Plate   \n",
       "\n",
       "    Sales  Quantity  Discount  Profit  \n",
       "0  299.94         6       0.0     NaN  \n",
       "1   25.76         7       0.0     NaN  \n",
       "2  271.90         2       0.0     NaN  \n",
       "3   45.84         3       0.0     NaN  \n",
       "4    9.82         2       0.0     NaN  "
      ]
     },
     "execution_count": 2,
     "metadata": {},
     "output_type": "execute_result"
    }
   ],
   "source": [
    "#importing dataset\n",
    "data = pd.read_csv('office_supplies.csv')\n",
    "data.head(5)"
   ]
  },
  {
   "cell_type": "markdown",
   "id": "c6255c79",
   "metadata": {},
   "source": [
    "Ceaning The Data"
   ]
  },
  {
   "cell_type": "code",
   "execution_count": 3,
   "id": "142a92e7",
   "metadata": {},
   "outputs": [
    {
     "name": "stdout",
     "output_type": "stream",
     "text": [
      "<class 'pandas.core.frame.DataFrame'>\n",
      "RangeIndex: 9993 entries, 0 to 9992\n",
      "Data columns (total 12 columns):\n",
      " #   Column        Non-Null Count  Dtype  \n",
      "---  ------        --------------  -----  \n",
      " 0   Order ID      9993 non-null   object \n",
      " 1   Order Date    9993 non-null   object \n",
      " 2   Ship Mode     9993 non-null   object \n",
      " 3   Region        9993 non-null   object \n",
      " 4   Product ID    9993 non-null   object \n",
      " 5   Category      9993 non-null   object \n",
      " 6   Sub-Category  9993 non-null   object \n",
      " 7   Product Name  9993 non-null   object \n",
      " 8   Sales         9993 non-null   float64\n",
      " 9   Quantity      9993 non-null   int64  \n",
      " 10  Discount      9993 non-null   float64\n",
      " 11  Profit        8000 non-null   float64\n",
      "dtypes: float64(3), int64(1), object(8)\n",
      "memory usage: 937.0+ KB\n"
     ]
    }
   ],
   "source": [
    "#getting data information\n",
    "data.info()"
   ]
  },
  {
   "cell_type": "markdown",
   "id": "54a955f2",
   "metadata": {},
   "source": [
    "The **profit** column has less count because some rows are empty. We would get rid of that by replacing the null values with o"
   ]
  },
  {
   "cell_type": "code",
   "execution_count": 48,
   "id": "977ce08a",
   "metadata": {},
   "outputs": [
    {
     "data": {
      "text/html": [
       "<div>\n",
       "<style scoped>\n",
       "    .dataframe tbody tr th:only-of-type {\n",
       "        vertical-align: middle;\n",
       "    }\n",
       "\n",
       "    .dataframe tbody tr th {\n",
       "        vertical-align: top;\n",
       "    }\n",
       "\n",
       "    .dataframe thead th {\n",
       "        text-align: right;\n",
       "    }\n",
       "</style>\n",
       "<table border=\"1\" class=\"dataframe\">\n",
       "  <thead>\n",
       "    <tr style=\"text-align: right;\">\n",
       "      <th></th>\n",
       "      <th>Order ID</th>\n",
       "      <th>Order Date</th>\n",
       "      <th>Ship Mode</th>\n",
       "      <th>Region</th>\n",
       "      <th>Product ID</th>\n",
       "      <th>Category</th>\n",
       "      <th>Sub-Category</th>\n",
       "      <th>Product Name</th>\n",
       "      <th>Sales</th>\n",
       "      <th>Quantity</th>\n",
       "      <th>Discount</th>\n",
       "      <th>Profit</th>\n",
       "    </tr>\n",
       "  </thead>\n",
       "  <tbody>\n",
       "    <tr>\n",
       "      <th>0</th>\n",
       "      <td>CA-2015-110870</td>\n",
       "      <td>2015-12-12</td>\n",
       "      <td>First Class</td>\n",
       "      <td>West</td>\n",
       "      <td>TEC-AC-10002926</td>\n",
       "      <td>Technology</td>\n",
       "      <td>Accessories</td>\n",
       "      <td>Logitech Wireless Marathon Mouse M705</td>\n",
       "      <td>299.94</td>\n",
       "      <td>6</td>\n",
       "      <td>0.0</td>\n",
       "      <td>0.0</td>\n",
       "    </tr>\n",
       "    <tr>\n",
       "      <th>1</th>\n",
       "      <td>CA-2015-110870</td>\n",
       "      <td>2015-12-12</td>\n",
       "      <td>First Class</td>\n",
       "      <td>West</td>\n",
       "      <td>OFF-SU-10001225</td>\n",
       "      <td>Office Supplies</td>\n",
       "      <td>Supplies</td>\n",
       "      <td>Staple remover</td>\n",
       "      <td>25.76</td>\n",
       "      <td>7</td>\n",
       "      <td>0.0</td>\n",
       "      <td>0.0</td>\n",
       "    </tr>\n",
       "    <tr>\n",
       "      <th>2</th>\n",
       "      <td>CA-2014-143210</td>\n",
       "      <td>2014-12-01</td>\n",
       "      <td>First Class</td>\n",
       "      <td>East</td>\n",
       "      <td>TEC-PH-10004434</td>\n",
       "      <td>Technology</td>\n",
       "      <td>Phones</td>\n",
       "      <td>Cisco IP Phone 7961G VoIP phone - Dark gray</td>\n",
       "      <td>271.90</td>\n",
       "      <td>2</td>\n",
       "      <td>0.0</td>\n",
       "      <td>0.0</td>\n",
       "    </tr>\n",
       "    <tr>\n",
       "      <th>3</th>\n",
       "      <td>CA-2014-143210</td>\n",
       "      <td>2014-12-01</td>\n",
       "      <td>First Class</td>\n",
       "      <td>East</td>\n",
       "      <td>FUR-FU-10003878</td>\n",
       "      <td>Furniture</td>\n",
       "      <td>Furnishings</td>\n",
       "      <td>Linden 10\" Round Wall Clock, Black</td>\n",
       "      <td>45.84</td>\n",
       "      <td>3</td>\n",
       "      <td>0.0</td>\n",
       "      <td>0.0</td>\n",
       "    </tr>\n",
       "    <tr>\n",
       "      <th>4</th>\n",
       "      <td>CA-2014-143210</td>\n",
       "      <td>2014-12-01</td>\n",
       "      <td>First Class</td>\n",
       "      <td>East</td>\n",
       "      <td>FUR-FU-10002268</td>\n",
       "      <td>Furniture</td>\n",
       "      <td>Furnishings</td>\n",
       "      <td>Ultra Door Push Plate</td>\n",
       "      <td>9.82</td>\n",
       "      <td>2</td>\n",
       "      <td>0.0</td>\n",
       "      <td>0.0</td>\n",
       "    </tr>\n",
       "  </tbody>\n",
       "</table>\n",
       "</div>"
      ],
      "text/plain": [
       "         Order ID  Order Date    Ship Mode Region       Product ID  \\\n",
       "0  CA-2015-110870  2015-12-12  First Class   West  TEC-AC-10002926   \n",
       "1  CA-2015-110870  2015-12-12  First Class   West  OFF-SU-10001225   \n",
       "2  CA-2014-143210  2014-12-01  First Class   East  TEC-PH-10004434   \n",
       "3  CA-2014-143210  2014-12-01  First Class   East  FUR-FU-10003878   \n",
       "4  CA-2014-143210  2014-12-01  First Class   East  FUR-FU-10002268   \n",
       "\n",
       "          Category Sub-Category                                 Product Name  \\\n",
       "0       Technology  Accessories        Logitech Wireless Marathon Mouse M705   \n",
       "1  Office Supplies     Supplies                               Staple remover   \n",
       "2       Technology       Phones  Cisco IP Phone 7961G VoIP phone - Dark gray   \n",
       "3        Furniture  Furnishings           Linden 10\" Round Wall Clock, Black   \n",
       "4        Furniture  Furnishings                        Ultra Door Push Plate   \n",
       "\n",
       "    Sales  Quantity  Discount  Profit  \n",
       "0  299.94         6       0.0     0.0  \n",
       "1   25.76         7       0.0     0.0  \n",
       "2  271.90         2       0.0     0.0  \n",
       "3   45.84         3       0.0     0.0  \n",
       "4    9.82         2       0.0     0.0  "
      ]
     },
     "execution_count": 48,
     "metadata": {},
     "output_type": "execute_result"
    }
   ],
   "source": [
    "#replacing null values in profit column\n",
    "data_1 = data.replace(np.nan, 0)\n",
    "data_1.head(5)"
   ]
  },
  {
   "cell_type": "code",
   "execution_count": 49,
   "id": "ea618beb",
   "metadata": {},
   "outputs": [
    {
     "name": "stdout",
     "output_type": "stream",
     "text": [
      "<class 'pandas.core.frame.DataFrame'>\n",
      "RangeIndex: 9993 entries, 0 to 9992\n",
      "Data columns (total 12 columns):\n",
      " #   Column        Non-Null Count  Dtype  \n",
      "---  ------        --------------  -----  \n",
      " 0   Order ID      9993 non-null   object \n",
      " 1   Order Date    9993 non-null   object \n",
      " 2   Ship Mode     9993 non-null   object \n",
      " 3   Region        9993 non-null   object \n",
      " 4   Product ID    9993 non-null   object \n",
      " 5   Category      9993 non-null   object \n",
      " 6   Sub-Category  9993 non-null   object \n",
      " 7   Product Name  9993 non-null   object \n",
      " 8   Sales         9993 non-null   float64\n",
      " 9   Quantity      9993 non-null   int64  \n",
      " 10  Discount      9993 non-null   float64\n",
      " 11  Profit        9993 non-null   float64\n",
      "dtypes: float64(3), int64(1), object(8)\n",
      "memory usage: 937.0+ KB\n"
     ]
    }
   ],
   "source": [
    "#getting info of the data\n",
    "data_1.info()"
   ]
  },
  {
   "cell_type": "markdown",
   "id": "6a8837dc",
   "metadata": {},
   "source": [
    "All empty rows in Profit have been replaced."
   ]
  },
  {
   "cell_type": "code",
   "execution_count": 6,
   "id": "602a0a2e",
   "metadata": {},
   "outputs": [
    {
     "data": {
      "text/html": [
       "<div>\n",
       "<style scoped>\n",
       "    .dataframe tbody tr th:only-of-type {\n",
       "        vertical-align: middle;\n",
       "    }\n",
       "\n",
       "    .dataframe tbody tr th {\n",
       "        vertical-align: top;\n",
       "    }\n",
       "\n",
       "    .dataframe thead th {\n",
       "        text-align: right;\n",
       "    }\n",
       "</style>\n",
       "<table border=\"1\" class=\"dataframe\">\n",
       "  <thead>\n",
       "    <tr style=\"text-align: right;\">\n",
       "      <th></th>\n",
       "      <th>Sales</th>\n",
       "      <th>Quantity</th>\n",
       "      <th>Discount</th>\n",
       "      <th>Profit</th>\n",
       "    </tr>\n",
       "  </thead>\n",
       "  <tbody>\n",
       "    <tr>\n",
       "      <th>count</th>\n",
       "      <td>9993.000000</td>\n",
       "      <td>9993.000000</td>\n",
       "      <td>9993.000000</td>\n",
       "      <td>9993.000000</td>\n",
       "    </tr>\n",
       "    <tr>\n",
       "      <th>mean</th>\n",
       "      <td>229.854588</td>\n",
       "      <td>3.789553</td>\n",
       "      <td>0.156218</td>\n",
       "      <td>22.523152</td>\n",
       "    </tr>\n",
       "    <tr>\n",
       "      <th>std</th>\n",
       "      <td>623.276194</td>\n",
       "      <td>2.225220</td>\n",
       "      <td>0.206456</td>\n",
       "      <td>203.708204</td>\n",
       "    </tr>\n",
       "    <tr>\n",
       "      <th>min</th>\n",
       "      <td>0.444000</td>\n",
       "      <td>1.000000</td>\n",
       "      <td>0.000000</td>\n",
       "      <td>-6599.978000</td>\n",
       "    </tr>\n",
       "    <tr>\n",
       "      <th>25%</th>\n",
       "      <td>17.280000</td>\n",
       "      <td>2.000000</td>\n",
       "      <td>0.000000</td>\n",
       "      <td>0.000000</td>\n",
       "    </tr>\n",
       "    <tr>\n",
       "      <th>50%</th>\n",
       "      <td>54.480000</td>\n",
       "      <td>3.000000</td>\n",
       "      <td>0.200000</td>\n",
       "      <td>4.884000</td>\n",
       "    </tr>\n",
       "    <tr>\n",
       "      <th>75%</th>\n",
       "      <td>209.940000</td>\n",
       "      <td>5.000000</td>\n",
       "      <td>0.200000</td>\n",
       "      <td>21.098000</td>\n",
       "    </tr>\n",
       "    <tr>\n",
       "      <th>max</th>\n",
       "      <td>22638.480000</td>\n",
       "      <td>14.000000</td>\n",
       "      <td>0.800000</td>\n",
       "      <td>8399.976000</td>\n",
       "    </tr>\n",
       "  </tbody>\n",
       "</table>\n",
       "</div>"
      ],
      "text/plain": [
       "              Sales     Quantity     Discount       Profit\n",
       "count   9993.000000  9993.000000  9993.000000  9993.000000\n",
       "mean     229.854588     3.789553     0.156218    22.523152\n",
       "std      623.276194     2.225220     0.206456   203.708204\n",
       "min        0.444000     1.000000     0.000000 -6599.978000\n",
       "25%       17.280000     2.000000     0.000000     0.000000\n",
       "50%       54.480000     3.000000     0.200000     4.884000\n",
       "75%      209.940000     5.000000     0.200000    21.098000\n",
       "max    22638.480000    14.000000     0.800000  8399.976000"
      ]
     },
     "execution_count": 6,
     "metadata": {},
     "output_type": "execute_result"
    }
   ],
   "source": [
    "#getting descriptive statistics of data\n",
    "data_1.describe()"
   ]
  },
  {
   "cell_type": "markdown",
   "id": "3665d5cd",
   "metadata": {},
   "source": [
    "We would be deleting some columns as they won't be of any help with the analysis **Product ID**, **Ship Mode** and **Order ID**.\n",
    "\n",
    "'Product ID' = This column is a repitition of what we have in the category and sub category columns.\n",
    "\n",
    "'Ship Mode' = From the dataset we can se that the ship mode is spread across the orders in differnet region and doesn't play a significant role in sales.\n",
    "\n",
    "'Order ID' = The order ID is for individul orders(a bulk order) hence you see it repeated across different products, since we are dealing with sales analysis for specific products we would delete that also."
   ]
  },
  {
   "cell_type": "code",
   "execution_count": 51,
   "id": "ee8bbf20",
   "metadata": {},
   "outputs": [
    {
     "data": {
      "text/html": [
       "<div>\n",
       "<style scoped>\n",
       "    .dataframe tbody tr th:only-of-type {\n",
       "        vertical-align: middle;\n",
       "    }\n",
       "\n",
       "    .dataframe tbody tr th {\n",
       "        vertical-align: top;\n",
       "    }\n",
       "\n",
       "    .dataframe thead th {\n",
       "        text-align: right;\n",
       "    }\n",
       "</style>\n",
       "<table border=\"1\" class=\"dataframe\">\n",
       "  <thead>\n",
       "    <tr style=\"text-align: right;\">\n",
       "      <th></th>\n",
       "      <th>Order Date</th>\n",
       "      <th>Region</th>\n",
       "      <th>Category</th>\n",
       "      <th>Sub-Category</th>\n",
       "      <th>Product Name</th>\n",
       "      <th>Sales</th>\n",
       "      <th>Quantity</th>\n",
       "      <th>Discount</th>\n",
       "      <th>Profit</th>\n",
       "    </tr>\n",
       "  </thead>\n",
       "  <tbody>\n",
       "    <tr>\n",
       "      <th>0</th>\n",
       "      <td>2015-12-12</td>\n",
       "      <td>West</td>\n",
       "      <td>Technology</td>\n",
       "      <td>Accessories</td>\n",
       "      <td>Logitech Wireless Marathon Mouse M705</td>\n",
       "      <td>299.94</td>\n",
       "      <td>6</td>\n",
       "      <td>0.0</td>\n",
       "      <td>0.0</td>\n",
       "    </tr>\n",
       "    <tr>\n",
       "      <th>1</th>\n",
       "      <td>2015-12-12</td>\n",
       "      <td>West</td>\n",
       "      <td>Office Supplies</td>\n",
       "      <td>Supplies</td>\n",
       "      <td>Staple remover</td>\n",
       "      <td>25.76</td>\n",
       "      <td>7</td>\n",
       "      <td>0.0</td>\n",
       "      <td>0.0</td>\n",
       "    </tr>\n",
       "    <tr>\n",
       "      <th>2</th>\n",
       "      <td>2014-12-01</td>\n",
       "      <td>East</td>\n",
       "      <td>Technology</td>\n",
       "      <td>Phones</td>\n",
       "      <td>Cisco IP Phone 7961G VoIP phone - Dark gray</td>\n",
       "      <td>271.90</td>\n",
       "      <td>2</td>\n",
       "      <td>0.0</td>\n",
       "      <td>0.0</td>\n",
       "    </tr>\n",
       "    <tr>\n",
       "      <th>3</th>\n",
       "      <td>2014-12-01</td>\n",
       "      <td>East</td>\n",
       "      <td>Furniture</td>\n",
       "      <td>Furnishings</td>\n",
       "      <td>Linden 10\" Round Wall Clock, Black</td>\n",
       "      <td>45.84</td>\n",
       "      <td>3</td>\n",
       "      <td>0.0</td>\n",
       "      <td>0.0</td>\n",
       "    </tr>\n",
       "    <tr>\n",
       "      <th>4</th>\n",
       "      <td>2014-12-01</td>\n",
       "      <td>East</td>\n",
       "      <td>Furniture</td>\n",
       "      <td>Furnishings</td>\n",
       "      <td>Ultra Door Push Plate</td>\n",
       "      <td>9.82</td>\n",
       "      <td>2</td>\n",
       "      <td>0.0</td>\n",
       "      <td>0.0</td>\n",
       "    </tr>\n",
       "  </tbody>\n",
       "</table>\n",
       "</div>"
      ],
      "text/plain": [
       "   Order Date Region         Category Sub-Category  \\\n",
       "0  2015-12-12   West       Technology  Accessories   \n",
       "1  2015-12-12   West  Office Supplies     Supplies   \n",
       "2  2014-12-01   East       Technology       Phones   \n",
       "3  2014-12-01   East        Furniture  Furnishings   \n",
       "4  2014-12-01   East        Furniture  Furnishings   \n",
       "\n",
       "                                  Product Name   Sales  Quantity  Discount  \\\n",
       "0        Logitech Wireless Marathon Mouse M705  299.94         6       0.0   \n",
       "1                               Staple remover   25.76         7       0.0   \n",
       "2  Cisco IP Phone 7961G VoIP phone - Dark gray  271.90         2       0.0   \n",
       "3           Linden 10\" Round Wall Clock, Black   45.84         3       0.0   \n",
       "4                        Ultra Door Push Plate    9.82         2       0.0   \n",
       "\n",
       "   Profit  \n",
       "0     0.0  \n",
       "1     0.0  \n",
       "2     0.0  \n",
       "3     0.0  \n",
       "4     0.0  "
      ]
     },
     "execution_count": 51,
     "metadata": {},
     "output_type": "execute_result"
    }
   ],
   "source": [
    "#deleting Product ID, Ship Mode and Order ID columns\n",
    "of_sup_data = data_1.drop(['Order ID', 'Ship Mode', 'Product ID' ], axis = 1)\n",
    "of_sup_data.head(5)"
   ]
  },
  {
   "cell_type": "markdown",
   "id": "87e76d72",
   "metadata": {},
   "source": [
    "Now that the data has been clenaed we would go ahead with uniravariate and multivariate analysis"
   ]
  },
  {
   "cell_type": "markdown",
   "id": "665935f4",
   "metadata": {},
   "source": [
    "# UNIVARIATE ANALYSIS"
   ]
  },
  {
   "cell_type": "markdown",
   "id": "df278762",
   "metadata": {},
   "source": [
    "### Order Date Analysis"
   ]
  },
  {
   "cell_type": "code",
   "execution_count": 8,
   "id": "f1e6522b",
   "metadata": {},
   "outputs": [
    {
     "data": {
      "text/plain": [
       "Index(['Order Date', 'Region', 'Category', 'Sub-Category', 'Product Name',\n",
       "       'Sales', 'Quantity', 'Discount', 'Profit'],\n",
       "      dtype='object')"
      ]
     },
     "execution_count": 8,
     "metadata": {},
     "output_type": "execute_result"
    }
   ],
   "source": [
    "#calling the columns\n",
    "of_sup_data.columns"
   ]
  },
  {
   "cell_type": "code",
   "execution_count": 52,
   "id": "770023f7",
   "metadata": {},
   "outputs": [
    {
     "data": {
      "text/plain": [
       "2016-09-05    38\n",
       "2017-09-02    36\n",
       "2016-11-10    35\n",
       "2017-12-01    34\n",
       "2017-12-02    34\n",
       "              ..\n",
       "2015-04-14     1\n",
       "2014-06-14     1\n",
       "2015-01-28     1\n",
       "2014-01-15     1\n",
       "2016-07-20     1\n",
       "Name: Order Date, Length: 1237, dtype: int64"
      ]
     },
     "execution_count": 52,
     "metadata": {},
     "output_type": "execute_result"
    }
   ],
   "source": [
    "#getting the value count of Order date Column\n",
    "of_sup_data['Order Date'].value_counts()"
   ]
  },
  {
   "cell_type": "markdown",
   "id": "93a58c9e",
   "metadata": {},
   "source": [
    "**Findings:** The date with the highest order is 2016-09-05 and there are couple of dates with the lowest order of 1. Later we would compare the regions to the dates to know which regions are performing well and which aren't"
   ]
  },
  {
   "cell_type": "markdown",
   "id": "e1975889",
   "metadata": {},
   "source": [
    "### Region Analysis"
   ]
  },
  {
   "cell_type": "code",
   "execution_count": 53,
   "id": "38732bde",
   "metadata": {},
   "outputs": [
    {
     "data": {
      "text/plain": [
       "West       3203\n",
       "East       2848\n",
       "Central    2322\n",
       "South      1620\n",
       "Name: Region, dtype: int64"
      ]
     },
     "execution_count": 53,
     "metadata": {},
     "output_type": "execute_result"
    }
   ],
   "source": [
    "of_sup_data['Region'].value_counts()"
   ]
  },
  {
   "cell_type": "markdown",
   "id": "ef6bf09e",
   "metadata": {},
   "source": [
    "**Findings:** The region with the highest number of orders is the West and the region with Lowest number of orders is the south. We would perform further analysis later to confirm this. As the factors affecting sales isn't just the number of orders but the quantity ordered and the profits made"
   ]
  },
  {
   "cell_type": "markdown",
   "id": "5bdf9ea2",
   "metadata": {},
   "source": [
    "### Category Analysis"
   ]
  },
  {
   "cell_type": "code",
   "execution_count": 54,
   "id": "aefe2f2e",
   "metadata": {},
   "outputs": [
    {
     "data": {
      "text/plain": [
       "Office Supplies    6026\n",
       "Furniture          2121\n",
       "Technology         1846\n",
       "Name: Category, dtype: int64"
      ]
     },
     "execution_count": 54,
     "metadata": {},
     "output_type": "execute_result"
    }
   ],
   "source": [
    "of_sup_data['Category'].value_counts()"
   ]
  },
  {
   "cell_type": "markdown",
   "id": "c4bcd145",
   "metadata": {},
   "source": [
    "### Sub-Category Analysis"
   ]
  },
  {
   "cell_type": "code",
   "execution_count": 55,
   "id": "e6cf8e9e",
   "metadata": {},
   "outputs": [
    {
     "data": {
      "text/plain": [
       "Binders        1523\n",
       "Paper          1370\n",
       "Furnishings     957\n",
       "Phones          888\n",
       "Storage         846\n",
       "Art             796\n",
       "Accessories     775\n",
       "Chairs          617\n",
       "Appliances      466\n",
       "Labels          364\n",
       "Tables          319\n",
       "Envelopes       254\n",
       "Bookcases       228\n",
       "Fasteners       217\n",
       "Supplies        190\n",
       "Machines        115\n",
       "Copiers          68\n",
       "Name: Sub-Category, dtype: int64"
      ]
     },
     "execution_count": 55,
     "metadata": {},
     "output_type": "execute_result"
    }
   ],
   "source": [
    "of_sup_data['Sub-Category'].value_counts()"
   ]
  },
  {
   "cell_type": "markdown",
   "id": "5c51654c",
   "metadata": {},
   "source": [
    "We can see that there are only 3 categories and 17 subcategories. "
   ]
  },
  {
   "cell_type": "markdown",
   "id": "29895ba5",
   "metadata": {},
   "source": [
    "### Product Name Analysis"
   ]
  },
  {
   "cell_type": "code",
   "execution_count": 56,
   "id": "86f00905",
   "metadata": {},
   "outputs": [
    {
     "data": {
      "text/plain": [
       "Staple envelope                                                             48\n",
       "Easy-staple paper                                                           46\n",
       "Staples                                                                     46\n",
       "Avery Non-Stick Binders                                                     20\n",
       "Staples in misc. colors                                                     19\n",
       "                                                                            ..\n",
       "Xerox 1901                                                                   1\n",
       "Pyle PRT45 Retro Home Telephone                                              1\n",
       "Lexmark X 9575 Professional All-in-One Color Printer                         1\n",
       "Hewlett-Packard Deskjet 3050a All-in-One Color Inkjet Printer                1\n",
       "Bush Westfield Collection Bookcases, Dark Cherry Finish, Fully Assembled     1\n",
       "Name: Product Name, Length: 1850, dtype: int64"
      ]
     },
     "execution_count": 56,
     "metadata": {},
     "output_type": "execute_result"
    }
   ],
   "source": [
    "of_sup_data['Product Name'].value_counts()"
   ]
  },
  {
   "cell_type": "markdown",
   "id": "48e9a572",
   "metadata": {},
   "source": [
    "### Sales Analysis"
   ]
  },
  {
   "cell_type": "code",
   "execution_count": 57,
   "id": "bcc34490",
   "metadata": {},
   "outputs": [
    {
     "data": {
      "text/plain": [
       "12.960     56\n",
       "15.552     39\n",
       "19.440     39\n",
       "10.368     36\n",
       "32.400     28\n",
       "           ..\n",
       "21.336      1\n",
       "206.112     1\n",
       "247.104     1\n",
       "26.180      1\n",
       "57.680      1\n",
       "Name: Sales, Length: 6061, dtype: int64"
      ]
     },
     "execution_count": 57,
     "metadata": {},
     "output_type": "execute_result"
    }
   ],
   "source": [
    "of_sup_data['Sales'].value_counts()"
   ]
  },
  {
   "cell_type": "code",
   "execution_count": 58,
   "id": "091e9232",
   "metadata": {},
   "outputs": [
    {
     "data": {
      "image/png": "[encoded data removed]",
      "text/plain": [
       "<Figure size 432x288 with 1 Axes>"
      ]
     },
     "metadata": {
      "needs_background": "light"
     },
     "output_type": "display_data"
    }
   ],
   "source": [
    "#graphical analysis\n",
    "#plotting a histogram\n",
    "plt.hist(of_sup_data['Sales'], bins = 15)\n",
    "plt.show()"
   ]
  },
  {
   "cell_type": "code",
   "execution_count": 59,
   "id": "9ab48c5a",
   "metadata": {},
   "outputs": [
    {
     "data": {
      "image/png": "[encoded data removed]",
      "text/plain": [
       "<Figure size 432x288 with 1 Axes>"
      ]
     },
     "metadata": {
      "needs_background": "light"
     },
     "output_type": "display_data"
    }
   ],
   "source": [
    "#we would plot a boxplot to have a better umderstanding of the price column\n",
    "plt.boxplot(of_sup_data['Sales'])\n",
    "plt.show()"
   ]
  },
  {
   "cell_type": "code",
   "execution_count": 60,
   "id": "d4c23dea",
   "metadata": {},
   "outputs": [
    {
     "name": "stdout",
     "output_type": "stream",
     "text": [
      "498.93\n"
     ]
    }
   ],
   "source": [
    "#There are a alot of outliers lets see the outlier range\n",
    "# Useful parameters\n",
    "sales_first_quartile = 17.280000\n",
    "sales_second_quartile = 54.480000\n",
    "sales_third_quartile = 209.940000\n",
    "sales_mean = 229.854588\n",
    "sales_IQR = sales_third_quartile - sales_first_quartile\n",
    "sales_outlier_range = sales_third_quartile + (1.5 * sales_IQR)\n",
    "print(sales_outlier_range)"
   ]
  },
  {
   "cell_type": "code",
   "execution_count": 61,
   "id": "6465e86b",
   "metadata": {},
   "outputs": [
    {
     "data": {
      "text/plain": [
       "4996"
      ]
     },
     "execution_count": 61,
     "metadata": {},
     "output_type": "execute_result"
    }
   ],
   "source": [
    "#accessing the number of sales greater than the median_sales\n",
    "len(of_sup_data.loc[of_sup_data['Sales'] > sales_second_quartile])"
   ]
  },
  {
   "cell_type": "markdown",
   "id": "361c66e6",
   "metadata": {},
   "source": [
    "**4996(50%)** of the commodities have their prices greater than the median(54.48). If half of all the sales have high prices, then sales are **generally high**."
   ]
  },
  {
   "cell_type": "markdown",
   "id": "b9fc4828",
   "metadata": {},
   "source": [
    "### Quantity analysis"
   ]
  },
  {
   "cell_type": "code",
   "execution_count": 63,
   "id": "a1b3143d",
   "metadata": {},
   "outputs": [
    {
     "data": {
      "text/plain": [
       "3     2409\n",
       "2     2402\n",
       "5     1230\n",
       "4     1190\n",
       "1      899\n",
       "7      606\n",
       "6      572\n",
       "9      258\n",
       "8      257\n",
       "10      57\n",
       "11      34\n",
       "14      29\n",
       "13      27\n",
       "12      23\n",
       "Name: Quantity, dtype: int64"
      ]
     },
     "execution_count": 63,
     "metadata": {},
     "output_type": "execute_result"
    }
   ],
   "source": [
    "of_sup_data['Quantity'].value_counts()"
   ]
  },
  {
   "cell_type": "markdown",
   "id": "a4e0210b",
   "metadata": {},
   "source": [
    "### Discount Analysis"
   ]
  },
  {
   "cell_type": "code",
   "execution_count": 64,
   "id": "51a1bb43",
   "metadata": {},
   "outputs": [
    {
     "data": {
      "text/plain": [
       "0.00    4797\n",
       "0.20    3657\n",
       "0.70     418\n",
       "0.80     300\n",
       "0.30     227\n",
       "0.40     206\n",
       "0.60     138\n",
       "0.10      94\n",
       "0.50      66\n",
       "0.15      52\n",
       "0.32      27\n",
       "0.45      11\n",
       "Name: Discount, dtype: int64"
      ]
     },
     "execution_count": 64,
     "metadata": {},
     "output_type": "execute_result"
    }
   ],
   "source": [
    "of_sup_data['Discount'].value_counts()"
   ]
  },
  {
   "cell_type": "markdown",
   "id": "f7f20df3",
   "metadata": {},
   "source": [
    "### Profit Analysis"
   ]
  },
  {
   "cell_type": "code",
   "execution_count": 84,
   "id": "84fd982f",
   "metadata": {},
   "outputs": [
    {
     "data": {
      "text/plain": [
       "0.0000     2044\n",
       "6.2208       33\n",
       "9.3312       30\n",
       "3.6288       28\n",
       "5.4432       27\n",
       "           ... \n",
       "1.5588        1\n",
       "9.5448        1\n",
       "56.9943       1\n",
       "19.8716       1\n",
       "19.0344       1\n",
       "Name: Profit, Length: 6291, dtype: int64"
      ]
     },
     "execution_count": 84,
     "metadata": {},
     "output_type": "execute_result"
    }
   ],
   "source": [
    "#getting value count of Discount column\n",
    "of_sup_data['Profit'].value_counts()"
   ]
  },
  {
   "cell_type": "code",
   "execution_count": 66,
   "id": "319b6413",
   "metadata": {},
   "outputs": [
    {
     "data": {
      "image/png": "[encoded data removed]",
      "text/plain": [
       "<Figure size 432x288 with 1 Axes>"
      ]
     },
     "metadata": {
      "needs_background": "light"
     },
     "output_type": "display_data"
    }
   ],
   "source": [
    "#graphical analysis\n",
    "#plotting a histogram\n",
    "plt.hist(of_sup_data['Profit'], bins = 15)\n",
    "plt.show()"
   ]
  },
  {
   "cell_type": "code",
   "execution_count": 67,
   "id": "b0c34199",
   "metadata": {},
   "outputs": [
    {
     "data": {
      "image/png": "[encoded data removed]",
      "text/plain": [
       "<Figure size 432x288 with 1 Axes>"
      ]
     },
     "metadata": {
      "needs_background": "light"
     },
     "output_type": "display_data"
    }
   ],
   "source": [
    "#we would plot a boxplot to have a better umderstanding of the profit column\n",
    "plt.boxplot(of_sup_data['Profit'])\n",
    "plt.show()"
   ]
  },
  {
   "cell_type": "code",
   "execution_count": 24,
   "id": "b19feb38",
   "metadata": {},
   "outputs": [
    {
     "name": "stdout",
     "output_type": "stream",
     "text": [
      "52.745\n"
     ]
    }
   ],
   "source": [
    "#There are a alot of outliers lets see the outlier range\n",
    "# Useful parameters\n",
    "profit_first_quartile = 0.000000\n",
    "profit_second_quartile = 4.884000\n",
    "profit_third_quartile = 21.098000\n",
    "profit_mean = 22.523152\n",
    "profit_IQR = profit_third_quartile - profit_first_quartile\n",
    "profit_outlier_range = profit_third_quartile + (1.5 * profit_IQR)\n",
    "print(profit_outlier_range)"
   ]
  },
  {
   "cell_type": "code",
   "execution_count": 25,
   "id": "cc756381",
   "metadata": {},
   "outputs": [
    {
     "data": {
      "text/plain": [
       "4996"
      ]
     },
     "execution_count": 25,
     "metadata": {},
     "output_type": "execute_result"
    }
   ],
   "source": [
    "# Accessing number of sales profit below the median_profit\n",
    "len(of_sup_data.loc[of_sup_data['Profit'] < profit_second_quartile])"
   ]
  },
  {
   "cell_type": "code",
   "execution_count": 26,
   "id": "6a678044",
   "metadata": {},
   "outputs": [
    {
     "data": {
      "text/plain": [
       "1341"
      ]
     },
     "execution_count": 26,
     "metadata": {},
     "output_type": "execute_result"
    }
   ],
   "source": [
    "# Accessing number of sales profit which are outliers \n",
    "len(of_sup_data.loc[of_sup_data['Profit'] > profit_outlier_range])"
   ]
  },
  {
   "cell_type": "code",
   "execution_count": 27,
   "id": "c7d58264",
   "metadata": {},
   "outputs": [
    {
     "data": {
      "text/plain": [
       "7595"
      ]
     },
     "execution_count": 27,
     "metadata": {},
     "output_type": "execute_result"
    }
   ],
   "source": [
    "# Accessing number of sales profit below the mean_profit\n",
    "len(of_sup_data.loc[of_sup_data['Profit'] < profit_mean])"
   ]
  },
  {
   "cell_type": "code",
   "execution_count": 28,
   "id": "d5ba15cc",
   "metadata": {},
   "outputs": [
    {
     "data": {
      "text/plain": [
       "2044"
      ]
     },
     "execution_count": 28,
     "metadata": {},
     "output_type": "execute_result"
    }
   ],
   "source": [
    "# Accessing number of sales profit with 0 profit\n",
    "len(of_sup_data.loc[of_sup_data['Profit'] == 0])"
   ]
  },
  {
   "cell_type": "code",
   "execution_count": 69,
   "id": "34415be3",
   "metadata": {},
   "outputs": [
    {
     "data": {
      "text/plain": [
       "1454"
      ]
     },
     "execution_count": 69,
     "metadata": {},
     "output_type": "execute_result"
    }
   ],
   "source": [
    "# Accessing number of sales profit with 0 profit\n",
    "len(of_sup_data.loc[of_sup_data['Profit'] < 0])"
   ]
  },
  {
   "cell_type": "markdown",
   "id": "70d65579",
   "metadata": {},
   "source": [
    "**Findings:** From the figures above we can see that **2044(20.4%)** of the sales yielded **no profit**. \n",
    "\n",
    "**2952(29.5%)** yielded between **GH₵0.1 - GH₵4.9**. \n",
    "\n",
    "**1341(13.4%)** yielded **very high profits**.  \n",
    "\n",
    "**3655(36.6%)** yielded **fairly good profits**\n",
    "\n",
    "**1454(14.55%)** run into a loss **a loss**\n",
    "We can say that generally profits are averagely high"
   ]
  },
  {
   "cell_type": "markdown",
   "id": "b9dbcc94",
   "metadata": {},
   "source": [
    "# Multivariate Analysis"
   ]
  },
  {
   "cell_type": "markdown",
   "id": "a8e724d3",
   "metadata": {},
   "source": [
    "1. Is selling the same products in all regions leading to unsold products in some Regions? To Find out we would do a multivariate analysis on the following columns : Region, Category, sales, profit, sub-category groupby of the regions and product name and plot it by the sales and profit"
   ]
  },
  {
   "cell_type": "code",
   "execution_count": 73,
   "id": "3041a6a5",
   "metadata": {},
   "outputs": [
    {
     "data": {
      "text/plain": [
       "([0, 1, 2, 3],\n",
       " [Text(0, 0, ''), Text(0, 0, ''), Text(0, 0, ''), Text(0, 0, '')])"
      ]
     },
     "execution_count": 73,
     "metadata": {},
     "output_type": "execute_result"
    },
    {
     "data": {
      "image/png": "[encoded data removed]",
      "text/plain": [
       "<Figure size 432x288 with 1 Axes>"
      ]
     },
     "metadata": {
      "needs_background": "light"
     },
     "output_type": "display_data"
    }
   ],
   "source": [
    "# PLotting Region against Sales\n",
    "Region = ['West', 'East', 'Central', 'South']\n",
    "plt.bar(Region, of_sup_data.groupby(['Region'])['Sales'].sum().sort_values(ascending = False))\n",
    "plt.xticks(rotation=90)\n"
   ]
  },
  {
   "cell_type": "code",
   "execution_count": 74,
   "id": "48561608",
   "metadata": {},
   "outputs": [
    {
     "data": {
      "text/plain": [
       "([0, 1, 2, 3],\n",
       " [Text(0, 0, ''), Text(0, 0, ''), Text(0, 0, ''), Text(0, 0, '')])"
      ]
     },
     "execution_count": 74,
     "metadata": {},
     "output_type": "execute_result"
    },
    {
     "data": {
      "image/png": "[encoded data removed]",
      "text/plain": [
       "<Figure size 432x288 with 1 Axes>"
      ]
     },
     "metadata": {
      "needs_background": "light"
     },
     "output_type": "display_data"
    }
   ],
   "source": [
    "# PLotting Region against Profit\n",
    "Region = ['West', 'East', 'Central', 'South']\n",
    "plt.bar(Region, of_sup_data.groupby(['Region'])['Profit'].sum().sort_values(ascending = False))\n",
    "plt.xticks(rotation=90)"
   ]
  },
  {
   "cell_type": "code",
   "execution_count": 86,
   "id": "bff12329",
   "metadata": {},
   "outputs": [
    {
     "name": "stderr",
     "output_type": "stream",
     "text": [
      "C:\\Users\\Lillian\\AppData\\Local\\Temp/ipykernel_4092/1178709499.py:2: FutureWarning: Indexing with multiple keys (implicitly converted to a tuple of keys) will be deprecated, use a list instead.\n",
      "  of_sup_data.groupby(['Region'])['Profit', 'Sales', 'Quantity'].sum()\n"
     ]
    },
    {
     "data": {
      "text/html": [
       "<div>\n",
       "<style scoped>\n",
       "    .dataframe tbody tr th:only-of-type {\n",
       "        vertical-align: middle;\n",
       "    }\n",
       "\n",
       "    .dataframe tbody tr th {\n",
       "        vertical-align: top;\n",
       "    }\n",
       "\n",
       "    .dataframe thead th {\n",
       "        text-align: right;\n",
       "    }\n",
       "</style>\n",
       "<table border=\"1\" class=\"dataframe\">\n",
       "  <thead>\n",
       "    <tr style=\"text-align: right;\">\n",
       "      <th></th>\n",
       "      <th>Profit</th>\n",
       "      <th>Sales</th>\n",
       "      <th>Quantity</th>\n",
       "    </tr>\n",
       "    <tr>\n",
       "      <th>Region</th>\n",
       "      <th></th>\n",
       "      <th></th>\n",
       "      <th></th>\n",
       "    </tr>\n",
       "  </thead>\n",
       "  <tbody>\n",
       "    <tr>\n",
       "      <th>Central</th>\n",
       "      <td>34094.4879</td>\n",
       "      <td>500975.9308</td>\n",
       "      <td>8776</td>\n",
       "    </tr>\n",
       "    <tr>\n",
       "      <th>East</th>\n",
       "      <td>72473.6505</td>\n",
       "      <td>678781.2400</td>\n",
       "      <td>10618</td>\n",
       "    </tr>\n",
       "    <tr>\n",
       "      <th>South</th>\n",
       "      <td>38766.3684</td>\n",
       "      <td>391721.9050</td>\n",
       "      <td>6209</td>\n",
       "    </tr>\n",
       "    <tr>\n",
       "      <th>West</th>\n",
       "      <td>79739.3558</td>\n",
       "      <td>725457.8245</td>\n",
       "      <td>12266</td>\n",
       "    </tr>\n",
       "  </tbody>\n",
       "</table>\n",
       "</div>"
      ],
      "text/plain": [
       "             Profit        Sales  Quantity\n",
       "Region                                    \n",
       "Central  34094.4879  500975.9308      8776\n",
       "East     72473.6505  678781.2400     10618\n",
       "South    38766.3684  391721.9050      6209\n",
       "West     79739.3558  725457.8245     12266"
      ]
     },
     "execution_count": 86,
     "metadata": {},
     "output_type": "execute_result"
    }
   ],
   "source": [
    "#getting the sum of profit, sales and quantity to Region\n",
    "of_sup_data.groupby(['Region'])['Profit', 'Sales', 'Quantity'].sum()"
   ]
  },
  {
   "cell_type": "code",
   "execution_count": 87,
   "id": "7482b498",
   "metadata": {},
   "outputs": [
    {
     "name": "stderr",
     "output_type": "stream",
     "text": [
      "C:\\Users\\Lillian\\AppData\\Local\\Temp/ipykernel_4092/3547329482.py:2: FutureWarning: Indexing with multiple keys (implicitly converted to a tuple of keys) will be deprecated, use a list instead.\n",
      "  of_sup_data.groupby(['Region'])['Profit', 'Sales', 'Quantity'].sum().plot(kind='pie', subplots=True, shadow = True,startangle=90,figsize=(15,10),\n"
     ]
    },
    {
     "data": {
      "image/png": "[encoded data removed]",
      "text/plain": [
       "<Figure size 1080x720 with 3 Axes>"
      ]
     },
     "metadata": {},
     "output_type": "display_data"
    }
   ],
   "source": [
    "# PLotting Region against Profit sales and  and Yield\n",
    "of_sup_data.groupby(['Region'])['Profit', 'Sales', 'Quantity'].sum().plot(kind='pie', subplots=True, shadow = True,startangle=90,figsize=(15,10), \n",
    "                                        autopct='%1.1f%%')\n",
    "plt.title('Region per quantity of products sold per sales and profit made', fontsize=15)\n",
    "plt.show()"
   ]
  },
  {
   "cell_type": "markdown",
   "id": "9da3519b",
   "metadata": {},
   "source": [
    "From the bar graph we can see that the region with the **highest sales** is the **West** and the **least** is the **south** same applies to the profit. From the pie chart we can see that the quantity to sales to profit ratio is not consistent across the Central Region we would later analyse this to see the factors resulting to this\n"
   ]
  },
  {
   "cell_type": "markdown",
   "id": "38946277",
   "metadata": {},
   "source": [
    "Let's find out the distribution of products sold across the regions"
   ]
  },
  {
   "cell_type": "code",
   "execution_count": 88,
   "id": "31ff1afb",
   "metadata": {},
   "outputs": [
    {
     "data": {
      "text/plain": [
       "Category         Region \n",
       "Furniture        West        707\n",
       "                 East        601\n",
       "                 Central     481\n",
       "                 South       332\n",
       "Office Supplies  West       1897\n",
       "                 East       1712\n",
       "                 Central    1422\n",
       "                 South       995\n",
       "Technology       West        599\n",
       "                 East        535\n",
       "                 Central     419\n",
       "                 South       293\n",
       "Name: Region, dtype: int64"
      ]
     },
     "execution_count": 88,
     "metadata": {},
     "output_type": "execute_result"
    }
   ],
   "source": [
    "#Getting the value count of products sold in each Region\n",
    "of_sup_data.groupby(['Category'])['Region'].value_counts()"
   ]
  },
  {
   "cell_type": "code",
   "execution_count": 91,
   "id": "f6715cae",
   "metadata": {},
   "outputs": [
    {
     "data": {
      "text/plain": [
       "Category\n",
       "Furniture          West\n",
       "Office Supplies    West\n",
       "Technology         West\n",
       "Name: Region, dtype: object"
      ]
     },
     "execution_count": 91,
     "metadata": {},
     "output_type": "execute_result"
    }
   ],
   "source": [
    "#finding out which Region sold the most in each Category\n",
    "of_sup_data.groupby(['Category'])['Region'].max()"
   ]
  },
  {
   "cell_type": "code",
   "execution_count": 92,
   "id": "d9e63368",
   "metadata": {},
   "outputs": [
    {
     "data": {
      "text/plain": [
       "Category\n",
       "Furniture          Central\n",
       "Office Supplies    Central\n",
       "Technology         Central\n",
       "Name: Region, dtype: object"
      ]
     },
     "execution_count": 92,
     "metadata": {},
     "output_type": "execute_result"
    }
   ],
   "source": [
    "#finding out which Region sold the least in each Category\n",
    "of_sup_data.groupby(['Category'])['Region'].min()"
   ]
  },
  {
   "cell_type": "code",
   "execution_count": 93,
   "id": "bfe125cc",
   "metadata": {},
   "outputs": [
    {
     "data": {
      "text/plain": [
       "Sub-Category\n",
       "Accessories    West\n",
       "Appliances     West\n",
       "Art            West\n",
       "Binders        West\n",
       "Bookcases      West\n",
       "Chairs         West\n",
       "Copiers        West\n",
       "Envelopes      West\n",
       "Fasteners      West\n",
       "Furnishings    West\n",
       "Labels         West\n",
       "Machines       West\n",
       "Paper          West\n",
       "Phones         West\n",
       "Storage        West\n",
       "Supplies       West\n",
       "Tables         West\n",
       "Name: Region, dtype: object"
      ]
     },
     "execution_count": 93,
     "metadata": {},
     "output_type": "execute_result"
    }
   ],
   "source": [
    "#finding out which Region sold the most in each sub-Category\n",
    "of_sup_data.groupby(['Sub-Category'])['Region'].max()"
   ]
  },
  {
   "cell_type": "code",
   "execution_count": 94,
   "id": "a75a432a",
   "metadata": {},
   "outputs": [
    {
     "data": {
      "text/plain": [
       "Sub-Category\n",
       "Accessories    Central\n",
       "Appliances     Central\n",
       "Art            Central\n",
       "Binders        Central\n",
       "Bookcases      Central\n",
       "Chairs         Central\n",
       "Copiers        Central\n",
       "Envelopes      Central\n",
       "Fasteners      Central\n",
       "Furnishings    Central\n",
       "Labels         Central\n",
       "Machines       Central\n",
       "Paper          Central\n",
       "Phones         Central\n",
       "Storage        Central\n",
       "Supplies       Central\n",
       "Tables         Central\n",
       "Name: Region, dtype: object"
      ]
     },
     "execution_count": 94,
     "metadata": {},
     "output_type": "execute_result"
    }
   ],
   "source": [
    "#finding out which Region sold the least in each Sub-Category\n",
    "of_sup_data.groupby(['Sub-Category'])['Region'].min()"
   ]
  },
  {
   "cell_type": "markdown",
   "id": "b62a14ae",
   "metadata": {},
   "source": [
    "a. Though **South** has the least in quantity, sales, and profit , **Central** has the minimum count for each product. Earlier on we saw this irregularities from the pie chart of 'quantity to sales to profit ratio'\n",
    "\n",
    "The region Central had product quantity of 23.2%, sales of 21.8% and profit of 15.1%. There is a decline while other regions have an increase or steady ratio in the same categories. Hence resulting in Region central having the lowest sales though it was 3rd in Value count.\n"
   ]
  },
  {
   "cell_type": "markdown",
   "id": "669d8371",
   "metadata": {},
   "source": [
    "b. Ratio of the distribution of products category sold across the regions is almost the same for each category\n",
    "\n",
    "West:      31.90%        31%      32% for Furniture  Office supply and Tech respectively\n",
    "\n",
    "East:      27 %        28%      28%\n",
    "\n",
    "Central:     21.7%        23%      23%\n",
    "\n",
    "South :      15%         16%     15.8%\n",
    "\n",
    "**Findings:** We can see that the sales of all product types for each region produces the same result(percentage). There are no irregularities say If we had at least 5 products having a high sale in the south, east or central, but low in the west, then we could conclude that selling the same products is resulting in unproductivity of certain regions. **We can conclude that selling the same products in all regions does not affect sales**.\n",
    "\n",
    "*There are no products that do not sell well in certain region. As the sales of all products for one region have the same percentage. It has to do with how the region is going about the sales and not the products being sold."
   ]
  },
  {
   "cell_type": "markdown",
   "id": "8be57f5a",
   "metadata": {},
   "source": [
    "2. Finding the popularity of products in various regions"
   ]
  },
  {
   "cell_type": "code",
   "execution_count": 37,
   "id": "f7d3418d",
   "metadata": {},
   "outputs": [
    {
     "data": {
      "text/plain": [
       "Copiers          68\n",
       "Machines        115\n",
       "Supplies        190\n",
       "Fasteners       217\n",
       "Bookcases       228\n",
       "Envelopes       254\n",
       "Tables          319\n",
       "Labels          364\n",
       "Appliances      466\n",
       "Chairs          617\n",
       "Accessories     775\n",
       "Art             796\n",
       "Storage         846\n",
       "Phones          888\n",
       "Furnishings     957\n",
       "Paper          1370\n",
       "Binders        1523\n",
       "Name: Sub-Category, dtype: int64"
      ]
     },
     "execution_count": 37,
     "metadata": {},
     "output_type": "execute_result"
    }
   ],
   "source": [
    "#getting the value count of sub-Category\n",
    "of_sup_data['Sub-Category'].value_counts(ascending=True)"
   ]
  },
  {
   "cell_type": "code",
   "execution_count": 38,
   "id": "75cf4723",
   "metadata": {},
   "outputs": [
    {
     "data": {
      "text/plain": [
       "Technology         1846\n",
       "Furniture          2121\n",
       "Office Supplies    6026\n",
       "Name: Category, dtype: int64"
      ]
     },
     "execution_count": 38,
     "metadata": {},
     "output_type": "execute_result"
    }
   ],
   "source": [
    "#getting the value count of Category\n",
    "of_sup_data['Category'].value_counts(ascending=True)"
   ]
  },
  {
   "cell_type": "code",
   "execution_count": 96,
   "id": "4a43d484",
   "metadata": {},
   "outputs": [
    {
     "data": {
      "text/plain": [
       "Region   Category       \n",
       "Central  Office Supplies    1422\n",
       "         Furniture           481\n",
       "         Technology          419\n",
       "East     Office Supplies    1712\n",
       "         Furniture           601\n",
       "         Technology          535\n",
       "South    Office Supplies     995\n",
       "         Furniture           332\n",
       "         Technology          293\n",
       "West     Office Supplies    1897\n",
       "         Furniture           707\n",
       "         Technology          599\n",
       "Name: Category, dtype: int64"
      ]
     },
     "execution_count": 96,
     "metadata": {},
     "output_type": "execute_result"
    }
   ],
   "source": [
    "#finding out the performance of products in all regions\n",
    "of_sup_data.groupby(['Region'])['Category'].value_counts()"
   ]
  },
  {
   "cell_type": "code",
   "execution_count": 98,
   "id": "3ce9b882",
   "metadata": {},
   "outputs": [
    {
     "data": {
      "text/plain": [
       "array([<AxesSubplot:ylabel='Quantity'>], dtype=object)"
      ]
     },
     "execution_count": 98,
     "metadata": {},
     "output_type": "execute_result"
    },
    {
     "data": {
      "image/png": "[encoded data removed]",
      "text/plain": [
       "<Figure size 720x720 with 1 Axes>"
      ]
     },
     "metadata": {},
     "output_type": "display_data"
    }
   ],
   "source": [
    "#plotting a pie chart show the performance of products in all regions\n",
    "of_sup_data.groupby(['Sub-Category'])['Quantity'].count().plot(kind='pie', subplots=True, shadow = False,startangle=90,figsize=(10,10), \n",
    "                                        autopct='%1.1f%%')"
   ]
  },
  {
   "cell_type": "markdown",
   "id": "6393a848",
   "metadata": {},
   "source": [
    "We can see that the category with the **most popularity** in all regions is **office supplies** and the sub-category with the most popularity binders  which is under Office Supplies.\n",
    "\n",
    "Also these sub categories are popular across **all regions** Binders,  Paper, Furnishings, Phones, Storage. \n",
    "\n",
    "\n",
    "**Take note of the fact that though Furnishings and Phones are not in the office supplies category they are 3rd and 4th in sub category section. This shows they have high popularity.**"
   ]
  },
  {
   "cell_type": "markdown",
   "id": "03e1e7cf",
   "metadata": {},
   "source": [
    "3.Checking if discount affects sales"
   ]
  },
  {
   "cell_type": "code",
   "execution_count": 99,
   "id": "87b34eeb",
   "metadata": {
    "scrolled": true
   },
   "outputs": [
    {
     "name": "stderr",
     "output_type": "stream",
     "text": [
      "C:\\Users\\Lillian\\AppData\\Local\\Temp/ipykernel_4092/2016318694.py:2: FutureWarning: Indexing with multiple keys (implicitly converted to a tuple of keys) will be deprecated, use a list instead.\n",
      "  of_sup_data.groupby(['Sub-Category'])['Sales','Discount'].sum()\n"
     ]
    },
    {
     "data": {
      "text/html": [
       "<div>\n",
       "<style scoped>\n",
       "    .dataframe tbody tr th:only-of-type {\n",
       "        vertical-align: middle;\n",
       "    }\n",
       "\n",
       "    .dataframe tbody tr th {\n",
       "        vertical-align: top;\n",
       "    }\n",
       "\n",
       "    .dataframe thead th {\n",
       "        text-align: right;\n",
       "    }\n",
       "</style>\n",
       "<table border=\"1\" class=\"dataframe\">\n",
       "  <thead>\n",
       "    <tr style=\"text-align: right;\">\n",
       "      <th></th>\n",
       "      <th>Sales</th>\n",
       "      <th>Discount</th>\n",
       "    </tr>\n",
       "    <tr>\n",
       "      <th>Sub-Category</th>\n",
       "      <th></th>\n",
       "      <th></th>\n",
       "    </tr>\n",
       "  </thead>\n",
       "  <tbody>\n",
       "    <tr>\n",
       "      <th>Accessories</th>\n",
       "      <td>167380.3180</td>\n",
       "      <td>60.80</td>\n",
       "    </tr>\n",
       "    <tr>\n",
       "      <th>Appliances</th>\n",
       "      <td>107532.1610</td>\n",
       "      <td>77.60</td>\n",
       "    </tr>\n",
       "    <tr>\n",
       "      <th>Art</th>\n",
       "      <td>27118.7920</td>\n",
       "      <td>59.60</td>\n",
       "    </tr>\n",
       "    <tr>\n",
       "      <th>Binders</th>\n",
       "      <td>203412.7330</td>\n",
       "      <td>567.00</td>\n",
       "    </tr>\n",
       "    <tr>\n",
       "      <th>Bookcases</th>\n",
       "      <td>114879.9963</td>\n",
       "      <td>48.14</td>\n",
       "    </tr>\n",
       "    <tr>\n",
       "      <th>Chairs</th>\n",
       "      <td>328449.1030</td>\n",
       "      <td>105.00</td>\n",
       "    </tr>\n",
       "    <tr>\n",
       "      <th>Copiers</th>\n",
       "      <td>149528.0300</td>\n",
       "      <td>11.00</td>\n",
       "    </tr>\n",
       "    <tr>\n",
       "      <th>Envelopes</th>\n",
       "      <td>16476.4020</td>\n",
       "      <td>20.40</td>\n",
       "    </tr>\n",
       "    <tr>\n",
       "      <th>Fasteners</th>\n",
       "      <td>3024.2800</td>\n",
       "      <td>17.80</td>\n",
       "    </tr>\n",
       "    <tr>\n",
       "      <th>Furnishings</th>\n",
       "      <td>91705.1640</td>\n",
       "      <td>132.40</td>\n",
       "    </tr>\n",
       "    <tr>\n",
       "      <th>Labels</th>\n",
       "      <td>12486.3120</td>\n",
       "      <td>25.00</td>\n",
       "    </tr>\n",
       "    <tr>\n",
       "      <th>Machines</th>\n",
       "      <td>189238.6310</td>\n",
       "      <td>35.20</td>\n",
       "    </tr>\n",
       "    <tr>\n",
       "      <th>Paper</th>\n",
       "      <td>78479.2060</td>\n",
       "      <td>102.60</td>\n",
       "    </tr>\n",
       "    <tr>\n",
       "      <th>Phones</th>\n",
       "      <td>329743.0940</td>\n",
       "      <td>137.40</td>\n",
       "    </tr>\n",
       "    <tr>\n",
       "      <th>Storage</th>\n",
       "      <td>223843.6080</td>\n",
       "      <td>63.20</td>\n",
       "    </tr>\n",
       "    <tr>\n",
       "      <th>Supplies</th>\n",
       "      <td>46673.5380</td>\n",
       "      <td>14.60</td>\n",
       "    </tr>\n",
       "    <tr>\n",
       "      <th>Tables</th>\n",
       "      <td>206965.5320</td>\n",
       "      <td>83.35</td>\n",
       "    </tr>\n",
       "  </tbody>\n",
       "</table>\n",
       "</div>"
      ],
      "text/plain": [
       "                    Sales  Discount\n",
       "Sub-Category                       \n",
       "Accessories   167380.3180     60.80\n",
       "Appliances    107532.1610     77.60\n",
       "Art            27118.7920     59.60\n",
       "Binders       203412.7330    567.00\n",
       "Bookcases     114879.9963     48.14\n",
       "Chairs        328449.1030    105.00\n",
       "Copiers       149528.0300     11.00\n",
       "Envelopes      16476.4020     20.40\n",
       "Fasteners       3024.2800     17.80\n",
       "Furnishings    91705.1640    132.40\n",
       "Labels         12486.3120     25.00\n",
       "Machines      189238.6310     35.20\n",
       "Paper          78479.2060    102.60\n",
       "Phones        329743.0940    137.40\n",
       "Storage       223843.6080     63.20\n",
       "Supplies       46673.5380     14.60\n",
       "Tables        206965.5320     83.35"
      ]
     },
     "execution_count": 99,
     "metadata": {},
     "output_type": "execute_result"
    }
   ],
   "source": [
    "#getting the perfomance of the products per discount\n",
    "of_sup_data.groupby(['Sub-Category'])['Sales','Discount'].sum()"
   ]
  },
  {
   "cell_type": "code",
   "execution_count": 101,
   "id": "e7d756d4",
   "metadata": {},
   "outputs": [
    {
     "name": "stderr",
     "output_type": "stream",
     "text": [
      "C:\\Users\\Lillian\\AppData\\Local\\Temp/ipykernel_4092/1034145086.py:2: FutureWarning: Indexing with multiple keys (implicitly converted to a tuple of keys) will be deprecated, use a list instead.\n",
      "  of_sup_data.groupby(['Category'])['Sales','Discount'].sum()\n"
     ]
    },
    {
     "data": {
      "text/html": [
       "<div>\n",
       "<style scoped>\n",
       "    .dataframe tbody tr th:only-of-type {\n",
       "        vertical-align: middle;\n",
       "    }\n",
       "\n",
       "    .dataframe tbody tr th {\n",
       "        vertical-align: top;\n",
       "    }\n",
       "\n",
       "    .dataframe thead th {\n",
       "        text-align: right;\n",
       "    }\n",
       "</style>\n",
       "<table border=\"1\" class=\"dataframe\">\n",
       "  <thead>\n",
       "    <tr style=\"text-align: right;\">\n",
       "      <th></th>\n",
       "      <th>Sales</th>\n",
       "      <th>Discount</th>\n",
       "    </tr>\n",
       "    <tr>\n",
       "      <th>Category</th>\n",
       "      <th></th>\n",
       "      <th></th>\n",
       "    </tr>\n",
       "  </thead>\n",
       "  <tbody>\n",
       "    <tr>\n",
       "      <th>Furniture</th>\n",
       "      <td>741999.7953</td>\n",
       "      <td>368.89</td>\n",
       "    </tr>\n",
       "    <tr>\n",
       "      <th>Office Supplies</th>\n",
       "      <td>719047.0320</td>\n",
       "      <td>947.80</td>\n",
       "    </tr>\n",
       "    <tr>\n",
       "      <th>Technology</th>\n",
       "      <td>835890.0730</td>\n",
       "      <td>244.40</td>\n",
       "    </tr>\n",
       "  </tbody>\n",
       "</table>\n",
       "</div>"
      ],
      "text/plain": [
       "                       Sales  Discount\n",
       "Category                              \n",
       "Furniture        741999.7953    368.89\n",
       "Office Supplies  719047.0320    947.80\n",
       "Technology       835890.0730    244.40"
      ]
     },
     "execution_count": 101,
     "metadata": {},
     "output_type": "execute_result"
    }
   ],
   "source": [
    "#getting the profit of the category per discount\n",
    "of_sup_data.groupby(['Category'])['Sales','Discount'].sum()"
   ]
  },
  {
   "cell_type": "code",
   "execution_count": 102,
   "id": "e6095415",
   "metadata": {},
   "outputs": [
    {
     "name": "stderr",
     "output_type": "stream",
     "text": [
      "C:\\Users\\Lillian\\AppData\\Local\\Temp/ipykernel_4092/783212913.py:2: FutureWarning: Indexing with multiple keys (implicitly converted to a tuple of keys) will be deprecated, use a list instead.\n",
      "  of_sup_data.groupby(['Sub-Category'])['Profit','Discount'].sum()\n"
     ]
    },
    {
     "data": {
      "text/html": [
       "<div>\n",
       "<style scoped>\n",
       "    .dataframe tbody tr th:only-of-type {\n",
       "        vertical-align: middle;\n",
       "    }\n",
       "\n",
       "    .dataframe tbody tr th {\n",
       "        vertical-align: top;\n",
       "    }\n",
       "\n",
       "    .dataframe thead th {\n",
       "        text-align: right;\n",
       "    }\n",
       "</style>\n",
       "<table border=\"1\" class=\"dataframe\">\n",
       "  <thead>\n",
       "    <tr style=\"text-align: right;\">\n",
       "      <th></th>\n",
       "      <th>Profit</th>\n",
       "      <th>Discount</th>\n",
       "    </tr>\n",
       "    <tr>\n",
       "      <th>Sub-Category</th>\n",
       "      <th></th>\n",
       "      <th></th>\n",
       "    </tr>\n",
       "  </thead>\n",
       "  <tbody>\n",
       "    <tr>\n",
       "      <th>Accessories</th>\n",
       "      <td>34178.3898</td>\n",
       "      <td>60.80</td>\n",
       "    </tr>\n",
       "    <tr>\n",
       "      <th>Appliances</th>\n",
       "      <td>14819.7536</td>\n",
       "      <td>77.60</td>\n",
       "    </tr>\n",
       "    <tr>\n",
       "      <th>Art</th>\n",
       "      <td>5243.7949</td>\n",
       "      <td>59.60</td>\n",
       "    </tr>\n",
       "    <tr>\n",
       "      <th>Binders</th>\n",
       "      <td>20775.3364</td>\n",
       "      <td>567.00</td>\n",
       "    </tr>\n",
       "    <tr>\n",
       "      <th>Bookcases</th>\n",
       "      <td>-3539.4843</td>\n",
       "      <td>48.14</td>\n",
       "    </tr>\n",
       "    <tr>\n",
       "      <th>Chairs</th>\n",
       "      <td>22956.2429</td>\n",
       "      <td>105.00</td>\n",
       "    </tr>\n",
       "    <tr>\n",
       "      <th>Copiers</th>\n",
       "      <td>43747.9417</td>\n",
       "      <td>11.00</td>\n",
       "    </tr>\n",
       "    <tr>\n",
       "      <th>Envelopes</th>\n",
       "      <td>6119.9244</td>\n",
       "      <td>20.40</td>\n",
       "    </tr>\n",
       "    <tr>\n",
       "      <th>Fasteners</th>\n",
       "      <td>818.5984</td>\n",
       "      <td>17.80</td>\n",
       "    </tr>\n",
       "    <tr>\n",
       "      <th>Furnishings</th>\n",
       "      <td>10851.4206</td>\n",
       "      <td>132.40</td>\n",
       "    </tr>\n",
       "    <tr>\n",
       "      <th>Labels</th>\n",
       "      <td>4685.5425</td>\n",
       "      <td>25.00</td>\n",
       "    </tr>\n",
       "    <tr>\n",
       "      <th>Machines</th>\n",
       "      <td>-3024.8580</td>\n",
       "      <td>35.20</td>\n",
       "    </tr>\n",
       "    <tr>\n",
       "      <th>Paper</th>\n",
       "      <td>27916.9717</td>\n",
       "      <td>102.60</td>\n",
       "    </tr>\n",
       "    <tr>\n",
       "      <th>Phones</th>\n",
       "      <td>36534.3185</td>\n",
       "      <td>137.40</td>\n",
       "    </tr>\n",
       "    <tr>\n",
       "      <th>Storage</th>\n",
       "      <td>17622.5872</td>\n",
       "      <td>63.20</td>\n",
       "    </tr>\n",
       "    <tr>\n",
       "      <th>Supplies</th>\n",
       "      <td>-1239.6738</td>\n",
       "      <td>14.60</td>\n",
       "    </tr>\n",
       "    <tr>\n",
       "      <th>Tables</th>\n",
       "      <td>-13392.9439</td>\n",
       "      <td>83.35</td>\n",
       "    </tr>\n",
       "  </tbody>\n",
       "</table>\n",
       "</div>"
      ],
      "text/plain": [
       "                  Profit  Discount\n",
       "Sub-Category                      \n",
       "Accessories   34178.3898     60.80\n",
       "Appliances    14819.7536     77.60\n",
       "Art            5243.7949     59.60\n",
       "Binders       20775.3364    567.00\n",
       "Bookcases     -3539.4843     48.14\n",
       "Chairs        22956.2429    105.00\n",
       "Copiers       43747.9417     11.00\n",
       "Envelopes      6119.9244     20.40\n",
       "Fasteners       818.5984     17.80\n",
       "Furnishings   10851.4206    132.40\n",
       "Labels         4685.5425     25.00\n",
       "Machines      -3024.8580     35.20\n",
       "Paper         27916.9717    102.60\n",
       "Phones        36534.3185    137.40\n",
       "Storage       17622.5872     63.20\n",
       "Supplies      -1239.6738     14.60\n",
       "Tables       -13392.9439     83.35"
      ]
     },
     "execution_count": 102,
     "metadata": {},
     "output_type": "execute_result"
    }
   ],
   "source": [
    "#getting the profit of the products per discount\n",
    "of_sup_data.groupby(['Sub-Category'])['Profit','Discount'].sum()"
   ]
  },
  {
   "cell_type": "markdown",
   "id": "14016cd4",
   "metadata": {},
   "source": [
    "Findings: The highest sub- category sales is Phones\t329743.0940 with a sum of 137.40 discounts which is not the highest sum of discounts But Binders\twith sales of 203412.7330 has the highest sum of discpunts. We can say that discounts doesnt directly affect the sales as some commodities with low discounts sums have a fairly high sales"
   ]
  },
  {
   "cell_type": "markdown",
   "id": "a602b4ce",
   "metadata": {},
   "source": [
    "**NB: There has to be an investigation of these sub categories Tables, Supplies, Machines, Bookcases these are producing losses as their pprofits are in the negative margins. The sales made from these products shouldnt result in a loss**\n"
   ]
  },
  {
   "cell_type": "code",
   "execution_count": 103,
   "id": "e9512fe4",
   "metadata": {},
   "outputs": [
    {
     "data": {
      "text/html": [
       "<style type=\"text/css\">\n",
       "#T_c418e_row0_col0, #T_c418e_row1_col1, #T_c418e_row2_col2, #T_c418e_row3_col3 {\n",
       "  background-color: #023858;\n",
       "  color: #f1f1f1;\n",
       "}\n",
       "#T_c418e_row0_col1 {\n",
       "  background-color: #dddbec;\n",
       "  color: #000000;\n",
       "}\n",
       "#T_c418e_row0_col2 {\n",
       "  background-color: #e7e3f0;\n",
       "  color: #000000;\n",
       "}\n",
       "#T_c418e_row0_col3 {\n",
       "  background-color: #7eadd1;\n",
       "  color: #f1f1f1;\n",
       "}\n",
       "#T_c418e_row1_col0 {\n",
       "  background-color: #d6d6e9;\n",
       "  color: #000000;\n",
       "}\n",
       "#T_c418e_row1_col2 {\n",
       "  background-color: #e0deed;\n",
       "  color: #000000;\n",
       "}\n",
       "#T_c418e_row1_col3 {\n",
       "  background-color: #d8d7e9;\n",
       "  color: #000000;\n",
       "}\n",
       "#T_c418e_row2_col0, #T_c418e_row2_col1, #T_c418e_row2_col3, #T_c418e_row3_col2 {\n",
       "  background-color: #fff7fb;\n",
       "  color: #000000;\n",
       "}\n",
       "#T_c418e_row3_col0 {\n",
       "  background-color: #a2bcda;\n",
       "  color: #000000;\n",
       "}\n",
       "#T_c418e_row3_col1 {\n",
       "  background-color: #f8f1f8;\n",
       "  color: #000000;\n",
       "}\n",
       "</style>\n",
       "<table id=\"T_c418e_\">\n",
       "  <thead>\n",
       "    <tr>\n",
       "      <th class=\"blank level0\" >&nbsp;</th>\n",
       "      <th class=\"col_heading level0 col0\" >Sales</th>\n",
       "      <th class=\"col_heading level0 col1\" >Quantity</th>\n",
       "      <th class=\"col_heading level0 col2\" >Discount</th>\n",
       "      <th class=\"col_heading level0 col3\" >Profit</th>\n",
       "    </tr>\n",
       "  </thead>\n",
       "  <tbody>\n",
       "    <tr>\n",
       "      <th id=\"T_c418e_level0_row0\" class=\"row_heading level0 row0\" >Sales</th>\n",
       "      <td id=\"T_c418e_row0_col0\" class=\"data row0 col0\" >1.000000</td>\n",
       "      <td id=\"T_c418e_row0_col1\" class=\"data row0 col1\" >0.200794</td>\n",
       "      <td id=\"T_c418e_row0_col2\" class=\"data row0 col2\" >-0.028187</td>\n",
       "      <td id=\"T_c418e_row0_col3\" class=\"data row0 col3\" >0.369184</td>\n",
       "    </tr>\n",
       "    <tr>\n",
       "      <th id=\"T_c418e_level0_row1\" class=\"row_heading level0 row1\" >Quantity</th>\n",
       "      <td id=\"T_c418e_row1_col0\" class=\"data row1 col0\" >0.200794</td>\n",
       "      <td id=\"T_c418e_row1_col1\" class=\"data row1 col1\" >1.000000</td>\n",
       "      <td id=\"T_c418e_row1_col2\" class=\"data row1 col2\" >0.008630</td>\n",
       "      <td id=\"T_c418e_row1_col3\" class=\"data row1 col3\" >0.056094</td>\n",
       "    </tr>\n",
       "    <tr>\n",
       "      <th id=\"T_c418e_level0_row2\" class=\"row_heading level0 row2\" >Discount</th>\n",
       "      <td id=\"T_c418e_row2_col0\" class=\"data row2 col0\" >-0.028187</td>\n",
       "      <td id=\"T_c418e_row2_col1\" class=\"data row2 col1\" >0.008630</td>\n",
       "      <td id=\"T_c418e_row2_col2\" class=\"data row2 col2\" >1.000000</td>\n",
       "      <td id=\"T_c418e_row2_col3\" class=\"data row2 col3\" >-0.203648</td>\n",
       "    </tr>\n",
       "    <tr>\n",
       "      <th id=\"T_c418e_level0_row3\" class=\"row_heading level0 row3\" >Profit</th>\n",
       "      <td id=\"T_c418e_row3_col0\" class=\"data row3 col0\" >0.369184</td>\n",
       "      <td id=\"T_c418e_row3_col1\" class=\"data row3 col1\" >0.056094</td>\n",
       "      <td id=\"T_c418e_row3_col2\" class=\"data row3 col2\" >-0.203648</td>\n",
       "      <td id=\"T_c418e_row3_col3\" class=\"data row3 col3\" >1.000000</td>\n",
       "    </tr>\n",
       "  </tbody>\n",
       "</table>\n"
      ],
      "text/plain": [
       "<pandas.io.formats.style.Styler at 0x12eeced33a0>"
      ]
     },
     "execution_count": 103,
     "metadata": {},
     "output_type": "execute_result"
    }
   ],
   "source": [
    "corr = of_sup_data.corr()\n",
    "corr.style.background_gradient()"
   ]
  },
  {
   "cell_type": "markdown",
   "id": "9c874e36",
   "metadata": {},
   "source": [
    "As stated earlier discount does not affect sales. Sales  has a fairly positive impact on profit."
   ]
  },
  {
   "cell_type": "code",
   "execution_count": null,
   "id": "4fb8f7af",
   "metadata": {},
   "outputs": [],
   "source": []
  }
 ],
 "metadata": {
  "kernelspec": {
   "display_name": "Python 3 (ipykernel)",
   "language": "python",
   "name": "python3"
  },
  "language_info": {
   "codemirror_mode": {
    "name": "ipython",
    "version": 3
   },
   "file_extension": ".py",
   "mimetype": "text/x-python",
   "name": "python",
   "nbconvert_exporter": "python",
   "pygments_lexer": "ipython3",
   "version": "3.9.7"
  }
 },
 "nbformat": 4,
 "nbformat_minor": 5
}
