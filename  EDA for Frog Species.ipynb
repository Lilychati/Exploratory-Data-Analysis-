{
 "cells": [
  {
   "cell_type": "markdown",
   "id": "0538c7de",
   "metadata": {},
   "source": [
    "# Exploratory Data Analysis on Frog Dataset"
   ]
  },
  {
   "cell_type": "code",
   "execution_count": 1,
   "id": "31d1ad78",
   "metadata": {},
   "outputs": [],
   "source": [
    "#Importing libraries\n",
    "import pandas as pd\n",
    "import numpy as np\n",
    "import datetime\n",
    "import seaborn as sns\n",
    "import matplotlib.pyplot as plt"
   ]
  },
  {
   "cell_type": "markdown",
   "id": "33be10b5",
   "metadata": {},
   "source": [
    "### Importing datasets"
   ]
  },
  {
   "cell_type": "code",
   "execution_count": 2,
   "id": "06984235",
   "metadata": {},
   "outputs": [
    {
     "data": {
      "text/html": [
       "<div>\n",
       "<style scoped>\n",
       "    .dataframe tbody tr th:only-of-type {\n",
       "        vertical-align: middle;\n",
       "    }\n",
       "\n",
       "    .dataframe tbody tr th {\n",
       "        vertical-align: top;\n",
       "    }\n",
       "\n",
       "    .dataframe thead th {\n",
       "        text-align: right;\n",
       "    }\n",
       "</style>\n",
       "<table border=\"1\" class=\"dataframe\">\n",
       "  <thead>\n",
       "    <tr style=\"text-align: right;\">\n",
       "      <th></th>\n",
       "      <th>Unnamed: 0</th>\n",
       "      <th>gbifID</th>\n",
       "      <th>eventDate</th>\n",
       "      <th>country</th>\n",
       "      <th>continent</th>\n",
       "      <th>stateProvince</th>\n",
       "      <th>decimalLatitude</th>\n",
       "      <th>decimalLongitude</th>\n",
       "      <th>species</th>\n",
       "    </tr>\n",
       "  </thead>\n",
       "  <tbody>\n",
       "    <tr>\n",
       "      <th>0</th>\n",
       "      <td>0</td>\n",
       "      <td>2574007008</td>\n",
       "      <td>2020-01-23 01:38:00</td>\n",
       "      <td>Australia</td>\n",
       "      <td>Australia</td>\n",
       "      <td>New South Wales</td>\n",
       "      <td>-32.719457</td>\n",
       "      <td>152.159267</td>\n",
       "      <td>Litoria Fallax</td>\n",
       "    </tr>\n",
       "    <tr>\n",
       "      <th>1</th>\n",
       "      <td>1</td>\n",
       "      <td>3457021422</td>\n",
       "      <td>2010-03-14 22:23:00</td>\n",
       "      <td>Costa Rica</td>\n",
       "      <td>Central America</td>\n",
       "      <td>Puntarenas</td>\n",
       "      <td>8.496999</td>\n",
       "      <td>-83.318613</td>\n",
       "      <td>Agalychnis Callidryas</td>\n",
       "    </tr>\n",
       "    <tr>\n",
       "      <th>2</th>\n",
       "      <td>2</td>\n",
       "      <td>1571195309</td>\n",
       "      <td>2014-04-11 19:51:57</td>\n",
       "      <td>Costa Rica</td>\n",
       "      <td>Central America</td>\n",
       "      <td>Heredia</td>\n",
       "      <td>10.450801</td>\n",
       "      <td>-84.068659</td>\n",
       "      <td>Agalychnis Callidryas</td>\n",
       "    </tr>\n",
       "    <tr>\n",
       "      <th>3</th>\n",
       "      <td>3</td>\n",
       "      <td>2265778539</td>\n",
       "      <td>2018-07-21 21:24:21</td>\n",
       "      <td>Costa Rica</td>\n",
       "      <td>Central America</td>\n",
       "      <td>Puntarenas</td>\n",
       "      <td>9.756705</td>\n",
       "      <td>-84.613363</td>\n",
       "      <td>Agalychnis Callidryas</td>\n",
       "    </tr>\n",
       "    <tr>\n",
       "      <th>4</th>\n",
       "      <td>4</td>\n",
       "      <td>3407962690</td>\n",
       "      <td>2021-10-29 13:57:00</td>\n",
       "      <td>Australia</td>\n",
       "      <td>Australia</td>\n",
       "      <td>Queensland</td>\n",
       "      <td>-26.714302</td>\n",
       "      <td>152.815096</td>\n",
       "      <td>Litoria Fallax</td>\n",
       "    </tr>\n",
       "    <tr>\n",
       "      <th>...</th>\n",
       "      <td>...</td>\n",
       "      <td>...</td>\n",
       "      <td>...</td>\n",
       "      <td>...</td>\n",
       "      <td>...</td>\n",
       "      <td>...</td>\n",
       "      <td>...</td>\n",
       "      <td>...</td>\n",
       "      <td>...</td>\n",
       "    </tr>\n",
       "    <tr>\n",
       "      <th>193786</th>\n",
       "      <td>193786</td>\n",
       "      <td>1322002619</td>\n",
       "      <td>NaT</td>\n",
       "      <td>Panama</td>\n",
       "      <td>Central America</td>\n",
       "      <td>PanamÃ¡</td>\n",
       "      <td>8.806900</td>\n",
       "      <td>-79.515300</td>\n",
       "      <td>Dendrobates Auratus</td>\n",
       "    </tr>\n",
       "    <tr>\n",
       "      <th>193787</th>\n",
       "      <td>193787</td>\n",
       "      <td>1319899134</td>\n",
       "      <td>1937-04-01 00:00:00</td>\n",
       "      <td>Panama</td>\n",
       "      <td>Central America</td>\n",
       "      <td>PanamÃ¡</td>\n",
       "      <td>8.806900</td>\n",
       "      <td>-79.515300</td>\n",
       "      <td>Dendrobates Auratus</td>\n",
       "    </tr>\n",
       "    <tr>\n",
       "      <th>193788</th>\n",
       "      <td>193788</td>\n",
       "      <td>1318901755</td>\n",
       "      <td>1937-04-05 00:00:00</td>\n",
       "      <td>Panama</td>\n",
       "      <td>Central America</td>\n",
       "      <td>PanamÃ¡</td>\n",
       "      <td>8.791700</td>\n",
       "      <td>-79.561100</td>\n",
       "      <td>Dendrobates Auratus</td>\n",
       "    </tr>\n",
       "    <tr>\n",
       "      <th>193789</th>\n",
       "      <td>193789</td>\n",
       "      <td>1322299951</td>\n",
       "      <td>2002-07-09 00:00:00</td>\n",
       "      <td>Honduras</td>\n",
       "      <td>Central America</td>\n",
       "      <td>Gracias a Dios</td>\n",
       "      <td>15.091100</td>\n",
       "      <td>-83.557800</td>\n",
       "      <td>Agalychnis Callidryas</td>\n",
       "    </tr>\n",
       "    <tr>\n",
       "      <th>193790</th>\n",
       "      <td>193790</td>\n",
       "      <td>1320529451</td>\n",
       "      <td>2001-10-11 00:00:00</td>\n",
       "      <td>Honduras</td>\n",
       "      <td>Central America</td>\n",
       "      <td>Gracias a Dios</td>\n",
       "      <td>14.927500</td>\n",
       "      <td>-84.533900</td>\n",
       "      <td>Agalychnis Callidryas</td>\n",
       "    </tr>\n",
       "  </tbody>\n",
       "</table>\n",
       "<p>193791 rows × 9 columns</p>\n",
       "</div>"
      ],
      "text/plain": [
       "        Unnamed: 0      gbifID           eventDate     country  \\\n",
       "0                0  2574007008 2020-01-23 01:38:00   Australia   \n",
       "1                1  3457021422 2010-03-14 22:23:00  Costa Rica   \n",
       "2                2  1571195309 2014-04-11 19:51:57  Costa Rica   \n",
       "3                3  2265778539 2018-07-21 21:24:21  Costa Rica   \n",
       "4                4  3407962690 2021-10-29 13:57:00   Australia   \n",
       "...            ...         ...                 ...         ...   \n",
       "193786      193786  1322002619                 NaT      Panama   \n",
       "193787      193787  1319899134 1937-04-01 00:00:00      Panama   \n",
       "193788      193788  1318901755 1937-04-05 00:00:00      Panama   \n",
       "193789      193789  1322299951 2002-07-09 00:00:00    Honduras   \n",
       "193790      193790  1320529451 2001-10-11 00:00:00    Honduras   \n",
       "\n",
       "              continent    stateProvince  decimalLatitude  decimalLongitude  \\\n",
       "0             Australia  New South Wales       -32.719457        152.159267   \n",
       "1       Central America       Puntarenas         8.496999        -83.318613   \n",
       "2       Central America          Heredia        10.450801        -84.068659   \n",
       "3       Central America       Puntarenas         9.756705        -84.613363   \n",
       "4             Australia       Queensland       -26.714302        152.815096   \n",
       "...                 ...              ...              ...               ...   \n",
       "193786  Central America          PanamÃ¡         8.806900        -79.515300   \n",
       "193787  Central America          PanamÃ¡         8.806900        -79.515300   \n",
       "193788  Central America          PanamÃ¡         8.791700        -79.561100   \n",
       "193789  Central America   Gracias a Dios        15.091100        -83.557800   \n",
       "193790  Central America   Gracias a Dios        14.927500        -84.533900   \n",
       "\n",
       "                      species  \n",
       "0              Litoria Fallax  \n",
       "1       Agalychnis Callidryas  \n",
       "2       Agalychnis Callidryas  \n",
       "3       Agalychnis Callidryas  \n",
       "4              Litoria Fallax  \n",
       "...                       ...  \n",
       "193786    Dendrobates Auratus  \n",
       "193787    Dendrobates Auratus  \n",
       "193788    Dendrobates Auratus  \n",
       "193789  Agalychnis Callidryas  \n",
       "193790  Agalychnis Callidryas  \n",
       "\n",
       "[193791 rows x 9 columns]"
      ]
     },
     "execution_count": 2,
     "metadata": {},
     "output_type": "execute_result"
    }
   ],
   "source": [
    "#importing dataset 1\n",
    "all_frog_data = 'C:/Users/Lillian/OneDrive/Desktop/DataSciencebootcamp'\n",
    "data1 = pd.read_excel('all_frog_data.xlsx', parse_dates=['eventDate'])\n",
    "data1"
   ]
  },
  {
   "cell_type": "code",
   "execution_count": 3,
   "id": "63bece17",
   "metadata": {
    "scrolled": false
   },
   "outputs": [
    {
     "data": {
      "text/html": [
       "<div>\n",
       "<style scoped>\n",
       "    .dataframe tbody tr th:only-of-type {\n",
       "        vertical-align: middle;\n",
       "    }\n",
       "\n",
       "    .dataframe tbody tr th {\n",
       "        vertical-align: top;\n",
       "    }\n",
       "\n",
       "    .dataframe thead th {\n",
       "        text-align: right;\n",
       "    }\n",
       "</style>\n",
       "<table border=\"1\" class=\"dataframe\">\n",
       "  <thead>\n",
       "    <tr style=\"text-align: right;\">\n",
       "      <th></th>\n",
       "      <th>Unnamed: 0</th>\n",
       "      <th>gbifID</th>\n",
       "      <th>country</th>\n",
       "      <th>continent</th>\n",
       "      <th>decimalLatitude</th>\n",
       "      <th>decimalLongitude</th>\n",
       "      <th>species</th>\n",
       "      <th>occurrenceStatus</th>\n",
       "      <th>key</th>\n",
       "      <th>ppt_mean</th>\n",
       "      <th>soil_mean</th>\n",
       "      <th>tmax_mean</th>\n",
       "      <th>tmin_mean</th>\n",
       "    </tr>\n",
       "  </thead>\n",
       "  <tbody>\n",
       "    <tr>\n",
       "      <th>0</th>\n",
       "      <td>0</td>\n",
       "      <td>2574007008</td>\n",
       "      <td>Australia</td>\n",
       "      <td>Australia</td>\n",
       "      <td>-32.719457</td>\n",
       "      <td>152.159267</td>\n",
       "      <td>Litoria Fallax</td>\n",
       "      <td>1</td>\n",
       "      <td>0</td>\n",
       "      <td>96.00000</td>\n",
       "      <td>118.71667</td>\n",
       "      <td>23.830004</td>\n",
       "      <td>13.908336</td>\n",
       "    </tr>\n",
       "    <tr>\n",
       "      <th>1</th>\n",
       "      <td>1</td>\n",
       "      <td>3457021422</td>\n",
       "      <td>Costa Rica</td>\n",
       "      <td>Central America</td>\n",
       "      <td>8.496999</td>\n",
       "      <td>-83.318613</td>\n",
       "      <td>Agalychnis Callidryas</td>\n",
       "      <td>0</td>\n",
       "      <td>1</td>\n",
       "      <td>231.51666</td>\n",
       "      <td>131.88333</td>\n",
       "      <td>31.841667</td>\n",
       "      <td>21.111668</td>\n",
       "    </tr>\n",
       "    <tr>\n",
       "      <th>2</th>\n",
       "      <td>2</td>\n",
       "      <td>1571195309</td>\n",
       "      <td>Costa Rica</td>\n",
       "      <td>Central America</td>\n",
       "      <td>10.450801</td>\n",
       "      <td>-84.068659</td>\n",
       "      <td>Agalychnis Callidryas</td>\n",
       "      <td>0</td>\n",
       "      <td>2</td>\n",
       "      <td>279.20000</td>\n",
       "      <td>51.70000</td>\n",
       "      <td>31.341671</td>\n",
       "      <td>22.455004</td>\n",
       "    </tr>\n",
       "    <tr>\n",
       "      <th>3</th>\n",
       "      <td>3</td>\n",
       "      <td>2265778539</td>\n",
       "      <td>Costa Rica</td>\n",
       "      <td>Central America</td>\n",
       "      <td>9.756705</td>\n",
       "      <td>-84.613363</td>\n",
       "      <td>Agalychnis Callidryas</td>\n",
       "      <td>0</td>\n",
       "      <td>3</td>\n",
       "      <td>192.10000</td>\n",
       "      <td>171.81667</td>\n",
       "      <td>31.043331</td>\n",
       "      <td>20.061670</td>\n",
       "    </tr>\n",
       "    <tr>\n",
       "      <th>4</th>\n",
       "      <td>4</td>\n",
       "      <td>3407962690</td>\n",
       "      <td>Australia</td>\n",
       "      <td>Australia</td>\n",
       "      <td>-26.714302</td>\n",
       "      <td>152.815096</td>\n",
       "      <td>Litoria Fallax</td>\n",
       "      <td>1</td>\n",
       "      <td>4</td>\n",
       "      <td>84.80000</td>\n",
       "      <td>111.61667</td>\n",
       "      <td>25.933338</td>\n",
       "      <td>13.801668</td>\n",
       "    </tr>\n",
       "    <tr>\n",
       "      <th>...</th>\n",
       "      <td>...</td>\n",
       "      <td>...</td>\n",
       "      <td>...</td>\n",
       "      <td>...</td>\n",
       "      <td>...</td>\n",
       "      <td>...</td>\n",
       "      <td>...</td>\n",
       "      <td>...</td>\n",
       "      <td>...</td>\n",
       "      <td>...</td>\n",
       "      <td>...</td>\n",
       "      <td>...</td>\n",
       "      <td>...</td>\n",
       "    </tr>\n",
       "    <tr>\n",
       "      <th>193786</th>\n",
       "      <td>193786</td>\n",
       "      <td>1322002619</td>\n",
       "      <td>Panama</td>\n",
       "      <td>Central America</td>\n",
       "      <td>8.806900</td>\n",
       "      <td>-79.515300</td>\n",
       "      <td>Dendrobates Auratus</td>\n",
       "      <td>0</td>\n",
       "      <td>193786</td>\n",
       "      <td>158.16667</td>\n",
       "      <td>214.81667</td>\n",
       "      <td>31.203335</td>\n",
       "      <td>24.071667</td>\n",
       "    </tr>\n",
       "    <tr>\n",
       "      <th>193787</th>\n",
       "      <td>193787</td>\n",
       "      <td>1319899134</td>\n",
       "      <td>Panama</td>\n",
       "      <td>Central America</td>\n",
       "      <td>8.806900</td>\n",
       "      <td>-79.515300</td>\n",
       "      <td>Dendrobates Auratus</td>\n",
       "      <td>0</td>\n",
       "      <td>193787</td>\n",
       "      <td>158.16667</td>\n",
       "      <td>214.81667</td>\n",
       "      <td>31.203335</td>\n",
       "      <td>24.071667</td>\n",
       "    </tr>\n",
       "    <tr>\n",
       "      <th>193788</th>\n",
       "      <td>193788</td>\n",
       "      <td>1318901755</td>\n",
       "      <td>Panama</td>\n",
       "      <td>Central America</td>\n",
       "      <td>8.791700</td>\n",
       "      <td>-79.561100</td>\n",
       "      <td>Dendrobates Auratus</td>\n",
       "      <td>0</td>\n",
       "      <td>193788</td>\n",
       "      <td>158.16667</td>\n",
       "      <td>214.81667</td>\n",
       "      <td>31.203335</td>\n",
       "      <td>24.071667</td>\n",
       "    </tr>\n",
       "    <tr>\n",
       "      <th>193789</th>\n",
       "      <td>193789</td>\n",
       "      <td>1322299951</td>\n",
       "      <td>Honduras</td>\n",
       "      <td>Central America</td>\n",
       "      <td>15.091100</td>\n",
       "      <td>-83.557800</td>\n",
       "      <td>Agalychnis Callidryas</td>\n",
       "      <td>0</td>\n",
       "      <td>193789</td>\n",
       "      <td>190.06667</td>\n",
       "      <td>141.43333</td>\n",
       "      <td>29.326668</td>\n",
       "      <td>23.588335</td>\n",
       "    </tr>\n",
       "    <tr>\n",
       "      <th>193790</th>\n",
       "      <td>193790</td>\n",
       "      <td>1320529451</td>\n",
       "      <td>Honduras</td>\n",
       "      <td>Central America</td>\n",
       "      <td>14.927500</td>\n",
       "      <td>-84.533900</td>\n",
       "      <td>Agalychnis Callidryas</td>\n",
       "      <td>0</td>\n",
       "      <td>193790</td>\n",
       "      <td>206.53334</td>\n",
       "      <td>142.61667</td>\n",
       "      <td>30.230005</td>\n",
       "      <td>22.480005</td>\n",
       "    </tr>\n",
       "  </tbody>\n",
       "</table>\n",
       "<p>193791 rows × 13 columns</p>\n",
       "</div>"
      ],
      "text/plain": [
       "        Unnamed: 0      gbifID     country        continent  decimalLatitude  \\\n",
       "0                0  2574007008   Australia        Australia       -32.719457   \n",
       "1                1  3457021422  Costa Rica  Central America         8.496999   \n",
       "2                2  1571195309  Costa Rica  Central America        10.450801   \n",
       "3                3  2265778539  Costa Rica  Central America         9.756705   \n",
       "4                4  3407962690   Australia        Australia       -26.714302   \n",
       "...            ...         ...         ...              ...              ...   \n",
       "193786      193786  1322002619      Panama  Central America         8.806900   \n",
       "193787      193787  1319899134      Panama  Central America         8.806900   \n",
       "193788      193788  1318901755      Panama  Central America         8.791700   \n",
       "193789      193789  1322299951    Honduras  Central America        15.091100   \n",
       "193790      193790  1320529451    Honduras  Central America        14.927500   \n",
       "\n",
       "        decimalLongitude                species  occurrenceStatus     key  \\\n",
       "0             152.159267         Litoria Fallax                 1       0   \n",
       "1             -83.318613  Agalychnis Callidryas                 0       1   \n",
       "2             -84.068659  Agalychnis Callidryas                 0       2   \n",
       "3             -84.613363  Agalychnis Callidryas                 0       3   \n",
       "4             152.815096         Litoria Fallax                 1       4   \n",
       "...                  ...                    ...               ...     ...   \n",
       "193786        -79.515300    Dendrobates Auratus                 0  193786   \n",
       "193787        -79.515300    Dendrobates Auratus                 0  193787   \n",
       "193788        -79.561100    Dendrobates Auratus                 0  193788   \n",
       "193789        -83.557800  Agalychnis Callidryas                 0  193789   \n",
       "193790        -84.533900  Agalychnis Callidryas                 0  193790   \n",
       "\n",
       "         ppt_mean  soil_mean  tmax_mean  tmin_mean  \n",
       "0        96.00000  118.71667  23.830004  13.908336  \n",
       "1       231.51666  131.88333  31.841667  21.111668  \n",
       "2       279.20000   51.70000  31.341671  22.455004  \n",
       "3       192.10000  171.81667  31.043331  20.061670  \n",
       "4        84.80000  111.61667  25.933338  13.801668  \n",
       "...           ...        ...        ...        ...  \n",
       "193786  158.16667  214.81667  31.203335  24.071667  \n",
       "193787  158.16667  214.81667  31.203335  24.071667  \n",
       "193788  158.16667  214.81667  31.203335  24.071667  \n",
       "193789  190.06667  141.43333  29.326668  23.588335  \n",
       "193790  206.53334  142.61667  30.230005  22.480005  \n",
       "\n",
       "[193791 rows x 13 columns]"
      ]
     },
     "execution_count": 3,
     "metadata": {},
     "output_type": "execute_result"
    }
   ],
   "source": [
    "#importing dataset 2\n",
    "data2 = pd.read_excel(\"All_MLOut_new.xlsx\")\n",
    "pd.read_excel(\"All_MLOut_new.xlsx\")\n",
    "data2"
   ]
  },
  {
   "cell_type": "markdown",
   "id": "adebd046",
   "metadata": {},
   "source": [
    "### Merging Datsets"
   ]
  },
  {
   "cell_type": "markdown",
   "id": "3ea74634",
   "metadata": {},
   "source": [
    "Since both data sets have some columns in common to get rid of duplicates we will drop the duplicate columns of data2 before we merge"
   ]
  },
  {
   "cell_type": "code",
   "execution_count": 4,
   "id": "a684db97",
   "metadata": {},
   "outputs": [
    {
     "data": {
      "text/html": [
       "<div>\n",
       "<style scoped>\n",
       "    .dataframe tbody tr th:only-of-type {\n",
       "        vertical-align: middle;\n",
       "    }\n",
       "\n",
       "    .dataframe tbody tr th {\n",
       "        vertical-align: top;\n",
       "    }\n",
       "\n",
       "    .dataframe thead th {\n",
       "        text-align: right;\n",
       "    }\n",
       "</style>\n",
       "<table border=\"1\" class=\"dataframe\">\n",
       "  <thead>\n",
       "    <tr style=\"text-align: right;\">\n",
       "      <th></th>\n",
       "      <th>gbifID</th>\n",
       "      <th>eventDate</th>\n",
       "      <th>stateProvince</th>\n",
       "    </tr>\n",
       "  </thead>\n",
       "  <tbody>\n",
       "    <tr>\n",
       "      <th>0</th>\n",
       "      <td>2574007008</td>\n",
       "      <td>2020-01-23 01:38:00</td>\n",
       "      <td>New South Wales</td>\n",
       "    </tr>\n",
       "    <tr>\n",
       "      <th>1</th>\n",
       "      <td>3457021422</td>\n",
       "      <td>2010-03-14 22:23:00</td>\n",
       "      <td>Puntarenas</td>\n",
       "    </tr>\n",
       "    <tr>\n",
       "      <th>2</th>\n",
       "      <td>1571195309</td>\n",
       "      <td>2014-04-11 19:51:57</td>\n",
       "      <td>Heredia</td>\n",
       "    </tr>\n",
       "    <tr>\n",
       "      <th>3</th>\n",
       "      <td>2265778539</td>\n",
       "      <td>2018-07-21 21:24:21</td>\n",
       "      <td>Puntarenas</td>\n",
       "    </tr>\n",
       "    <tr>\n",
       "      <th>4</th>\n",
       "      <td>3407962690</td>\n",
       "      <td>2021-10-29 13:57:00</td>\n",
       "      <td>Queensland</td>\n",
       "    </tr>\n",
       "    <tr>\n",
       "      <th>...</th>\n",
       "      <td>...</td>\n",
       "      <td>...</td>\n",
       "      <td>...</td>\n",
       "    </tr>\n",
       "    <tr>\n",
       "      <th>193786</th>\n",
       "      <td>1322002619</td>\n",
       "      <td>NaT</td>\n",
       "      <td>PanamÃ¡</td>\n",
       "    </tr>\n",
       "    <tr>\n",
       "      <th>193787</th>\n",
       "      <td>1319899134</td>\n",
       "      <td>1937-04-01 00:00:00</td>\n",
       "      <td>PanamÃ¡</td>\n",
       "    </tr>\n",
       "    <tr>\n",
       "      <th>193788</th>\n",
       "      <td>1318901755</td>\n",
       "      <td>1937-04-05 00:00:00</td>\n",
       "      <td>PanamÃ¡</td>\n",
       "    </tr>\n",
       "    <tr>\n",
       "      <th>193789</th>\n",
       "      <td>1322299951</td>\n",
       "      <td>2002-07-09 00:00:00</td>\n",
       "      <td>Gracias a Dios</td>\n",
       "    </tr>\n",
       "    <tr>\n",
       "      <th>193790</th>\n",
       "      <td>1320529451</td>\n",
       "      <td>2001-10-11 00:00:00</td>\n",
       "      <td>Gracias a Dios</td>\n",
       "    </tr>\n",
       "  </tbody>\n",
       "</table>\n",
       "<p>193791 rows × 3 columns</p>\n",
       "</div>"
      ],
      "text/plain": [
       "            gbifID           eventDate    stateProvince\n",
       "0       2574007008 2020-01-23 01:38:00  New South Wales\n",
       "1       3457021422 2010-03-14 22:23:00       Puntarenas\n",
       "2       1571195309 2014-04-11 19:51:57          Heredia\n",
       "3       2265778539 2018-07-21 21:24:21       Puntarenas\n",
       "4       3407962690 2021-10-29 13:57:00       Queensland\n",
       "...            ...                 ...              ...\n",
       "193786  1322002619                 NaT          PanamÃ¡\n",
       "193787  1319899134 1937-04-01 00:00:00          PanamÃ¡\n",
       "193788  1318901755 1937-04-05 00:00:00          PanamÃ¡\n",
       "193789  1322299951 2002-07-09 00:00:00   Gracias a Dios\n",
       "193790  1320529451 2001-10-11 00:00:00   Gracias a Dios\n",
       "\n",
       "[193791 rows x 3 columns]"
      ]
     },
     "execution_count": 4,
     "metadata": {},
     "output_type": "execute_result"
    }
   ],
   "source": [
    "#dropping duplicate columns in data2 \n",
    "data1.drop(data1.columns.difference(['gbifID', 'eventDate', 'stateProvince']), axis = 1, inplace = True)\n",
    "data1"
   ]
  },
  {
   "cell_type": "code",
   "execution_count": 5,
   "id": "6dd3af0e",
   "metadata": {
    "scrolled": true
   },
   "outputs": [
    {
     "data": {
      "text/html": [
       "<div>\n",
       "<style scoped>\n",
       "    .dataframe tbody tr th:only-of-type {\n",
       "        vertical-align: middle;\n",
       "    }\n",
       "\n",
       "    .dataframe tbody tr th {\n",
       "        vertical-align: top;\n",
       "    }\n",
       "\n",
       "    .dataframe thead th {\n",
       "        text-align: right;\n",
       "    }\n",
       "</style>\n",
       "<table border=\"1\" class=\"dataframe\">\n",
       "  <thead>\n",
       "    <tr style=\"text-align: right;\">\n",
       "      <th></th>\n",
       "      <th>Unnamed: 0</th>\n",
       "      <th>gbifID</th>\n",
       "      <th>country</th>\n",
       "      <th>continent</th>\n",
       "      <th>decimalLatitude</th>\n",
       "      <th>decimalLongitude</th>\n",
       "      <th>species</th>\n",
       "      <th>occurrenceStatus</th>\n",
       "      <th>key</th>\n",
       "      <th>ppt_mean</th>\n",
       "      <th>soil_mean</th>\n",
       "      <th>tmax_mean</th>\n",
       "      <th>tmin_mean</th>\n",
       "      <th>eventDate</th>\n",
       "      <th>stateProvince</th>\n",
       "    </tr>\n",
       "  </thead>\n",
       "  <tbody>\n",
       "    <tr>\n",
       "      <th>0</th>\n",
       "      <td>0</td>\n",
       "      <td>2574007008</td>\n",
       "      <td>Australia</td>\n",
       "      <td>Australia</td>\n",
       "      <td>-32.719457</td>\n",
       "      <td>152.159267</td>\n",
       "      <td>Litoria Fallax</td>\n",
       "      <td>1</td>\n",
       "      <td>0</td>\n",
       "      <td>96.00000</td>\n",
       "      <td>118.71667</td>\n",
       "      <td>23.830004</td>\n",
       "      <td>13.908336</td>\n",
       "      <td>2020-01-23 01:38:00</td>\n",
       "      <td>New South Wales</td>\n",
       "    </tr>\n",
       "    <tr>\n",
       "      <th>1</th>\n",
       "      <td>1</td>\n",
       "      <td>3457021422</td>\n",
       "      <td>Costa Rica</td>\n",
       "      <td>Central America</td>\n",
       "      <td>8.496999</td>\n",
       "      <td>-83.318613</td>\n",
       "      <td>Agalychnis Callidryas</td>\n",
       "      <td>0</td>\n",
       "      <td>1</td>\n",
       "      <td>231.51666</td>\n",
       "      <td>131.88333</td>\n",
       "      <td>31.841667</td>\n",
       "      <td>21.111668</td>\n",
       "      <td>2010-03-14 22:23:00</td>\n",
       "      <td>Puntarenas</td>\n",
       "    </tr>\n",
       "    <tr>\n",
       "      <th>2</th>\n",
       "      <td>2</td>\n",
       "      <td>1571195309</td>\n",
       "      <td>Costa Rica</td>\n",
       "      <td>Central America</td>\n",
       "      <td>10.450801</td>\n",
       "      <td>-84.068659</td>\n",
       "      <td>Agalychnis Callidryas</td>\n",
       "      <td>0</td>\n",
       "      <td>2</td>\n",
       "      <td>279.20000</td>\n",
       "      <td>51.70000</td>\n",
       "      <td>31.341671</td>\n",
       "      <td>22.455004</td>\n",
       "      <td>2014-04-11 19:51:57</td>\n",
       "      <td>Heredia</td>\n",
       "    </tr>\n",
       "    <tr>\n",
       "      <th>3</th>\n",
       "      <td>3</td>\n",
       "      <td>2265778539</td>\n",
       "      <td>Costa Rica</td>\n",
       "      <td>Central America</td>\n",
       "      <td>9.756705</td>\n",
       "      <td>-84.613363</td>\n",
       "      <td>Agalychnis Callidryas</td>\n",
       "      <td>0</td>\n",
       "      <td>3</td>\n",
       "      <td>192.10000</td>\n",
       "      <td>171.81667</td>\n",
       "      <td>31.043331</td>\n",
       "      <td>20.061670</td>\n",
       "      <td>2018-07-21 21:24:21</td>\n",
       "      <td>Puntarenas</td>\n",
       "    </tr>\n",
       "    <tr>\n",
       "      <th>4</th>\n",
       "      <td>4</td>\n",
       "      <td>3407962690</td>\n",
       "      <td>Australia</td>\n",
       "      <td>Australia</td>\n",
       "      <td>-26.714302</td>\n",
       "      <td>152.815096</td>\n",
       "      <td>Litoria Fallax</td>\n",
       "      <td>1</td>\n",
       "      <td>4</td>\n",
       "      <td>84.80000</td>\n",
       "      <td>111.61667</td>\n",
       "      <td>25.933338</td>\n",
       "      <td>13.801668</td>\n",
       "      <td>2021-10-29 13:57:00</td>\n",
       "      <td>Queensland</td>\n",
       "    </tr>\n",
       "  </tbody>\n",
       "</table>\n",
       "</div>"
      ],
      "text/plain": [
       "   Unnamed: 0      gbifID     country        continent  decimalLatitude  \\\n",
       "0           0  2574007008   Australia        Australia       -32.719457   \n",
       "1           1  3457021422  Costa Rica  Central America         8.496999   \n",
       "2           2  1571195309  Costa Rica  Central America        10.450801   \n",
       "3           3  2265778539  Costa Rica  Central America         9.756705   \n",
       "4           4  3407962690   Australia        Australia       -26.714302   \n",
       "\n",
       "   decimalLongitude                species  occurrenceStatus  key   ppt_mean  \\\n",
       "0        152.159267         Litoria Fallax                 1    0   96.00000   \n",
       "1        -83.318613  Agalychnis Callidryas                 0    1  231.51666   \n",
       "2        -84.068659  Agalychnis Callidryas                 0    2  279.20000   \n",
       "3        -84.613363  Agalychnis Callidryas                 0    3  192.10000   \n",
       "4        152.815096         Litoria Fallax                 1    4   84.80000   \n",
       "\n",
       "   soil_mean  tmax_mean  tmin_mean           eventDate    stateProvince  \n",
       "0  118.71667  23.830004  13.908336 2020-01-23 01:38:00  New South Wales  \n",
       "1  131.88333  31.841667  21.111668 2010-03-14 22:23:00       Puntarenas  \n",
       "2   51.70000  31.341671  22.455004 2014-04-11 19:51:57          Heredia  \n",
       "3  171.81667  31.043331  20.061670 2018-07-21 21:24:21       Puntarenas  \n",
       "4  111.61667  25.933338  13.801668 2021-10-29 13:57:00       Queensland  "
      ]
     },
     "execution_count": 5,
     "metadata": {},
     "output_type": "execute_result"
    }
   ],
   "source": [
    "#merged data\n",
    "data = pd.merge(data2,\n",
    "                data1[['gbifID','eventDate','stateProvince']],\n",
    "                on ='gbifID', how='outer')\n",
    "data.head(5)"
   ]
  },
  {
   "cell_type": "code",
   "execution_count": 6,
   "id": "959739f6",
   "metadata": {},
   "outputs": [
    {
     "name": "stdout",
     "output_type": "stream",
     "text": [
      "<class 'pandas.core.frame.DataFrame'>\n",
      "Int64Index: 193791 entries, 0 to 193790\n",
      "Data columns (total 15 columns):\n",
      " #   Column            Non-Null Count   Dtype         \n",
      "---  ------            --------------   -----         \n",
      " 0   Unnamed: 0        193791 non-null  int64         \n",
      " 1   gbifID            193791 non-null  int64         \n",
      " 2   country           193791 non-null  object        \n",
      " 3   continent         193791 non-null  object        \n",
      " 4   decimalLatitude   193791 non-null  float64       \n",
      " 5   decimalLongitude  193791 non-null  float64       \n",
      " 6   species           193791 non-null  object        \n",
      " 7   occurrenceStatus  193791 non-null  int64         \n",
      " 8   key               193791 non-null  int64         \n",
      " 9   ppt_mean          161812 non-null  float64       \n",
      " 10  soil_mean         161812 non-null  float64       \n",
      " 11  tmax_mean         161812 non-null  float64       \n",
      " 12  tmin_mean         161812 non-null  float64       \n",
      " 13  eventDate         185026 non-null  datetime64[ns]\n",
      " 14  stateProvince     193099 non-null  object        \n",
      "dtypes: datetime64[ns](1), float64(6), int64(4), object(4)\n",
      "memory usage: 23.7+ MB\n"
     ]
    }
   ],
   "source": [
    "#getting data info\n",
    "data.info()"
   ]
  },
  {
   "cell_type": "markdown",
   "id": "c40e2eb6",
   "metadata": {},
   "source": [
    "### Cleaning the Dataset"
   ]
  },
  {
   "cell_type": "markdown",
   "id": "3d2ac3fa",
   "metadata": {},
   "source": [
    "1. Dropping unwanted columns"
   ]
  },
  {
   "cell_type": "code",
   "execution_count": 7,
   "id": "826ebddc",
   "metadata": {
    "scrolled": true
   },
   "outputs": [
    {
     "data": {
      "text/html": [
       "<div>\n",
       "<style scoped>\n",
       "    .dataframe tbody tr th:only-of-type {\n",
       "        vertical-align: middle;\n",
       "    }\n",
       "\n",
       "    .dataframe tbody tr th {\n",
       "        vertical-align: top;\n",
       "    }\n",
       "\n",
       "    .dataframe thead th {\n",
       "        text-align: right;\n",
       "    }\n",
       "</style>\n",
       "<table border=\"1\" class=\"dataframe\">\n",
       "  <thead>\n",
       "    <tr style=\"text-align: right;\">\n",
       "      <th></th>\n",
       "      <th>gbifID</th>\n",
       "      <th>country</th>\n",
       "      <th>continent</th>\n",
       "      <th>decimalLatitude</th>\n",
       "      <th>decimalLongitude</th>\n",
       "      <th>species</th>\n",
       "      <th>occurrenceStatus</th>\n",
       "      <th>ppt_mean</th>\n",
       "      <th>soil_mean</th>\n",
       "      <th>tmax_mean</th>\n",
       "      <th>tmin_mean</th>\n",
       "      <th>eventDate</th>\n",
       "      <th>stateProvince</th>\n",
       "    </tr>\n",
       "  </thead>\n",
       "  <tbody>\n",
       "    <tr>\n",
       "      <th>0</th>\n",
       "      <td>2574007008</td>\n",
       "      <td>Australia</td>\n",
       "      <td>Australia</td>\n",
       "      <td>-32.719457</td>\n",
       "      <td>152.159267</td>\n",
       "      <td>Litoria Fallax</td>\n",
       "      <td>1</td>\n",
       "      <td>96.00000</td>\n",
       "      <td>118.71667</td>\n",
       "      <td>23.830004</td>\n",
       "      <td>13.908336</td>\n",
       "      <td>2020-01-23 01:38:00</td>\n",
       "      <td>New South Wales</td>\n",
       "    </tr>\n",
       "    <tr>\n",
       "      <th>1</th>\n",
       "      <td>3457021422</td>\n",
       "      <td>Costa Rica</td>\n",
       "      <td>Central America</td>\n",
       "      <td>8.496999</td>\n",
       "      <td>-83.318613</td>\n",
       "      <td>Agalychnis Callidryas</td>\n",
       "      <td>0</td>\n",
       "      <td>231.51666</td>\n",
       "      <td>131.88333</td>\n",
       "      <td>31.841667</td>\n",
       "      <td>21.111668</td>\n",
       "      <td>2010-03-14 22:23:00</td>\n",
       "      <td>Puntarenas</td>\n",
       "    </tr>\n",
       "    <tr>\n",
       "      <th>2</th>\n",
       "      <td>1571195309</td>\n",
       "      <td>Costa Rica</td>\n",
       "      <td>Central America</td>\n",
       "      <td>10.450801</td>\n",
       "      <td>-84.068659</td>\n",
       "      <td>Agalychnis Callidryas</td>\n",
       "      <td>0</td>\n",
       "      <td>279.20000</td>\n",
       "      <td>51.70000</td>\n",
       "      <td>31.341671</td>\n",
       "      <td>22.455004</td>\n",
       "      <td>2014-04-11 19:51:57</td>\n",
       "      <td>Heredia</td>\n",
       "    </tr>\n",
       "    <tr>\n",
       "      <th>3</th>\n",
       "      <td>2265778539</td>\n",
       "      <td>Costa Rica</td>\n",
       "      <td>Central America</td>\n",
       "      <td>9.756705</td>\n",
       "      <td>-84.613363</td>\n",
       "      <td>Agalychnis Callidryas</td>\n",
       "      <td>0</td>\n",
       "      <td>192.10000</td>\n",
       "      <td>171.81667</td>\n",
       "      <td>31.043331</td>\n",
       "      <td>20.061670</td>\n",
       "      <td>2018-07-21 21:24:21</td>\n",
       "      <td>Puntarenas</td>\n",
       "    </tr>\n",
       "    <tr>\n",
       "      <th>4</th>\n",
       "      <td>3407962690</td>\n",
       "      <td>Australia</td>\n",
       "      <td>Australia</td>\n",
       "      <td>-26.714302</td>\n",
       "      <td>152.815096</td>\n",
       "      <td>Litoria Fallax</td>\n",
       "      <td>1</td>\n",
       "      <td>84.80000</td>\n",
       "      <td>111.61667</td>\n",
       "      <td>25.933338</td>\n",
       "      <td>13.801668</td>\n",
       "      <td>2021-10-29 13:57:00</td>\n",
       "      <td>Queensland</td>\n",
       "    </tr>\n",
       "  </tbody>\n",
       "</table>\n",
       "</div>"
      ],
      "text/plain": [
       "       gbifID     country        continent  decimalLatitude  decimalLongitude  \\\n",
       "0  2574007008   Australia        Australia       -32.719457        152.159267   \n",
       "1  3457021422  Costa Rica  Central America         8.496999        -83.318613   \n",
       "2  1571195309  Costa Rica  Central America        10.450801        -84.068659   \n",
       "3  2265778539  Costa Rica  Central America         9.756705        -84.613363   \n",
       "4  3407962690   Australia        Australia       -26.714302        152.815096   \n",
       "\n",
       "                 species  occurrenceStatus   ppt_mean  soil_mean  tmax_mean  \\\n",
       "0         Litoria Fallax                 1   96.00000  118.71667  23.830004   \n",
       "1  Agalychnis Callidryas                 0  231.51666  131.88333  31.841667   \n",
       "2  Agalychnis Callidryas                 0  279.20000   51.70000  31.341671   \n",
       "3  Agalychnis Callidryas                 0  192.10000  171.81667  31.043331   \n",
       "4         Litoria Fallax                 1   84.80000  111.61667  25.933338   \n",
       "\n",
       "   tmin_mean           eventDate    stateProvince  \n",
       "0  13.908336 2020-01-23 01:38:00  New South Wales  \n",
       "1  21.111668 2010-03-14 22:23:00       Puntarenas  \n",
       "2  22.455004 2014-04-11 19:51:57          Heredia  \n",
       "3  20.061670 2018-07-21 21:24:21       Puntarenas  \n",
       "4  13.801668 2021-10-29 13:57:00       Queensland  "
      ]
     },
     "execution_count": 7,
     "metadata": {},
     "output_type": "execute_result"
    }
   ],
   "source": [
    "# dropping columns unmamed and key\n",
    "frog_data = data.drop(['Unnamed: 0', 'key'] ,axis=1)\n",
    "frog_data.head(5)"
   ]
  },
  {
   "cell_type": "markdown",
   "id": "1a270437",
   "metadata": {},
   "source": [
    "2. Dealing with missing Values"
   ]
  },
  {
   "cell_type": "markdown",
   "id": "f67af597",
   "metadata": {},
   "source": [
    "There are missing values in the columns (ppt_mean,soil_mean,tmax_mean,tmin_mean,eventDate and stateProvince). We need to replace these values. "
   ]
  },
  {
   "cell_type": "code",
   "execution_count": 8,
   "id": "948df39a",
   "metadata": {},
   "outputs": [
    {
     "data": {
      "text/plain": [
       "137373"
      ]
     },
     "execution_count": 8,
     "metadata": {},
     "output_type": "execute_result"
    }
   ],
   "source": [
    "#getting sum of missing values\n",
    "frog_data.isnull().sum().sum()"
   ]
  },
  {
   "cell_type": "code",
   "execution_count": 9,
   "id": "5db29866",
   "metadata": {
    "scrolled": true
   },
   "outputs": [
    {
     "data": {
      "text/plain": [
       "gbifID                  0\n",
       "country                 0\n",
       "continent               0\n",
       "decimalLatitude         0\n",
       "decimalLongitude        0\n",
       "species                 0\n",
       "occurrenceStatus        0\n",
       "ppt_mean            31979\n",
       "soil_mean           31979\n",
       "tmax_mean           31979\n",
       "tmin_mean           31979\n",
       "eventDate            8765\n",
       "stateProvince         692\n",
       "dtype: int64"
      ]
     },
     "execution_count": 9,
     "metadata": {},
     "output_type": "execute_result"
    }
   ],
   "source": [
    "#getting total number of missing values per column\n",
    "frog_data.isnull().sum()"
   ]
  },
  {
   "cell_type": "markdown",
   "id": "3eafd95a",
   "metadata": {},
   "source": [
    "To replace the missing values in ppt_mean, soil_mean, tmax_mean, tmin_mean , we will groupby the species by their countries and aggregate it on the median('ppt_mean', 'soil_mean') and mean('tmax_mean', 'tmin_mean')to get the best value for replacement"
   ]
  },
  {
   "cell_type": "code",
   "execution_count": 10,
   "id": "3d606155",
   "metadata": {
    "scrolled": true
   },
   "outputs": [],
   "source": [
    "#replacing mising values \n",
    "medians = frog_data.groupby(['species', 'country'])[['ppt_mean', 'soil_mean']].transform('median')\n",
    "frog_data[['ppt_mean', 'soil_mean']] = frog_data[['ppt_mean', 'soil_mean']].fillna(medians)\n"
   ]
  },
  {
   "cell_type": "code",
   "execution_count": 11,
   "id": "6e13ac7b",
   "metadata": {},
   "outputs": [],
   "source": [
    "#replacing mising values\n",
    "means = frog_data.groupby(['species', 'country'])[['tmax_mean', 'tmin_mean']].transform('mean')\n",
    "frog_data[['tmax_mean', 'tmin_mean']] = frog_data[['tmax_mean', 'tmin_mean']].fillna(means)\n"
   ]
  },
  {
   "cell_type": "markdown",
   "id": "592341fd",
   "metadata": {},
   "source": [
    "We will drop the missing values in the state province column"
   ]
  },
  {
   "cell_type": "code",
   "execution_count": 12,
   "id": "6f151cbc",
   "metadata": {},
   "outputs": [
    {
     "name": "stdout",
     "output_type": "stream",
     "text": [
      "<class 'pandas.core.frame.DataFrame'>\n",
      "Int64Index: 193099 entries, 0 to 193790\n",
      "Data columns (total 13 columns):\n",
      " #   Column            Non-Null Count   Dtype         \n",
      "---  ------            --------------   -----         \n",
      " 0   gbifID            193099 non-null  int64         \n",
      " 1   country           193099 non-null  object        \n",
      " 2   continent         193099 non-null  object        \n",
      " 3   decimalLatitude   193099 non-null  float64       \n",
      " 4   decimalLongitude  193099 non-null  float64       \n",
      " 5   species           193099 non-null  object        \n",
      " 6   occurrenceStatus  193099 non-null  int64         \n",
      " 7   ppt_mean          193099 non-null  float64       \n",
      " 8   soil_mean         193099 non-null  float64       \n",
      " 9   tmax_mean         193099 non-null  float64       \n",
      " 10  tmin_mean         193099 non-null  float64       \n",
      " 11  eventDate         184471 non-null  datetime64[ns]\n",
      " 12  stateProvince     193099 non-null  object        \n",
      "dtypes: datetime64[ns](1), float64(6), int64(2), object(4)\n",
      "memory usage: 20.6+ MB\n"
     ]
    }
   ],
   "source": [
    "frog_data1 = frog_data.dropna(subset=['stateProvince'])\n",
    "frog_data1.info()"
   ]
  },
  {
   "cell_type": "code",
   "execution_count": 13,
   "id": "aadd477b",
   "metadata": {},
   "outputs": [
    {
     "data": {
      "text/html": [
       "<div>\n",
       "<style scoped>\n",
       "    .dataframe tbody tr th:only-of-type {\n",
       "        vertical-align: middle;\n",
       "    }\n",
       "\n",
       "    .dataframe tbody tr th {\n",
       "        vertical-align: top;\n",
       "    }\n",
       "\n",
       "    .dataframe thead th {\n",
       "        text-align: right;\n",
       "    }\n",
       "</style>\n",
       "<table border=\"1\" class=\"dataframe\">\n",
       "  <thead>\n",
       "    <tr style=\"text-align: right;\">\n",
       "      <th></th>\n",
       "      <th>gbifID</th>\n",
       "      <th>decimalLatitude</th>\n",
       "      <th>decimalLongitude</th>\n",
       "      <th>occurrenceStatus</th>\n",
       "      <th>ppt_mean</th>\n",
       "      <th>soil_mean</th>\n",
       "      <th>tmax_mean</th>\n",
       "      <th>tmin_mean</th>\n",
       "    </tr>\n",
       "  </thead>\n",
       "  <tbody>\n",
       "    <tr>\n",
       "      <th>count</th>\n",
       "      <td>1.930990e+05</td>\n",
       "      <td>193099.000000</td>\n",
       "      <td>193099.000000</td>\n",
       "      <td>193099.000000</td>\n",
       "      <td>193099.000000</td>\n",
       "      <td>193099.000000</td>\n",
       "      <td>193099.000000</td>\n",
       "      <td>193099.000000</td>\n",
       "    </tr>\n",
       "    <tr>\n",
       "      <th>mean</th>\n",
       "      <td>2.540417e+09</td>\n",
       "      <td>-32.672577</td>\n",
       "      <td>141.257961</td>\n",
       "      <td>0.245113</td>\n",
       "      <td>67.678357</td>\n",
       "      <td>53.545237</td>\n",
       "      <td>22.676570</td>\n",
       "      <td>11.144932</td>\n",
       "    </tr>\n",
       "    <tr>\n",
       "      <th>std</th>\n",
       "      <td>1.009867e+09</td>\n",
       "      <td>7.581761</td>\n",
       "      <td>33.744250</td>\n",
       "      <td>0.430155</td>\n",
       "      <td>29.497293</td>\n",
       "      <td>46.628495</td>\n",
       "      <td>3.273091</td>\n",
       "      <td>3.262068</td>\n",
       "    </tr>\n",
       "    <tr>\n",
       "      <th>min</th>\n",
       "      <td>4.507536e+07</td>\n",
       "      <td>-43.766700</td>\n",
       "      <td>-99.221738</td>\n",
       "      <td>0.000000</td>\n",
       "      <td>0.766667</td>\n",
       "      <td>0.000000</td>\n",
       "      <td>10.465001</td>\n",
       "      <td>0.758334</td>\n",
       "    </tr>\n",
       "    <tr>\n",
       "      <th>25%</th>\n",
       "      <td>1.637104e+09</td>\n",
       "      <td>-36.016900</td>\n",
       "      <td>144.673123</td>\n",
       "      <td>0.000000</td>\n",
       "      <td>51.116665</td>\n",
       "      <td>26.066668</td>\n",
       "      <td>20.701666</td>\n",
       "      <td>9.060002</td>\n",
       "    </tr>\n",
       "    <tr>\n",
       "      <th>50%</th>\n",
       "      <td>3.108887e+09</td>\n",
       "      <td>-33.836872</td>\n",
       "      <td>150.024408</td>\n",
       "      <td>0.000000</td>\n",
       "      <td>64.600000</td>\n",
       "      <td>45.800000</td>\n",
       "      <td>22.295000</td>\n",
       "      <td>10.809999</td>\n",
       "    </tr>\n",
       "    <tr>\n",
       "      <th>75%</th>\n",
       "      <td>3.463558e+09</td>\n",
       "      <td>-32.349746</td>\n",
       "      <td>151.197539</td>\n",
       "      <td>0.000000</td>\n",
       "      <td>72.133330</td>\n",
       "      <td>63.700000</td>\n",
       "      <td>24.420004</td>\n",
       "      <td>12.721667</td>\n",
       "    </tr>\n",
       "    <tr>\n",
       "      <th>max</th>\n",
       "      <td>3.469585e+09</td>\n",
       "      <td>21.349444</td>\n",
       "      <td>153.636442</td>\n",
       "      <td>1.000000</td>\n",
       "      <td>368.750000</td>\n",
       "      <td>403.716670</td>\n",
       "      <td>37.401672</td>\n",
       "      <td>25.253334</td>\n",
       "    </tr>\n",
       "  </tbody>\n",
       "</table>\n",
       "</div>"
      ],
      "text/plain": [
       "             gbifID  decimalLatitude  decimalLongitude  occurrenceStatus  \\\n",
       "count  1.930990e+05    193099.000000     193099.000000     193099.000000   \n",
       "mean   2.540417e+09       -32.672577        141.257961          0.245113   \n",
       "std    1.009867e+09         7.581761         33.744250          0.430155   \n",
       "min    4.507536e+07       -43.766700        -99.221738          0.000000   \n",
       "25%    1.637104e+09       -36.016900        144.673123          0.000000   \n",
       "50%    3.108887e+09       -33.836872        150.024408          0.000000   \n",
       "75%    3.463558e+09       -32.349746        151.197539          0.000000   \n",
       "max    3.469585e+09        21.349444        153.636442          1.000000   \n",
       "\n",
       "            ppt_mean      soil_mean      tmax_mean      tmin_mean  \n",
       "count  193099.000000  193099.000000  193099.000000  193099.000000  \n",
       "mean       67.678357      53.545237      22.676570      11.144932  \n",
       "std        29.497293      46.628495       3.273091       3.262068  \n",
       "min         0.766667       0.000000      10.465001       0.758334  \n",
       "25%        51.116665      26.066668      20.701666       9.060002  \n",
       "50%        64.600000      45.800000      22.295000      10.809999  \n",
       "75%        72.133330      63.700000      24.420004      12.721667  \n",
       "max       368.750000     403.716670      37.401672      25.253334  "
      ]
     },
     "execution_count": 13,
     "metadata": {},
     "output_type": "execute_result"
    }
   ],
   "source": [
    "frog_data1.describe()"
   ]
  },
  {
   "cell_type": "markdown",
   "id": "3fc8ef77",
   "metadata": {},
   "source": [
    "Now that the missing values have been replaced we will go ahead and do Univariate and multivariate analysis on the various colums"
   ]
  },
  {
   "cell_type": "markdown",
   "id": "c3c5460b",
   "metadata": {},
   "source": [
    "# Univariate Analysis"
   ]
  },
  {
   "cell_type": "markdown",
   "id": "136525a5",
   "metadata": {},
   "source": [
    "### Univariate Analysis on Continent"
   ]
  },
  {
   "cell_type": "code",
   "execution_count": 14,
   "id": "50e0aeb3",
   "metadata": {},
   "outputs": [
    {
     "data": {
      "text/plain": [
       "Australia             187995\n",
       "Central America         3563\n",
       "Africa                  1461\n",
       "unknown or invalid        80\n",
       "Name: continent, dtype: int64"
      ]
     },
     "execution_count": 14,
     "metadata": {},
     "output_type": "execute_result"
    }
   ],
   "source": [
    "frog_data1['continent'].value_counts()"
   ]
  },
  {
   "cell_type": "markdown",
   "id": "b8ef8618",
   "metadata": {},
   "source": [
    "There are 3 continents, Australia has the highest and Africa has the least. There are status' with unknown or invalid and when we look at the state province of these values they are in Namibia hence we replace invalid or unknown with Africa we will do same for the country column"
   ]
  },
  {
   "cell_type": "code",
   "execution_count": 15,
   "id": "0c9d1a76",
   "metadata": {},
   "outputs": [],
   "source": [
    "frogData = frog_data1.replace({'continent':{'unknown or invalid':'Africa'}})"
   ]
  },
  {
   "cell_type": "code",
   "execution_count": 16,
   "id": "251ef9dc",
   "metadata": {},
   "outputs": [],
   "source": [
    "#replacing unknown or invalid with Africa\n"
   ]
  },
  {
   "cell_type": "code",
   "execution_count": 17,
   "id": "d2234895",
   "metadata": {},
   "outputs": [
    {
     "data": {
      "text/plain": [
       "Australia          187995\n",
       "Central America      3563\n",
       "Africa               1541\n",
       "Name: continent, dtype: int64"
      ]
     },
     "execution_count": 17,
     "metadata": {},
     "output_type": "execute_result"
    }
   ],
   "source": [
    "frogData['continent'].value_counts()"
   ]
  },
  {
   "cell_type": "markdown",
   "id": "916df524",
   "metadata": {},
   "source": [
    "invalid or unknown values replaced"
   ]
  },
  {
   "cell_type": "markdown",
   "id": "45fe01e5",
   "metadata": {},
   "source": [
    "### Univariate Analysis on Country"
   ]
  },
  {
   "cell_type": "code",
   "execution_count": 18,
   "id": "40e65040",
   "metadata": {},
   "outputs": [
    {
     "data": {
      "text/plain": [
       "Australia             187995\n",
       "Costa Rica              1969\n",
       "South Africa            1197\n",
       "Panama                   715\n",
       "Mexico                   453\n",
       "Honduras                 141\n",
       "Colombia                 134\n",
       "Nicaragua                102\n",
       "Zimbabwe                  88\n",
       "Mozambique                87\n",
       "unknown or invalid        80\n",
       "Guatemala                 28\n",
       "Botswana                  27\n",
       "Zambia                    25\n",
       "Belize                    21\n",
       "Malawi                    15\n",
       "Eswatini                  12\n",
       "Lesotho                    8\n",
       "Angola                     2\n",
       "Name: country, dtype: int64"
      ]
     },
     "execution_count": 18,
     "metadata": {},
     "output_type": "execute_result"
    }
   ],
   "source": [
    "frogData['country'].value_counts()"
   ]
  },
  {
   "cell_type": "markdown",
   "id": "01d40f49",
   "metadata": {},
   "source": [
    "As we did for the continent column we will replace the invalid or unknown values with Namibia as per data from their state province"
   ]
  },
  {
   "cell_type": "code",
   "execution_count": 19,
   "id": "fd707032",
   "metadata": {
    "scrolled": true
   },
   "outputs": [],
   "source": [
    "#replacing unknown or invalid with Namibia\n",
    "FrogData = frogData.replace({'country':{'unknown or invalid':'Namibia'}})"
   ]
  },
  {
   "cell_type": "code",
   "execution_count": 20,
   "id": "7f38bc1b",
   "metadata": {},
   "outputs": [
    {
     "data": {
      "text/plain": [
       "Australia       187995\n",
       "Costa Rica        1969\n",
       "South Africa      1197\n",
       "Panama             715\n",
       "Mexico             453\n",
       "Honduras           141\n",
       "Colombia           134\n",
       "Nicaragua          102\n",
       "Zimbabwe            88\n",
       "Mozambique          87\n",
       "Namibia             80\n",
       "Guatemala           28\n",
       "Botswana            27\n",
       "Zambia              25\n",
       "Belize              21\n",
       "Malawi              15\n",
       "Eswatini            12\n",
       "Lesotho              8\n",
       "Angola               2\n",
       "Name: country, dtype: int64"
      ]
     },
     "execution_count": 20,
     "metadata": {},
     "output_type": "execute_result"
    }
   ],
   "source": [
    "FrogData['country'].value_counts()"
   ]
  },
  {
   "cell_type": "markdown",
   "id": "22133d84",
   "metadata": {},
   "source": [
    "There are 19 counties, Australia has the highest as indicated in the continent analysis and Angola has the least which is in Africa"
   ]
  },
  {
   "cell_type": "markdown",
   "id": "40b48d56",
   "metadata": {},
   "source": [
    "### Univariate analysis on species"
   ]
  },
  {
   "cell_type": "code",
   "execution_count": 21,
   "id": "f98c6b68",
   "metadata": {},
   "outputs": [
    {
     "data": {
      "text/plain": [
       "Crinia Signifera             126637\n",
       "Litoria Fallax                47331\n",
       "Crinia Glauerti                9392\n",
       "Ranoidea Australis             4094\n",
       "Agalychnis Callidryas          2027\n",
       "Dendrobates Auratus            1535\n",
       "Xenopus Laevis                  956\n",
       "Chiromantis Xerampelina         586\n",
       "Austrochaperina Pluvialis       541\n",
       "Name: species, dtype: int64"
      ]
     },
     "execution_count": 21,
     "metadata": {},
     "output_type": "execute_result"
    }
   ],
   "source": [
    "FrogData['species'].value_counts()"
   ]
  },
  {
   "cell_type": "markdown",
   "id": "ae90953b",
   "metadata": {},
   "source": [
    "The specie with the highest number is Crinia Signifera  and the lowest is Austrochaperina Pluvialis in total there are 11 species of frog"
   ]
  },
  {
   "cell_type": "markdown",
   "id": "dcbcd9b2",
   "metadata": {},
   "source": [
    "### Univariate analysis on occurrenceStatus\n"
   ]
  },
  {
   "cell_type": "code",
   "execution_count": 22,
   "id": "0ffef606",
   "metadata": {},
   "outputs": [
    {
     "data": {
      "text/plain": [
       "0    145768\n",
       "1     47331\n",
       "Name: occurrenceStatus, dtype: int64"
      ]
     },
     "execution_count": 22,
     "metadata": {},
     "output_type": "execute_result"
    }
   ],
   "source": [
    "FrogData['occurrenceStatus'].value_counts()"
   ]
  },
  {
   "cell_type": "code",
   "execution_count": 23,
   "id": "80e9e2fc",
   "metadata": {
    "scrolled": true
   },
   "outputs": [
    {
     "data": {
      "text/plain": [
       "<AxesSubplot:xlabel='occurrenceStatus', ylabel='count'>"
      ]
     },
     "execution_count": 23,
     "metadata": {},
     "output_type": "execute_result"
    },
    {
     "data": {
      "image/png": "[encoded data removed]",
      "text/plain": [
       "<Figure size 432x288 with 1 Axes>"
      ]
     },
     "metadata": {
      "needs_background": "light"
     },
     "output_type": "display_data"
    }
   ],
   "source": [
    "sns.countplot(x='occurrenceStatus', data = FrogData)"
   ]
  },
  {
   "cell_type": "markdown",
   "id": "ebfa6e4d",
   "metadata": {},
   "source": [
    "We can see that species with occurence is way less than frogs without ocurence"
   ]
  },
  {
   "cell_type": "code",
   "execution_count": 24,
   "id": "ba635099",
   "metadata": {},
   "outputs": [
    {
     "data": {
      "text/plain": [
       "<AxesSubplot:xlabel='occurrenceStatus', ylabel='count'>"
      ]
     },
     "execution_count": 24,
     "metadata": {},
     "output_type": "execute_result"
    },
    {
     "data": {
      "image/png": "[encoded data removed]",
      "text/plain": [
       "<Figure size 432x288 with 1 Axes>"
      ]
     },
     "metadata": {
      "needs_background": "light"
     },
     "output_type": "display_data"
    }
   ],
   "source": [
    "sns.countplot(x='occurrenceStatus', hue = 'continent', data=FrogData)"
   ]
  },
  {
   "cell_type": "markdown",
   "id": "d352d12f",
   "metadata": {},
   "source": [
    "We can see that all the occurence are for species in Australia. Africa and central America had no ocurence"
   ]
  },
  {
   "cell_type": "markdown",
   "id": "8e60fa0b",
   "metadata": {},
   "source": [
    "### Univariate analysis on pppt_mean"
   ]
  },
  {
   "cell_type": "code",
   "execution_count": 25,
   "id": "9ed6fd00",
   "metadata": {},
   "outputs": [
    {
     "data": {
      "text/plain": [
       "60.133335     20105\n",
       "64.600000     16486\n",
       "68.700000     12059\n",
       "67.650000      6095\n",
       "51.116665      5331\n",
       "              ...  \n",
       "50.366665         1\n",
       "49.983334         1\n",
       "18.150000         1\n",
       "18.050000         1\n",
       "142.300000        1\n",
       "Name: ppt_mean, Length: 1680, dtype: int64"
      ]
     },
     "execution_count": 25,
     "metadata": {},
     "output_type": "execute_result"
    }
   ],
   "source": [
    "#Univariate analysis for ppt_mean\n",
    "FrogData['ppt_mean'].value_counts()"
   ]
  },
  {
   "cell_type": "code",
   "execution_count": 26,
   "id": "fb6e63f3",
   "metadata": {},
   "outputs": [
    {
     "data": {
      "image/png": "[encoded data removed]",
      "text/plain": [
       "<Figure size 432x288 with 1 Axes>"
      ]
     },
     "metadata": {
      "needs_background": "light"
     },
     "output_type": "display_data"
    }
   ],
   "source": [
    "plt.hist(FrogData['ppt_mean'], bins = 15)\n",
    "plt.show()"
   ]
  },
  {
   "cell_type": "markdown",
   "id": "dd646534",
   "metadata": {},
   "source": [
    "Most of the frogs have a ppt_mean of 60.1 and there a couple of them that have just 1 ppt_mean"
   ]
  },
  {
   "cell_type": "markdown",
   "id": "498e0df3",
   "metadata": {},
   "source": [
    "### Univariate analysis on soil_mean"
   ]
  },
  {
   "cell_type": "code",
   "execution_count": 27,
   "id": "40426c33",
   "metadata": {},
   "outputs": [
    {
     "data": {
      "text/plain": [
       "35.316666     20037\n",
       "47.416668     16483\n",
       "50.983334     12059\n",
       "43.233334      6095\n",
       "55.350000      5331\n",
       "              ...  \n",
       "175.600000        1\n",
       "17.733334         1\n",
       "2.083333          1\n",
       "72.016670         1\n",
       "214.566670        1\n",
       "Name: soil_mean, Length: 1591, dtype: int64"
      ]
     },
     "execution_count": 27,
     "metadata": {},
     "output_type": "execute_result"
    }
   ],
   "source": [
    "FrogData['soil_mean'].value_counts()"
   ]
  },
  {
   "cell_type": "code",
   "execution_count": 28,
   "id": "eb3ba854",
   "metadata": {},
   "outputs": [
    {
     "data": {
      "image/png": "[encoded data removed]",
      "text/plain": [
       "<Figure size 432x288 with 1 Axes>"
      ]
     },
     "metadata": {
      "needs_background": "light"
     },
     "output_type": "display_data"
    }
   ],
   "source": [
    "plt.hist(FrogData['soil_mean'], bins = 20)\n",
    "plt.show()"
   ]
  },
  {
   "cell_type": "markdown",
   "id": "1e1cacdb",
   "metadata": {},
   "source": [
    "The soil_mean with the most species is 35.316"
   ]
  },
  {
   "cell_type": "markdown",
   "id": "b857287e",
   "metadata": {},
   "source": [
    "### Univariate analysis on tmax_mean"
   ]
  },
  {
   "cell_type": "code",
   "execution_count": 29,
   "id": "a28bcec9",
   "metadata": {},
   "outputs": [
    {
     "data": {
      "text/plain": [
       "21.177650    19456\n",
       "24.218334    16483\n",
       "24.642558    11408\n",
       "24.130001     6095\n",
       "24.736670     5154\n",
       "             ...  \n",
       "34.430004        1\n",
       "35.233337        1\n",
       "34.075000        1\n",
       "35.370003        1\n",
       "29.323334        1\n",
       "Name: tmax_mean, Length: 1944, dtype: int64"
      ]
     },
     "execution_count": 29,
     "metadata": {},
     "output_type": "execute_result"
    }
   ],
   "source": [
    "FrogData['tmax_mean'].value_counts()"
   ]
  },
  {
   "cell_type": "code",
   "execution_count": 30,
   "id": "ecbc2163",
   "metadata": {},
   "outputs": [
    {
     "data": {
      "image/png": "[encoded data removed]",
      "text/plain": [
       "<Figure size 432x288 with 1 Axes>"
      ]
     },
     "metadata": {
      "needs_background": "light"
     },
     "output_type": "display_data"
    }
   ],
   "source": [
    "plt.hist(FrogData['tmax_mean'], bins = 20)\n",
    "plt.show()"
   ]
  },
  {
   "cell_type": "markdown",
   "id": "772273bc",
   "metadata": {},
   "source": [
    "### Univariate analysis on tmin_mean"
   ]
  },
  {
   "cell_type": "code",
   "execution_count": 31,
   "id": "7f97927c",
   "metadata": {},
   "outputs": [
    {
     "data": {
      "text/plain": [
       "9.663077     19456\n",
       "12.721667    16483\n",
       "13.080598    11408\n",
       "12.366668     6095\n",
       "13.008334     5154\n",
       "             ...  \n",
       "19.223335        1\n",
       "12.303334        1\n",
       "19.733334        1\n",
       "19.494999        1\n",
       "18.391668        1\n",
       "Name: tmin_mean, Length: 1915, dtype: int64"
      ]
     },
     "execution_count": 31,
     "metadata": {},
     "output_type": "execute_result"
    }
   ],
   "source": [
    "FrogData['tmin_mean'].value_counts()"
   ]
  },
  {
   "cell_type": "code",
   "execution_count": 32,
   "id": "ce7b557c",
   "metadata": {},
   "outputs": [
    {
     "data": {
      "image/png": "[encoded data removed]",
      "text/plain": [
       "<Figure size 432x288 with 1 Axes>"
      ]
     },
     "metadata": {
      "needs_background": "light"
     },
     "output_type": "display_data"
    }
   ],
   "source": [
    "plt.hist(FrogData['tmin_mean'], bins = 20)\n",
    "plt.show()"
   ]
  },
  {
   "cell_type": "markdown",
   "id": "1881d41c",
   "metadata": {},
   "source": [
    "### Univariate analysis on eventDate"
   ]
  },
  {
   "cell_type": "code",
   "execution_count": 33,
   "id": "b750c0d4",
   "metadata": {},
   "outputs": [
    {
     "data": {
      "text/plain": [
       "2010-12-17 00:00:00    1712\n",
       "2010-11-01 00:00:00     894\n",
       "2010-12-18 00:00:00     800\n",
       "2010-12-01 00:00:00     756\n",
       "2010-11-05 00:00:00     669\n",
       "                       ... \n",
       "2018-10-06 13:36:00       1\n",
       "2009-12-17 10:02:09       1\n",
       "2020-05-28 20:26:00       1\n",
       "2020-12-30 17:17:00       1\n",
       "1973-11-22 00:00:00       1\n",
       "Name: eventDate, Length: 18064, dtype: int64"
      ]
     },
     "execution_count": 33,
     "metadata": {},
     "output_type": "execute_result"
    }
   ],
   "source": [
    "FrogData['eventDate'].value_counts()"
   ]
  },
  {
   "cell_type": "markdown",
   "id": "7e8eef28",
   "metadata": {},
   "source": [
    "## Multivariate Analysis"
   ]
  },
  {
   "cell_type": "markdown",
   "id": "e6c19072",
   "metadata": {},
   "source": [
    "1. Finding species that are in which countries and continents"
   ]
  },
  {
   "cell_type": "code",
   "execution_count": 34,
   "id": "80647c1c",
   "metadata": {},
   "outputs": [
    {
     "data": {
      "text/plain": [
       "continent        country       species                  \n",
       "Africa           Angola        Xenopus Laevis                    2\n",
       "                 Botswana      Xenopus Laevis                    2\n",
       "                               Chiromantis Xerampelina          25\n",
       "                 Eswatini      Xenopus Laevis                    4\n",
       "                               Chiromantis Xerampelina           8\n",
       "                 Lesotho       Xenopus Laevis                    8\n",
       "                 Malawi        Xenopus Laevis                    1\n",
       "                               Chiromantis Xerampelina          14\n",
       "                 Mozambique    Xenopus Laevis                   28\n",
       "                               Chiromantis Xerampelina          59\n",
       "                 Namibia       Chiromantis Xerampelina          18\n",
       "                               Xenopus Laevis                   62\n",
       "                 South Africa  Chiromantis Xerampelina         372\n",
       "                               Xenopus Laevis                  825\n",
       "                 Zambia        Xenopus Laevis                    1\n",
       "                               Chiromantis Xerampelina          24\n",
       "                 Zimbabwe      Xenopus Laevis                   22\n",
       "                               Chiromantis Xerampelina          66\n",
       "Australia        Australia     Austrochaperina Pluvialis       541\n",
       "                               Ranoidea Australis             4094\n",
       "                               Crinia Glauerti                9392\n",
       "                               Litoria Fallax                47331\n",
       "                               Crinia Signifera             126637\n",
       "Central America  Belize        Agalychnis Callidryas            21\n",
       "                 Colombia      Dendrobates Auratus             134\n",
       "                 Costa Rica    Dendrobates Auratus             880\n",
       "                               Agalychnis Callidryas          1089\n",
       "                 Guatemala     Agalychnis Callidryas            28\n",
       "                 Honduras      Agalychnis Callidryas           141\n",
       "                 Mexico        Xenopus Laevis                    1\n",
       "                               Agalychnis Callidryas           452\n",
       "                 Nicaragua     Dendrobates Auratus              14\n",
       "                               Agalychnis Callidryas            88\n",
       "                 Panama        Agalychnis Callidryas           208\n",
       "                               Dendrobates Auratus             507\n",
       "Name: species, dtype: int64"
      ]
     },
     "execution_count": 34,
     "metadata": {},
     "output_type": "execute_result"
    }
   ],
   "source": [
    "FrogData.groupby(['continent', 'country'])['species'].value_counts(ascending=True)"
   ]
  },
  {
   "cell_type": "markdown",
   "id": "19161433",
   "metadata": {},
   "source": [
    "We can see that there are only **2 species** in **Africa** **(Xenopus Laevis,Chiromantis Xerampelina)**\n",
    "\n",
    "In **Central America** thee are **3 species (Dendrobates Auratus,Agalychnis Callidryas,Xenopus Laevis [only in Mexico and its just 1])**\n",
    "\n",
    "In **Australia** there are **5 species** of Frog **(Austrochaperina Pluvialis,Ranoidea Australis,Crinia Glauerti,Litoria Fallax,Crinia Signifera)** with the **highest number of species and frog count**\n"
   ]
  },
  {
   "cell_type": "markdown",
   "id": "742ba9b2",
   "metadata": {},
   "source": [
    "2. Finding the species that are most populated in which habitat using the 'ppt_mean', 'soil_mean', 'tmax_mean', 'tmin_mean"
   ]
  },
  {
   "cell_type": "code",
   "execution_count": 35,
   "id": "7d75db7a",
   "metadata": {},
   "outputs": [
    {
     "data": {
      "text/html": [
       "<div>\n",
       "<style scoped>\n",
       "    .dataframe tbody tr th:only-of-type {\n",
       "        vertical-align: middle;\n",
       "    }\n",
       "\n",
       "    .dataframe tbody tr th {\n",
       "        vertical-align: top;\n",
       "    }\n",
       "\n",
       "    .dataframe thead th {\n",
       "        text-align: right;\n",
       "    }\n",
       "</style>\n",
       "<table border=\"1\" class=\"dataframe\">\n",
       "  <thead>\n",
       "    <tr style=\"text-align: right;\">\n",
       "      <th></th>\n",
       "      <th>ppt_mean</th>\n",
       "      <th>soil_mean</th>\n",
       "      <th>tmax_mean</th>\n",
       "      <th>tmin_mean</th>\n",
       "    </tr>\n",
       "    <tr>\n",
       "      <th>species</th>\n",
       "      <th></th>\n",
       "      <th></th>\n",
       "      <th></th>\n",
       "      <th></th>\n",
       "    </tr>\n",
       "  </thead>\n",
       "  <tbody>\n",
       "    <tr>\n",
       "      <th>Agalychnis Callidryas</th>\n",
       "      <td>328.33334</td>\n",
       "      <td>338.383330</td>\n",
       "      <td>35.678333</td>\n",
       "      <td>24.465000</td>\n",
       "    </tr>\n",
       "    <tr>\n",
       "      <th>Austrochaperina Pluvialis</th>\n",
       "      <td>241.88333</td>\n",
       "      <td>403.716670</td>\n",
       "      <td>30.146666</td>\n",
       "      <td>20.905000</td>\n",
       "    </tr>\n",
       "    <tr>\n",
       "      <th>Chiromantis Xerampelina</th>\n",
       "      <td>106.28333</td>\n",
       "      <td>83.683334</td>\n",
       "      <td>33.560000</td>\n",
       "      <td>20.705004</td>\n",
       "    </tr>\n",
       "    <tr>\n",
       "      <th>Crinia Glauerti</th>\n",
       "      <td>164.80000</td>\n",
       "      <td>269.283330</td>\n",
       "      <td>27.993336</td>\n",
       "      <td>18.586668</td>\n",
       "    </tr>\n",
       "    <tr>\n",
       "      <th>Crinia Signifera</th>\n",
       "      <td>206.88333</td>\n",
       "      <td>390.000000</td>\n",
       "      <td>33.481670</td>\n",
       "      <td>21.785002</td>\n",
       "    </tr>\n",
       "    <tr>\n",
       "      <th>Dendrobates Auratus</th>\n",
       "      <td>368.75000</td>\n",
       "      <td>334.000000</td>\n",
       "      <td>33.603333</td>\n",
       "      <td>24.465000</td>\n",
       "    </tr>\n",
       "    <tr>\n",
       "      <th>Litoria Fallax</th>\n",
       "      <td>241.88333</td>\n",
       "      <td>403.716670</td>\n",
       "      <td>31.393333</td>\n",
       "      <td>21.785002</td>\n",
       "    </tr>\n",
       "    <tr>\n",
       "      <th>Ranoidea Australis</th>\n",
       "      <td>154.60000</td>\n",
       "      <td>390.000000</td>\n",
       "      <td>37.401672</td>\n",
       "      <td>25.253334</td>\n",
       "    </tr>\n",
       "    <tr>\n",
       "      <th>Xenopus Laevis</th>\n",
       "      <td>106.96667</td>\n",
       "      <td>95.516670</td>\n",
       "      <td>32.871666</td>\n",
       "      <td>17.950003</td>\n",
       "    </tr>\n",
       "  </tbody>\n",
       "</table>\n",
       "</div>"
      ],
      "text/plain": [
       "                            ppt_mean   soil_mean  tmax_mean  tmin_mean\n",
       "species                                                               \n",
       "Agalychnis Callidryas      328.33334  338.383330  35.678333  24.465000\n",
       "Austrochaperina Pluvialis  241.88333  403.716670  30.146666  20.905000\n",
       "Chiromantis Xerampelina    106.28333   83.683334  33.560000  20.705004\n",
       "Crinia Glauerti            164.80000  269.283330  27.993336  18.586668\n",
       "Crinia Signifera           206.88333  390.000000  33.481670  21.785002\n",
       "Dendrobates Auratus        368.75000  334.000000  33.603333  24.465000\n",
       "Litoria Fallax             241.88333  403.716670  31.393333  21.785002\n",
       "Ranoidea Australis         154.60000  390.000000  37.401672  25.253334\n",
       "Xenopus Laevis             106.96667   95.516670  32.871666  17.950003"
      ]
     },
     "execution_count": 35,
     "metadata": {},
     "output_type": "execute_result"
    }
   ],
   "source": [
    "#groupby of species on max ppt_mean, soil_mean, tmax_mean, tmin_mean\n",
    "FrogData.groupby(['species'])[['ppt_mean', 'soil_mean', 'tmax_mean', 'tmin_mean']].max()"
   ]
  },
  {
   "cell_type": "code",
   "execution_count": 36,
   "id": "032e77ef",
   "metadata": {
    "scrolled": false
   },
   "outputs": [
    {
     "data": {
      "image/png": "[encoded data removed]",
      "text/plain": [
       "<Figure size 1800x1800 with 2 Axes>"
      ]
     },
     "metadata": {},
     "output_type": "display_data"
    }
   ],
   "source": [
    "#plotting  a pie chart to see  the distribution of species per aggtregates of maximum ppt_mean and soil_mean\n",
    "FrogData.groupby(['species'])[['ppt_mean', 'soil_mean']].max().plot(kind='pie', subplots=True, shadow = False, startangle=0,figsize=(25,25), \n",
    "                                        autopct='%1.1f%%')\n",
    "plt.title('Species per max of ppt and soil', fontsize=30)\n",
    "plt.show()"
   ]
  },
  {
   "cell_type": "markdown",
   "id": "cfd834f4",
   "metadata": {},
   "source": [
    "**Dendrobates** has the **maximum ppt_mean** and **Chiromantis Xerampelina** has the **lowest ppt_mean**\n",
    "\n",
    "**Crinia Signifera** and **Ranoidea Australis** have the **maximum soil_mean** and **Xenopus leavis** has the **lowest soil_mean**"
   ]
  },
  {
   "cell_type": "code",
   "execution_count": 37,
   "id": "c018fc34",
   "metadata": {
    "scrolled": true
   },
   "outputs": [
    {
     "data": {
      "image/png": "[encoded data removed]",
      "text/plain": [
       "<Figure size 1080x720 with 2 Axes>"
      ]
     },
     "metadata": {},
     "output_type": "display_data"
    }
   ],
   "source": [
    "#plotting  a pie chart to see  the distribution of species per aggtregates of maximum tmax_mean, tmin_mean\n",
    "FrogData.groupby(['species'])[['tmax_mean', 'tmin_mean']].max().plot(kind='pie', subplots=True, shadow = False, startangle=0,figsize=(15,10), \n",
    "                                        autopct='%1.1f%%')\n",
    "plt.title('Species per Maximum Mean of tmax and tmin', fontsize=15)\n",
    "plt.show()"
   ]
  },
  {
   "cell_type": "markdown",
   "id": "fde35ac0",
   "metadata": {},
   "source": [
    "The tmin_ mean and tmax_mean are almost  the same across all species. "
   ]
  },
  {
   "cell_type": "code",
   "execution_count": 38,
   "id": "ffecd79e",
   "metadata": {},
   "outputs": [
    {
     "data": {
      "text/html": [
       "<div>\n",
       "<style scoped>\n",
       "    .dataframe tbody tr th:only-of-type {\n",
       "        vertical-align: middle;\n",
       "    }\n",
       "\n",
       "    .dataframe tbody tr th {\n",
       "        vertical-align: top;\n",
       "    }\n",
       "\n",
       "    .dataframe thead th {\n",
       "        text-align: right;\n",
       "    }\n",
       "</style>\n",
       "<table border=\"1\" class=\"dataframe\">\n",
       "  <thead>\n",
       "    <tr style=\"text-align: right;\">\n",
       "      <th></th>\n",
       "      <th>ppt_mean</th>\n",
       "      <th>soil_mean</th>\n",
       "      <th>tmax_mean</th>\n",
       "      <th>tmin_mean</th>\n",
       "    </tr>\n",
       "    <tr>\n",
       "      <th>species</th>\n",
       "      <th></th>\n",
       "      <th></th>\n",
       "      <th></th>\n",
       "      <th></th>\n",
       "    </tr>\n",
       "  </thead>\n",
       "  <tbody>\n",
       "    <tr>\n",
       "      <th>Agalychnis Callidryas</th>\n",
       "      <td>4.004897e+05</td>\n",
       "      <td>2.548076e+05</td>\n",
       "      <td>6.196368e+04</td>\n",
       "      <td>4.222940e+04</td>\n",
       "    </tr>\n",
       "    <tr>\n",
       "      <th>Austrochaperina Pluvialis</th>\n",
       "      <td>9.033123e+04</td>\n",
       "      <td>1.673042e+05</td>\n",
       "      <td>1.488428e+04</td>\n",
       "      <td>9.684008e+03</td>\n",
       "    </tr>\n",
       "    <tr>\n",
       "      <th>Chiromantis Xerampelina</th>\n",
       "      <td>3.032830e+04</td>\n",
       "      <td>1.151943e+04</td>\n",
       "      <td>1.752817e+04</td>\n",
       "      <td>9.445893e+03</td>\n",
       "    </tr>\n",
       "    <tr>\n",
       "      <th>Crinia Glauerti</th>\n",
       "      <td>5.113283e+05</td>\n",
       "      <td>5.668467e+05</td>\n",
       "      <td>2.258367e+05</td>\n",
       "      <td>1.174904e+05</td>\n",
       "    </tr>\n",
       "    <tr>\n",
       "      <th>Crinia Signifera</th>\n",
       "      <td>7.699562e+06</td>\n",
       "      <td>5.244682e+06</td>\n",
       "      <td>2.681912e+06</td>\n",
       "      <td>1.223730e+06</td>\n",
       "    </tr>\n",
       "    <tr>\n",
       "      <th>Dendrobates Auratus</th>\n",
       "      <td>3.287855e+05</td>\n",
       "      <td>2.232639e+05</td>\n",
       "      <td>4.699002e+04</td>\n",
       "      <td>3.384205e+04</td>\n",
       "    </tr>\n",
       "    <tr>\n",
       "      <th>Litoria Fallax</th>\n",
       "      <td>3.619449e+06</td>\n",
       "      <td>3.366141e+06</td>\n",
       "      <td>1.166357e+06</td>\n",
       "      <td>6.191178e+05</td>\n",
       "    </tr>\n",
       "    <tr>\n",
       "      <th>Ranoidea Australis</th>\n",
       "      <td>3.508161e+05</td>\n",
       "      <td>4.961465e+05</td>\n",
       "      <td>1.390484e+05</td>\n",
       "      <td>8.588187e+04</td>\n",
       "    </tr>\n",
       "    <tr>\n",
       "      <th>Xenopus Laevis</th>\n",
       "      <td>3.753323e+04</td>\n",
       "      <td>8.821217e+03</td>\n",
       "      <td>2.430329e+04</td>\n",
       "      <td>1.065351e+04</td>\n",
       "    </tr>\n",
       "  </tbody>\n",
       "</table>\n",
       "</div>"
      ],
      "text/plain": [
       "                               ppt_mean     soil_mean     tmax_mean  \\\n",
       "species                                                               \n",
       "Agalychnis Callidryas      4.004897e+05  2.548076e+05  6.196368e+04   \n",
       "Austrochaperina Pluvialis  9.033123e+04  1.673042e+05  1.488428e+04   \n",
       "Chiromantis Xerampelina    3.032830e+04  1.151943e+04  1.752817e+04   \n",
       "Crinia Glauerti            5.113283e+05  5.668467e+05  2.258367e+05   \n",
       "Crinia Signifera           7.699562e+06  5.244682e+06  2.681912e+06   \n",
       "Dendrobates Auratus        3.287855e+05  2.232639e+05  4.699002e+04   \n",
       "Litoria Fallax             3.619449e+06  3.366141e+06  1.166357e+06   \n",
       "Ranoidea Australis         3.508161e+05  4.961465e+05  1.390484e+05   \n",
       "Xenopus Laevis             3.753323e+04  8.821217e+03  2.430329e+04   \n",
       "\n",
       "                              tmin_mean  \n",
       "species                                  \n",
       "Agalychnis Callidryas      4.222940e+04  \n",
       "Austrochaperina Pluvialis  9.684008e+03  \n",
       "Chiromantis Xerampelina    9.445893e+03  \n",
       "Crinia Glauerti            1.174904e+05  \n",
       "Crinia Signifera           1.223730e+06  \n",
       "Dendrobates Auratus        3.384205e+04  \n",
       "Litoria Fallax             6.191178e+05  \n",
       "Ranoidea Australis         8.588187e+04  \n",
       "Xenopus Laevis             1.065351e+04  "
      ]
     },
     "execution_count": 38,
     "metadata": {},
     "output_type": "execute_result"
    }
   ],
   "source": [
    "#groupby of species on min ppt_mean, soil_mean, tmax_mean, tmin_mean\n",
    "FrogData.groupby(['species'])[['ppt_mean', 'soil_mean', 'tmax_mean', 'tmin_mean']].sum()"
   ]
  },
  {
   "cell_type": "code",
   "execution_count": 39,
   "id": "d626912a",
   "metadata": {},
   "outputs": [
    {
     "data": {
      "image/png": "[encoded data removed]",
      "text/plain": [
       "<Figure size 1080x720 with 2 Axes>"
      ]
     },
     "metadata": {},
     "output_type": "display_data"
    }
   ],
   "source": [
    "#plotting  a pie chart to see  the distribution of species per sum of aggtregation of habitat conditions\n",
    "\n",
    "FrogData.groupby(['species'])[['ppt_mean', 'soil_mean']].sum().plot(kind='pie', subplots=True, shadow = False, startangle=0,figsize=(15,10), \n",
    "                                        autopct='%1.1f%%')\n",
    "plt.title('Species per Sum of ppt_mean and soil_mean', fontsize=15)\n",
    "plt.show()"
   ]
  },
  {
   "cell_type": "code",
   "execution_count": 40,
   "id": "0cb9d2da",
   "metadata": {
    "scrolled": true
   },
   "outputs": [
    {
     "data": {
      "text/html": [
       "<div>\n",
       "<style scoped>\n",
       "    .dataframe tbody tr th:only-of-type {\n",
       "        vertical-align: middle;\n",
       "    }\n",
       "\n",
       "    .dataframe tbody tr th {\n",
       "        vertical-align: top;\n",
       "    }\n",
       "\n",
       "    .dataframe thead th {\n",
       "        text-align: right;\n",
       "    }\n",
       "</style>\n",
       "<table border=\"1\" class=\"dataframe\">\n",
       "  <thead>\n",
       "    <tr style=\"text-align: right;\">\n",
       "      <th></th>\n",
       "      <th>decimalLatitude</th>\n",
       "      <th>decimalLongitude</th>\n",
       "    </tr>\n",
       "    <tr>\n",
       "      <th>species</th>\n",
       "      <th></th>\n",
       "      <th></th>\n",
       "    </tr>\n",
       "  </thead>\n",
       "  <tbody>\n",
       "    <tr>\n",
       "      <th>Agalychnis Callidryas</th>\n",
       "      <td>10.466670</td>\n",
       "      <td>-84.450000</td>\n",
       "    </tr>\n",
       "    <tr>\n",
       "      <th>Austrochaperina Pluvialis</th>\n",
       "      <td>-16.812356</td>\n",
       "      <td>145.634000</td>\n",
       "    </tr>\n",
       "    <tr>\n",
       "      <th>Chiromantis Xerampelina</th>\n",
       "      <td>-24.279167</td>\n",
       "      <td>31.494532</td>\n",
       "    </tr>\n",
       "    <tr>\n",
       "      <th>Crinia Glauerti</th>\n",
       "      <td>-31.936600</td>\n",
       "      <td>115.889000</td>\n",
       "    </tr>\n",
       "    <tr>\n",
       "      <th>Crinia Signifera</th>\n",
       "      <td>-35.058542</td>\n",
       "      <td>148.989194</td>\n",
       "    </tr>\n",
       "    <tr>\n",
       "      <th>Dendrobates Auratus</th>\n",
       "      <td>9.166667</td>\n",
       "      <td>-82.849981</td>\n",
       "    </tr>\n",
       "    <tr>\n",
       "      <th>Litoria Fallax</th>\n",
       "      <td>-33.017790</td>\n",
       "      <td>151.365000</td>\n",
       "    </tr>\n",
       "    <tr>\n",
       "      <th>Ranoidea Australis</th>\n",
       "      <td>-13.498580</td>\n",
       "      <td>131.072769</td>\n",
       "    </tr>\n",
       "    <tr>\n",
       "      <th>Xenopus Laevis</th>\n",
       "      <td>-29.994861</td>\n",
       "      <td>24.073240</td>\n",
       "    </tr>\n",
       "  </tbody>\n",
       "</table>\n",
       "</div>"
      ],
      "text/plain": [
       "                           decimalLatitude  decimalLongitude\n",
       "species                                                     \n",
       "Agalychnis Callidryas            10.466670        -84.450000\n",
       "Austrochaperina Pluvialis       -16.812356        145.634000\n",
       "Chiromantis Xerampelina         -24.279167         31.494532\n",
       "Crinia Glauerti                 -31.936600        115.889000\n",
       "Crinia Signifera                -35.058542        148.989194\n",
       "Dendrobates Auratus               9.166667        -82.849981\n",
       "Litoria Fallax                  -33.017790        151.365000\n",
       "Ranoidea Australis              -13.498580        131.072769\n",
       "Xenopus Laevis                  -29.994861         24.073240"
      ]
     },
     "execution_count": 40,
     "metadata": {},
     "output_type": "execute_result"
    }
   ],
   "source": [
    "FrogData.groupby(['species'])[['decimalLatitude', 'decimalLongitude']].median()"
   ]
  },
  {
   "cell_type": "code",
   "execution_count": 41,
   "id": "812901ee",
   "metadata": {},
   "outputs": [
    {
     "data": {
      "text/html": [
       "<div>\n",
       "<style scoped>\n",
       "    .dataframe tbody tr th:only-of-type {\n",
       "        vertical-align: middle;\n",
       "    }\n",
       "\n",
       "    .dataframe tbody tr th {\n",
       "        vertical-align: top;\n",
       "    }\n",
       "\n",
       "    .dataframe thead th {\n",
       "        text-align: right;\n",
       "    }\n",
       "</style>\n",
       "<table border=\"1\" class=\"dataframe\">\n",
       "  <thead>\n",
       "    <tr style=\"text-align: right;\">\n",
       "      <th></th>\n",
       "      <th>decimalLatitude</th>\n",
       "      <th>decimalLongitude</th>\n",
       "    </tr>\n",
       "    <tr>\n",
       "      <th>continent</th>\n",
       "      <th></th>\n",
       "      <th></th>\n",
       "    </tr>\n",
       "  </thead>\n",
       "  <tbody>\n",
       "    <tr>\n",
       "      <th>Africa</th>\n",
       "      <td>-27.628870</td>\n",
       "      <td>28.453425</td>\n",
       "    </tr>\n",
       "    <tr>\n",
       "      <th>Australia</th>\n",
       "      <td>-33.839938</td>\n",
       "      <td>150.179031</td>\n",
       "    </tr>\n",
       "    <tr>\n",
       "      <th>Central America</th>\n",
       "      <td>9.901120</td>\n",
       "      <td>-83.648881</td>\n",
       "    </tr>\n",
       "  </tbody>\n",
       "</table>\n",
       "</div>"
      ],
      "text/plain": [
       "                 decimalLatitude  decimalLongitude\n",
       "continent                                         \n",
       "Africa                -27.628870         28.453425\n",
       "Australia             -33.839938        150.179031\n",
       "Central America         9.901120        -83.648881"
      ]
     },
     "execution_count": 41,
     "metadata": {},
     "output_type": "execute_result"
    }
   ],
   "source": [
    "FrogData.groupby(['continent'])[['decimalLatitude', 'decimalLongitude']].median()"
   ]
  },
  {
   "cell_type": "markdown",
   "id": "0627e32e",
   "metadata": {},
   "source": [
    "From the above analysis, we can see that the most populated continent is Australia  its decimalLongitude is 150.179031 the highest positive and its decimalLatitude is the highest negative and though it has fewer countires it's the most populated. The climate conditions plays an importatant role in the population"
   ]
  },
  {
   "cell_type": "code",
   "execution_count": 42,
   "id": "209cc597",
   "metadata": {},
   "outputs": [
    {
     "data": {
      "text/html": [
       "<style type=\"text/css\">\n",
       "#T_96b44_row0_col0, #T_96b44_row1_col1, #T_96b44_row2_col2, #T_96b44_row3_col3, #T_96b44_row4_col4, #T_96b44_row5_col5, #T_96b44_row6_col6, #T_96b44_row7_col7 {\n",
       "  background-color: #023858;\n",
       "  color: #f1f1f1;\n",
       "}\n",
       "#T_96b44_row0_col1 {\n",
       "  background-color: #a4bcda;\n",
       "  color: #000000;\n",
       "}\n",
       "#T_96b44_row0_col2 {\n",
       "  background-color: #7dacd1;\n",
       "  color: #f1f1f1;\n",
       "}\n",
       "#T_96b44_row0_col3, #T_96b44_row1_col0, #T_96b44_row1_col2, #T_96b44_row2_col1, #T_96b44_row2_col4, #T_96b44_row2_col5, #T_96b44_row2_col6, #T_96b44_row2_col7 {\n",
       "  background-color: #fff7fb;\n",
       "  color: #000000;\n",
       "}\n",
       "#T_96b44_row0_col4 {\n",
       "  background-color: #bbc7e0;\n",
       "  color: #000000;\n",
       "}\n",
       "#T_96b44_row0_col5 {\n",
       "  background-color: #e5e1ef;\n",
       "  color: #000000;\n",
       "}\n",
       "#T_96b44_row0_col6, #T_96b44_row6_col2 {\n",
       "  background-color: #d6d6e9;\n",
       "  color: #000000;\n",
       "}\n",
       "#T_96b44_row0_col7 {\n",
       "  background-color: #cacee5;\n",
       "  color: #000000;\n",
       "}\n",
       "#T_96b44_row1_col3 {\n",
       "  background-color: #f5eef6;\n",
       "  color: #000000;\n",
       "}\n",
       "#T_96b44_row1_col4, #T_96b44_row1_col6 {\n",
       "  background-color: #0567a1;\n",
       "  color: #f1f1f1;\n",
       "}\n",
       "#T_96b44_row1_col5, #T_96b44_row6_col4 {\n",
       "  background-color: #4e9ac6;\n",
       "  color: #f1f1f1;\n",
       "}\n",
       "#T_96b44_row1_col7 {\n",
       "  background-color: #04639b;\n",
       "  color: #f1f1f1;\n",
       "}\n",
       "#T_96b44_row2_col0 {\n",
       "  background-color: #e6e2ef;\n",
       "  color: #000000;\n",
       "}\n",
       "#T_96b44_row2_col3 {\n",
       "  background-color: #eee8f3;\n",
       "  color: #000000;\n",
       "}\n",
       "#T_96b44_row3_col0 {\n",
       "  background-color: #e9e5f1;\n",
       "  color: #000000;\n",
       "}\n",
       "#T_96b44_row3_col1 {\n",
       "  background-color: #73a9cf;\n",
       "  color: #f1f1f1;\n",
       "}\n",
       "#T_96b44_row3_col2, #T_96b44_row4_col6 {\n",
       "  background-color: #65a3cb;\n",
       "  color: #f1f1f1;\n",
       "}\n",
       "#T_96b44_row3_col4, #T_96b44_row6_col5 {\n",
       "  background-color: #86b0d3;\n",
       "  color: #000000;\n",
       "}\n",
       "#T_96b44_row3_col5 {\n",
       "  background-color: #b1c2de;\n",
       "  color: #000000;\n",
       "}\n",
       "#T_96b44_row3_col6 {\n",
       "  background-color: #6ba5cd;\n",
       "  color: #f1f1f1;\n",
       "}\n",
       "#T_96b44_row3_col7 {\n",
       "  background-color: #62a2cb;\n",
       "  color: #f1f1f1;\n",
       "}\n",
       "#T_96b44_row4_col0 {\n",
       "  background-color: #f9f2f8;\n",
       "  color: #000000;\n",
       "}\n",
       "#T_96b44_row4_col1 {\n",
       "  background-color: #04629a;\n",
       "  color: #f1f1f1;\n",
       "}\n",
       "#T_96b44_row4_col2 {\n",
       "  background-color: #eae6f1;\n",
       "  color: #000000;\n",
       "}\n",
       "#T_96b44_row4_col3 {\n",
       "  background-color: #eee9f3;\n",
       "  color: #000000;\n",
       "}\n",
       "#T_96b44_row4_col5 {\n",
       "  background-color: #0569a5;\n",
       "  color: #f1f1f1;\n",
       "}\n",
       "#T_96b44_row4_col7 {\n",
       "  background-color: #2987bc;\n",
       "  color: #f1f1f1;\n",
       "}\n",
       "#T_96b44_row5_col0 {\n",
       "  background-color: #f3edf5;\n",
       "  color: #000000;\n",
       "}\n",
       "#T_96b44_row5_col1 {\n",
       "  background-color: #1379b5;\n",
       "  color: #f1f1f1;\n",
       "}\n",
       "#T_96b44_row5_col2 {\n",
       "  background-color: #b8c6e0;\n",
       "  color: #000000;\n",
       "}\n",
       "#T_96b44_row5_col3 {\n",
       "  background-color: #e4e1ef;\n",
       "  color: #000000;\n",
       "}\n",
       "#T_96b44_row5_col4 {\n",
       "  background-color: #046198;\n",
       "  color: #f1f1f1;\n",
       "}\n",
       "#T_96b44_row5_col6 {\n",
       "  background-color: #67a4cc;\n",
       "  color: #f1f1f1;\n",
       "}\n",
       "#T_96b44_row5_col7 {\n",
       "  background-color: #328dbf;\n",
       "  color: #f1f1f1;\n",
       "}\n",
       "#T_96b44_row6_col0 {\n",
       "  background-color: #fbf4f9;\n",
       "  color: #000000;\n",
       "}\n",
       "#T_96b44_row6_col1 {\n",
       "  background-color: #045e94;\n",
       "  color: #f1f1f1;\n",
       "}\n",
       "#T_96b44_row6_col3 {\n",
       "  background-color: #c1cae2;\n",
       "  color: #000000;\n",
       "}\n",
       "#T_96b44_row6_col7 {\n",
       "  background-color: #034871;\n",
       "  color: #f1f1f1;\n",
       "}\n",
       "#T_96b44_row7_col0 {\n",
       "  background-color: #faf3f9;\n",
       "  color: #000000;\n",
       "}\n",
       "#T_96b44_row7_col1 {\n",
       "  background-color: #045d92;\n",
       "  color: #f1f1f1;\n",
       "}\n",
       "#T_96b44_row7_col2 {\n",
       "  background-color: #e0dded;\n",
       "  color: #000000;\n",
       "}\n",
       "#T_96b44_row7_col3 {\n",
       "  background-color: #c2cbe2;\n",
       "  color: #000000;\n",
       "}\n",
       "#T_96b44_row7_col4 {\n",
       "  background-color: #2182b9;\n",
       "  color: #f1f1f1;\n",
       "}\n",
       "#T_96b44_row7_col5 {\n",
       "  background-color: #569dc8;\n",
       "  color: #f1f1f1;\n",
       "}\n",
       "#T_96b44_row7_col6 {\n",
       "  background-color: #034973;\n",
       "  color: #f1f1f1;\n",
       "}\n",
       "</style>\n",
       "<table id=\"T_96b44_\">\n",
       "  <thead>\n",
       "    <tr>\n",
       "      <th class=\"blank level0\" >&nbsp;</th>\n",
       "      <th class=\"col_heading level0 col0\" >gbifID</th>\n",
       "      <th class=\"col_heading level0 col1\" >decimalLatitude</th>\n",
       "      <th class=\"col_heading level0 col2\" >decimalLongitude</th>\n",
       "      <th class=\"col_heading level0 col3\" >occurrenceStatus</th>\n",
       "      <th class=\"col_heading level0 col4\" >ppt_mean</th>\n",
       "      <th class=\"col_heading level0 col5\" >soil_mean</th>\n",
       "      <th class=\"col_heading level0 col6\" >tmax_mean</th>\n",
       "      <th class=\"col_heading level0 col7\" >tmin_mean</th>\n",
       "    </tr>\n",
       "  </thead>\n",
       "  <tbody>\n",
       "    <tr>\n",
       "      <th id=\"T_96b44_level0_row0\" class=\"row_heading level0 row0\" >gbifID</th>\n",
       "      <td id=\"T_96b44_row0_col0\" class=\"data row0 col0\" >1.000000</td>\n",
       "      <td id=\"T_96b44_row0_col1\" class=\"data row0 col1\" >-0.087969</td>\n",
       "      <td id=\"T_96b44_row0_col2\" class=\"data row0 col2\" >0.081514</td>\n",
       "      <td id=\"T_96b44_row0_col3\" class=\"data row0 col3\" >0.064643</td>\n",
       "      <td id=\"T_96b44_row0_col4\" class=\"data row0 col4\" >-0.042316</td>\n",
       "      <td id=\"T_96b44_row0_col5\" class=\"data row0 col5\" >-0.000579</td>\n",
       "      <td id=\"T_96b44_row0_col6\" class=\"data row0 col6\" >-0.059031</td>\n",
       "      <td id=\"T_96b44_row0_col7\" class=\"data row0 col7\" >-0.052167</td>\n",
       "    </tr>\n",
       "    <tr>\n",
       "      <th id=\"T_96b44_level0_row1\" class=\"row_heading level0 row1\" >decimalLatitude</th>\n",
       "      <td id=\"T_96b44_row1_col0\" class=\"data row1 col0\" >-0.087969</td>\n",
       "      <td id=\"T_96b44_row1_col1\" class=\"data row1 col1\" >1.000000</td>\n",
       "      <td id=\"T_96b44_row1_col2\" class=\"data row1 col2\" >-0.756516</td>\n",
       "      <td id=\"T_96b44_row1_col3\" class=\"data row1 col3\" >0.128480</td>\n",
       "      <td id=\"T_96b44_row1_col4\" class=\"data row1 col4\" >0.698009</td>\n",
       "      <td id=\"T_96b44_row1_col5\" class=\"data row1 col5\" >0.496637</td>\n",
       "      <td id=\"T_96b44_row1_col6\" class=\"data row1 col6\" >0.733495</td>\n",
       "      <td id=\"T_96b44_row1_col7\" class=\"data row1 col7\" >0.747339</td>\n",
       "    </tr>\n",
       "    <tr>\n",
       "      <th id=\"T_96b44_level0_row2\" class=\"row_heading level0 row2\" >decimalLongitude</th>\n",
       "      <td id=\"T_96b44_row2_col0\" class=\"data row2 col0\" >0.081514</td>\n",
       "      <td id=\"T_96b44_row2_col1\" class=\"data row2 col1\" >-0.756516</td>\n",
       "      <td id=\"T_96b44_row2_col2\" class=\"data row2 col2\" >1.000000</td>\n",
       "      <td id=\"T_96b44_row2_col3\" class=\"data row2 col3\" >0.172131</td>\n",
       "      <td id=\"T_96b44_row2_col4\" class=\"data row2 col4\" >-0.518281</td>\n",
       "      <td id=\"T_96b44_row2_col5\" class=\"data row2 col5\" >-0.189815</td>\n",
       "      <td id=\"T_96b44_row2_col6\" class=\"data row2 col6\" >-0.364139</td>\n",
       "      <td id=\"T_96b44_row2_col7\" class=\"data row2 col7\" >-0.434441</td>\n",
       "    </tr>\n",
       "    <tr>\n",
       "      <th id=\"T_96b44_level0_row3\" class=\"row_heading level0 row3\" >occurrenceStatus</th>\n",
       "      <td id=\"T_96b44_row3_col0\" class=\"data row3 col0\" >0.064643</td>\n",
       "      <td id=\"T_96b44_row3_col1\" class=\"data row3 col1\" >0.128480</td>\n",
       "      <td id=\"T_96b44_row3_col2\" class=\"data row3 col2\" >0.172131</td>\n",
       "      <td id=\"T_96b44_row3_col3\" class=\"data row3 col3\" >1.000000</td>\n",
       "      <td id=\"T_96b44_row3_col4\" class=\"data row3 col4\" >0.169856</td>\n",
       "      <td id=\"T_96b44_row3_col5\" class=\"data row3 col5\" >0.214763</td>\n",
       "      <td id=\"T_96b44_row3_col6\" class=\"data row3 col6\" >0.342267</td>\n",
       "      <td id=\"T_96b44_row3_col7\" class=\"data row3 col7\" >0.338127</td>\n",
       "    </tr>\n",
       "    <tr>\n",
       "      <th id=\"T_96b44_level0_row4\" class=\"row_heading level0 row4\" >ppt_mean</th>\n",
       "      <td id=\"T_96b44_row4_col0\" class=\"data row4 col0\" >-0.042316</td>\n",
       "      <td id=\"T_96b44_row4_col1\" class=\"data row4 col1\" >0.698009</td>\n",
       "      <td id=\"T_96b44_row4_col2\" class=\"data row4 col2\" >-0.518281</td>\n",
       "      <td id=\"T_96b44_row4_col3\" class=\"data row4 col3\" >0.169856</td>\n",
       "      <td id=\"T_96b44_row4_col4\" class=\"data row4 col4\" >1.000000</td>\n",
       "      <td id=\"T_96b44_row4_col5\" class=\"data row4 col5\" >0.746113</td>\n",
       "      <td id=\"T_96b44_row4_col6\" class=\"data row4 col6\" >0.355494</td>\n",
       "      <td id=\"T_96b44_row4_col7\" class=\"data row4 col7\" >0.510679</td>\n",
       "    </tr>\n",
       "    <tr>\n",
       "      <th id=\"T_96b44_level0_row5\" class=\"row_heading level0 row5\" >soil_mean</th>\n",
       "      <td id=\"T_96b44_row5_col0\" class=\"data row5 col0\" >-0.000579</td>\n",
       "      <td id=\"T_96b44_row5_col1\" class=\"data row5 col1\" >0.496637</td>\n",
       "      <td id=\"T_96b44_row5_col2\" class=\"data row5 col2\" >-0.189815</td>\n",
       "      <td id=\"T_96b44_row5_col3\" class=\"data row5 col3\" >0.214763</td>\n",
       "      <td id=\"T_96b44_row5_col4\" class=\"data row5 col4\" >0.746113</td>\n",
       "      <td id=\"T_96b44_row5_col5\" class=\"data row5 col5\" >1.000000</td>\n",
       "      <td id=\"T_96b44_row5_col6\" class=\"data row5 col6\" >0.351619</td>\n",
       "      <td id=\"T_96b44_row5_col7\" class=\"data row5 col7\" >0.477452</td>\n",
       "    </tr>\n",
       "    <tr>\n",
       "      <th id=\"T_96b44_level0_row6\" class=\"row_heading level0 row6\" >tmax_mean</th>\n",
       "      <td id=\"T_96b44_row6_col0\" class=\"data row6 col0\" >-0.059031</td>\n",
       "      <td id=\"T_96b44_row6_col1\" class=\"data row6 col1\" >0.733495</td>\n",
       "      <td id=\"T_96b44_row6_col2\" class=\"data row6 col2\" >-0.364139</td>\n",
       "      <td id=\"T_96b44_row6_col3\" class=\"data row6 col3\" >0.342267</td>\n",
       "      <td id=\"T_96b44_row6_col4\" class=\"data row6 col4\" >0.355494</td>\n",
       "      <td id=\"T_96b44_row6_col5\" class=\"data row6 col5\" >0.351619</td>\n",
       "      <td id=\"T_96b44_row6_col6\" class=\"data row6 col6\" >1.000000</td>\n",
       "      <td id=\"T_96b44_row6_col7\" class=\"data row6 col7\" >0.914127</td>\n",
       "    </tr>\n",
       "    <tr>\n",
       "      <th id=\"T_96b44_level0_row7\" class=\"row_heading level0 row7\" >tmin_mean</th>\n",
       "      <td id=\"T_96b44_row7_col0\" class=\"data row7 col0\" >-0.052167</td>\n",
       "      <td id=\"T_96b44_row7_col1\" class=\"data row7 col1\" >0.747339</td>\n",
       "      <td id=\"T_96b44_row7_col2\" class=\"data row7 col2\" >-0.434441</td>\n",
       "      <td id=\"T_96b44_row7_col3\" class=\"data row7 col3\" >0.338127</td>\n",
       "      <td id=\"T_96b44_row7_col4\" class=\"data row7 col4\" >0.510679</td>\n",
       "      <td id=\"T_96b44_row7_col5\" class=\"data row7 col5\" >0.477452</td>\n",
       "      <td id=\"T_96b44_row7_col6\" class=\"data row7 col6\" >0.914127</td>\n",
       "      <td id=\"T_96b44_row7_col7\" class=\"data row7 col7\" >1.000000</td>\n",
       "    </tr>\n",
       "  </tbody>\n",
       "</table>\n"
      ],
      "text/plain": [
       "<pandas.io.formats.style.Styler at 0x26da1f5acd0>"
      ]
     },
     "execution_count": 42,
     "metadata": {},
     "output_type": "execute_result"
    }
   ],
   "source": [
    "corr = FrogData.corr()\n",
    "corr.style.background_gradient()"
   ]
  },
  {
   "cell_type": "markdown",
   "id": "aae962e8",
   "metadata": {},
   "source": [
    "From the correlation matrix we can see that all the columns are related . We won't be using the Id column as that is considered categorical"
   ]
  },
  {
   "cell_type": "markdown",
   "id": "6080b50a",
   "metadata": {},
   "source": [
    "Final Analysis \n",
    "Australia has the highest number of species and frogs in general this is due to its decimalLongitude and decimalLatitude and soil habitat.\n",
    "\n",
    "The species do not appear in more than one continent. There are  specific species per continent.\n"
   ]
  }
 ],
 "metadata": {
  "kernelspec": {
   "display_name": "Python 3 (ipykernel)",
   "language": "python",
   "name": "python3"
  },
  "language_info": {
   "codemirror_mode": {
    "name": "ipython",
    "version": 3
   },
   "file_extension": ".py",
   "mimetype": "text/x-python",
   "name": "python",
   "nbconvert_exporter": "python",
   "pygments_lexer": "ipython3",
   "version": "3.9.7"
  }
 },
 "nbformat": 4,
 "nbformat_minor": 5
}
